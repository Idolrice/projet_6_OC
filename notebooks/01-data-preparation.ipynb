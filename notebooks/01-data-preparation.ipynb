{
  "cells": [
    {
      "cell_type": "markdown",
      "metadata": {
        "id": "PFIysSeF8wFR"
      },
      "source": [
        "\n",
        "\n",
        "* erp = pd.read_csv(\"ERP P6.csv\")\n",
        "* web = pd.read_csv(\".csv\")\n",
        "* caract_vin = pd.read_csv(\".csv\")\n",
        "* liaison = pd.read_csv(\".csv\")\n",
        "\n",
        "\n"
      ]
    },
    {
      "cell_type": "markdown",
      "metadata": {},
      "source": [
        "# Load des Datas"
      ]
    },
    {
      "cell_type": "markdown",
      "metadata": {
        "id": "q5K26cQjftqB"
      },
      "source": [
        "## Start fichier CSV ERP"
      ]
    },
    {
      "cell_type": "code",
      "execution_count": null,
      "metadata": {
        "id": "wEkfe9zrUMQN"
      },
      "outputs": [],
      "source": [
        "import numpy as np\n",
        "import pandas as pd\n",
        "import matplotlib.pyplot as plt\n",
        "import seaborn as sns"
      ]
    },
    {
      "cell_type": "code",
      "execution_count": null,
      "metadata": {},
      "outputs": [],
      "source": [
        "erp = pd.read_csv(\"../data/ERP P6.csv\")"
      ]
    },
    {
      "cell_type": "code",
      "execution_count": null,
      "metadata": {
        "colab": {
          "base_uri": "https://localhost:8080/",
          "height": 363
        },
        "id": "6x0yiCQJkmS-",
        "outputId": "b4aa0180-cd09-47e5-d75e-905cf6b5767b"
      },
      "outputs": [],
      "source": [
        "erp.tail(10)"
      ]
    },
    {
      "cell_type": "code",
      "execution_count": null,
      "metadata": {
        "colab": {
          "base_uri": "https://localhost:8080/",
          "height": 363
        },
        "id": "Jcl2nV0HkV0W",
        "outputId": "e4342ae9-b9dc-4f95-870f-e13b09b898a2"
      },
      "outputs": [],
      "source": [
        "erp.sample(10)"
      ]
    },
    {
      "cell_type": "code",
      "execution_count": null,
      "metadata": {
        "colab": {
          "base_uri": "https://localhost:8080/"
        },
        "id": "8RteY00WlKCR",
        "outputId": "658d0c32-1899-47b0-f6bc-82b77f6541b7"
      },
      "outputs": [],
      "source": [
        "erp.shape"
      ]
    },
    {
      "cell_type": "code",
      "execution_count": null,
      "metadata": {
        "colab": {
          "base_uri": "https://localhost:8080/"
        },
        "id": "vDtN329YlY7j",
        "outputId": "653a1498-ae71-418a-adce-60dd28a22b3a"
      },
      "outputs": [],
      "source": [
        "erp.info()"
      ]
    },
    {
      "cell_type": "code",
      "execution_count": null,
      "metadata": {
        "colab": {
          "base_uri": "https://localhost:8080/"
        },
        "id": "kTGUr9zblpDL",
        "outputId": "249ff72e-c9ea-4e21-9def-f44c07b555db"
      },
      "outputs": [],
      "source": [
        "erp.dtypes.value_counts()"
      ]
    },
    {
      "cell_type": "code",
      "execution_count": null,
      "metadata": {
        "colab": {
          "base_uri": "https://localhost:8080/"
        },
        "id": "XTBUqbOil6ch",
        "outputId": "ed2d61d7-1eb6-45c9-b907-041f832e0d32"
      },
      "outputs": [],
      "source": [
        "erp.isna().sum()"
      ]
    },
    {
      "cell_type": "code",
      "execution_count": null,
      "metadata": {
        "colab": {
          "base_uri": "https://localhost:8080/"
        },
        "id": "Wm_4UP1Umezq",
        "outputId": "7515c2d2-aa10-4e80-8478-1c872f97d78c"
      },
      "outputs": [],
      "source": [
        "erp.isna().mean().round(2)"
      ]
    },
    {
      "cell_type": "code",
      "execution_count": null,
      "metadata": {
        "colab": {
          "base_uri": "https://localhost:8080/"
        },
        "id": "VwIMF4ntmrgV",
        "outputId": "c2ce2848-9952-4952-9f81-ff2dc0b6dc54"
      },
      "outputs": [],
      "source": [
        "erp.nunique()\n",
        "#PK product_id,\n",
        "#type Boléen : onsale_web / stock_status = erp['onsale_web','stock_status'].astype(bool)\n",
        "#type Float : price = erp['price'].astype(float)"
      ]
    },
    {
      "cell_type": "markdown",
      "metadata": {
        "id": "3f3vh22qguGy"
      },
      "source": []
    },
    {
      "cell_type": "markdown",
      "metadata": {
        "id": "8TSaPB6KggQ9"
      },
      "source": [
        "## fichier CSV caracteristiques_vins"
      ]
    },
    {
      "cell_type": "code",
      "execution_count": null,
      "metadata": {
        "colab": {
          "base_uri": "https://localhost:8080/",
          "height": 310
        },
        "id": "NE9jDQKybHuD",
        "outputId": "bdda29d2-2bb6-4739-b94f-2b8f2ffe23b3"
      },
      "outputs": [],
      "source": [
        "carat_vin = pd.read_csv(\"../data/Caractéristiques_vins P6 - caracteristiques_vins.csv\")"
      ]
    },
    {
      "cell_type": "code",
      "execution_count": null,
      "metadata": {
        "colab": {
          "base_uri": "https://localhost:8080/",
          "height": 675
        },
        "id": "gI4VSOavoqZ-",
        "outputId": "fb4fa39f-21da-4de7-966e-00e1bbd14c96"
      },
      "outputs": [],
      "source": [
        "carat_vin.tail(10)"
      ]
    },
    {
      "cell_type": "code",
      "execution_count": null,
      "metadata": {
        "colab": {
          "base_uri": "https://localhost:8080/",
          "height": 693
        },
        "id": "2n3vz_4xo6D6",
        "outputId": "34450cbc-bc95-4347-ac64-3b92575a3a8e"
      },
      "outputs": [],
      "source": [
        "carat_vin.sample(10)"
      ]
    },
    {
      "cell_type": "code",
      "execution_count": null,
      "metadata": {
        "colab": {
          "base_uri": "https://localhost:8080/"
        },
        "id": "xYp9Za8rpZL7",
        "outputId": "5941b8e7-721e-4517-a3b9-402cf97f3d24"
      },
      "outputs": [],
      "source": [
        "carat_vin.shape"
      ]
    },
    {
      "cell_type": "code",
      "execution_count": null,
      "metadata": {
        "colab": {
          "base_uri": "https://localhost:8080/"
        },
        "id": "VSPVCdWQpkYc",
        "outputId": "bf60bfe8-89d4-42d8-8a26-337eb0b4cb42"
      },
      "outputs": [],
      "source": [
        "carat_vin.info()"
      ]
    },
    {
      "cell_type": "code",
      "execution_count": null,
      "metadata": {
        "colab": {
          "base_uri": "https://localhost:8080/"
        },
        "id": "x8jfJXZ-qH41",
        "outputId": "a9ad6aa3-3c2f-42f6-f279-2eab45fec1a9"
      },
      "outputs": [],
      "source": [
        "carat_vin.dtypes"
      ]
    },
    {
      "cell_type": "code",
      "execution_count": null,
      "metadata": {
        "colab": {
          "base_uri": "https://localhost:8080/"
        },
        "id": "ZTn7s-JEqRF7",
        "outputId": "0b956cd9-41c6-4ed6-b1ac-ac9dfe028d17"
      },
      "outputs": [],
      "source": [
        "carat_vin.dtypes.value_counts()"
      ]
    },
    {
      "cell_type": "code",
      "execution_count": null,
      "metadata": {
        "colab": {
          "base_uri": "https://localhost:8080/",
          "height": 424
        },
        "id": "fFlbFosTq00g",
        "outputId": "76a0224f-f862-4369-89af-494c13916320"
      },
      "outputs": [],
      "source": [
        "carat_vin.isna()"
      ]
    },
    {
      "cell_type": "code",
      "execution_count": null,
      "metadata": {
        "colab": {
          "base_uri": "https://localhost:8080/"
        },
        "id": "JVCtlIynrEbW",
        "outputId": "e90df139-020b-4d3e-b24f-3b9a6263a5c1"
      },
      "outputs": [],
      "source": [
        "carat_vin.isna().sum()"
      ]
    },
    {
      "cell_type": "code",
      "execution_count": null,
      "metadata": {
        "colab": {
          "base_uri": "https://localhost:8080/"
        },
        "id": "StPjKeZrrT-N",
        "outputId": "57e099b8-887c-4759-8baf-9841e2305d6b"
      },
      "outputs": [],
      "source": [
        "carat_vin.isna().mean().round(2)"
      ]
    },
    {
      "cell_type": "code",
      "execution_count": null,
      "metadata": {
        "colab": {
          "base_uri": "https://localhost:8080/"
        },
        "id": "ydi-U430rw7C",
        "outputId": "2c6da4b6-abbe-473e-f3e3-06b7f6afa248"
      },
      "outputs": [],
      "source": [
        "carat_vin.isna().mean().round(2).sort_values(ascending = False)"
      ]
    },
    {
      "cell_type": "code",
      "execution_count": null,
      "metadata": {
        "colab": {
          "base_uri": "https://localhost:8080/"
        },
        "id": "G5jXH6QRsox8",
        "outputId": "036c698c-e807-4c88-abce-330c2ade5ed3"
      },
      "outputs": [],
      "source": [
        "carat_vin.isna().mean(axis=1).round(2).sort_values(ascending = False)"
      ]
    },
    {
      "cell_type": "code",
      "execution_count": null,
      "metadata": {
        "colab": {
          "base_uri": "https://localhost:8080/"
        },
        "id": "Jr9aCHtUtMwK",
        "outputId": "729a0710-f45f-427c-afa1-db7b080cfc1c"
      },
      "outputs": [],
      "source": [
        "tnp = carat_vin.isna().mean(axis=1).round(2).sort_values(ascending = False).value_counts()\n",
        "tnp"
      ]
    },
    {
      "cell_type": "code",
      "execution_count": null,
      "metadata": {
        "colab": {
          "base_uri": "https://localhost:8080/",
          "height": 287
        },
        "id": "BEU2VjU0u4Ai",
        "outputId": "b76c1101-e78e-4af8-9a4a-75626c3af28f"
      },
      "outputs": [],
      "source": [
        "sns.heatmap(carat_vin.isna())"
      ]
    },
    {
      "cell_type": "code",
      "execution_count": null,
      "metadata": {
        "colab": {
          "base_uri": "https://localhost:8080/"
        },
        "id": "SY06G0kywBe4",
        "outputId": "c670da8c-9aa3-4636-aa28-d8e5e5c157fd"
      },
      "outputs": [],
      "source": [
        "carat_vin.post_name.nunique()"
      ]
    },
    {
      "cell_type": "code",
      "execution_count": null,
      "metadata": {
        "colab": {
          "base_uri": "https://localhost:8080/"
        },
        "id": "b3q8l2cDw36R",
        "outputId": "d28363a4-fa33-44d9-883e-050318c6b815"
      },
      "outputs": [],
      "source": [
        "carat_vin.nunique()"
      ]
    },
    {
      "cell_type": "code",
      "execution_count": null,
      "metadata": {
        "id": "lNMWCQnBxRRj"
      },
      "outputs": [],
      "source": [
        "# la même chose pour 3 fichiers / (+ rename + suppr index 70% empty) = carat_vin.drop('')\n",
        "#PK : post_name\n",
        "#Millésime ? INT"
      ]
    },
    {
      "cell_type": "markdown",
      "metadata": {
        "id": "xZZOG-XPhQl9"
      },
      "source": [
        "## fichier CSV WEB"
      ]
    },
    {
      "cell_type": "code",
      "execution_count": null,
      "metadata": {
        "colab": {
          "base_uri": "https://localhost:8080/",
          "height": 620
        },
        "id": "vaCuk3TlhpWu",
        "outputId": "4900e75d-017c-4573-8694-89534761f38b"
      },
      "outputs": [],
      "source": [
        "web =pd.read_csv(\"../data/WEB P6.csv\")\n",
        "web.head()"
      ]
    },
    {
      "cell_type": "code",
      "execution_count": null,
      "metadata": {
        "colab": {
          "base_uri": "https://localhost:8080/",
          "height": 1000
        },
        "id": "RBn35hCIh-Wk",
        "outputId": "08a9d79a-c430-4f1d-a0e9-bedcc9faaa44"
      },
      "outputs": [],
      "source": [
        "web.tail(10)"
      ]
    },
    {
      "cell_type": "code",
      "execution_count": null,
      "metadata": {
        "colab": {
          "base_uri": "https://localhost:8080/",
          "height": 916
        },
        "id": "_HUyEJzyizaW",
        "outputId": "45f6f140-f5b5-4f22-a9c5-8f34c3e51fdc"
      },
      "outputs": [],
      "source": [
        "web.sample(10)"
      ]
    },
    {
      "cell_type": "code",
      "execution_count": null,
      "metadata": {
        "colab": {
          "base_uri": "https://localhost:8080/"
        },
        "id": "5lLmhj06izFP",
        "outputId": "9d70ba40-c00c-4ed5-e7ff-de52b8aae343"
      },
      "outputs": [],
      "source": [
        "web.shape"
      ]
    },
    {
      "cell_type": "code",
      "execution_count": null,
      "metadata": {
        "colab": {
          "base_uri": "https://localhost:8080/"
        },
        "id": "y3XxaZ4EpDB2",
        "outputId": "43e30df3-e62a-481f-c6a0-9f35fa8d65fa"
      },
      "outputs": [],
      "source": [
        "web.dtypes\n",
        "#booléen : post_author post_type\n",
        "#INT : SKU total_sales\n",
        "#date ? post_date, post_modified"
      ]
    },
    {
      "cell_type": "code",
      "execution_count": null,
      "metadata": {
        "colab": {
          "base_uri": "https://localhost:8080/"
        },
        "id": "9_A5MWaY8fCa",
        "outputId": "f877895c-c282-4607-ab0e-c43b7f698ddd"
      },
      "outputs": [],
      "source": [
        "web.loc[:,\"post_name\"]"
      ]
    },
    {
      "cell_type": "code",
      "execution_count": null,
      "metadata": {
        "colab": {
          "base_uri": "https://localhost:8080/"
        },
        "id": "en6UlgQJpSN-",
        "outputId": "b2d3b8b6-74ad-4ddb-c040-c62de515ee5c"
      },
      "outputs": [],
      "source": [
        "web.dtypes.value_counts()"
      ]
    },
    {
      "cell_type": "code",
      "execution_count": null,
      "metadata": {
        "colab": {
          "base_uri": "https://localhost:8080/",
          "height": 444
        },
        "id": "vxuZF9M4prXl",
        "outputId": "a0295d58-ea42-4be8-f82f-36463a095399"
      },
      "outputs": [],
      "source": [
        "web.isna()"
      ]
    },
    {
      "cell_type": "code",
      "execution_count": null,
      "metadata": {
        "colab": {
          "base_uri": "https://localhost:8080/"
        },
        "id": "A7NmNwneqS08",
        "outputId": "fc02e67e-5f8e-4eca-8d38-db92e57e1e45"
      },
      "outputs": [],
      "source": [
        "web.isna().sum()"
      ]
    },
    {
      "cell_type": "code",
      "execution_count": null,
      "metadata": {
        "colab": {
          "base_uri": "https://localhost:8080/"
        },
        "id": "8xSIYUJVqWKY",
        "outputId": "76dd587e-5ec2-45a2-b8ec-8215d4a9c35d"
      },
      "outputs": [],
      "source": [
        "web.isna().mean().round(2)"
      ]
    },
    {
      "cell_type": "code",
      "execution_count": null,
      "metadata": {
        "colab": {
          "base_uri": "https://localhost:8080/"
        },
        "id": "znIyKZLFsYY2",
        "outputId": "10f97373-d02e-4b61-be28-16ddeaffd4d1"
      },
      "outputs": [],
      "source": [
        "web.isna().mean(axis=1).round(2).sort_values(ascending = False)"
      ]
    },
    {
      "cell_type": "code",
      "execution_count": null,
      "metadata": {
        "colab": {
          "base_uri": "https://localhost:8080/"
        },
        "id": "1IVmdWOt5-T4",
        "outputId": "d0326487-add3-4253-b244-73ef15142ced"
      },
      "outputs": [],
      "source": [
        "hmweb = web.isna().mean(axis=1).round(2).sort_values(ascending = False).value_counts()\n",
        "hmweb"
      ]
    },
    {
      "cell_type": "code",
      "execution_count": null,
      "metadata": {
        "colab": {
          "base_uri": "https://localhost:8080/",
          "height": 287
        },
        "id": "3OFk4nGUtkSE",
        "outputId": "176573d9-a353-4af5-a796-487b886d7b2e"
      },
      "outputs": [],
      "source": [
        "sns.heatmap(web.isna())"
      ]
    },
    {
      "cell_type": "code",
      "execution_count": null,
      "metadata": {
        "colab": {
          "base_uri": "https://localhost:8080/"
        },
        "id": "4QesYWZZqKx9",
        "outputId": "9f275b44-6cd1-49d9-8104-a5e79e459d64"
      },
      "outputs": [],
      "source": [
        "web.nunique()\n",
        "#Main / PK : guid ?\n",
        "#FK : post_name & SKU ?\n",
        "#web.drop(columns='xx')\n",
        "#SUPPR columns virtual downloadable  rating_count average_rating tax_status tax_class post_date_gmt post_modified_gmt post_content post_status comment_status ping_status post_password post_content_filtered post_parent menu_order post_mime_type comment_count"
      ]
    },
    {
      "cell_type": "markdown",
      "metadata": {
        "id": "7Bz4x4ymixEx"
      },
      "source": [
        "## fichier CSV Liaison"
      ]
    },
    {
      "cell_type": "code",
      "execution_count": null,
      "metadata": {
        "colab": {
          "base_uri": "https://localhost:8080/",
          "height": 206
        },
        "id": "wbAR53pjjIYg",
        "outputId": "4ebc4227-9d4d-4a6f-dd8c-3ec41752d9a0"
      },
      "outputs": [],
      "source": [
        "liaison =pd.read_csv(\"../data/Liaison P6.csv\")\n",
        "liaison.head()"
      ]
    },
    {
      "cell_type": "code",
      "execution_count": null,
      "metadata": {
        "colab": {
          "base_uri": "https://localhost:8080/",
          "height": 206
        },
        "id": "nsUlSGWrjZ0n",
        "outputId": "55e62bf4-bc77-4799-cf1e-f7f07ca6a6b6"
      },
      "outputs": [],
      "source": [
        "liaison.tail()"
      ]
    },
    {
      "cell_type": "code",
      "execution_count": null,
      "metadata": {
        "colab": {
          "base_uri": "https://localhost:8080/",
          "height": 677
        },
        "id": "O25fCUyT7ji-",
        "outputId": "ef16abee-a812-4f7d-924f-f26b8e17eacd"
      },
      "outputs": [],
      "source": [
        "liaison.sample(20)"
      ]
    },
    {
      "cell_type": "code",
      "execution_count": null,
      "metadata": {
        "colab": {
          "base_uri": "https://localhost:8080/"
        },
        "id": "gRU5DZcs6Q64",
        "outputId": "fbef1557-087f-4250-fdad-8b3cfbae17b9"
      },
      "outputs": [],
      "source": [
        "liaison.shape"
      ]
    },
    {
      "cell_type": "code",
      "execution_count": null,
      "metadata": {
        "colab": {
          "base_uri": "https://localhost:8080/"
        },
        "id": "K9BLr0HB6Uwq",
        "outputId": "86fca0a4-1e56-4125-fdff-038b817f5398"
      },
      "outputs": [],
      "source": [
        "liaison.dtypes"
      ]
    },
    {
      "cell_type": "code",
      "execution_count": null,
      "metadata": {
        "colab": {
          "base_uri": "https://localhost:8080/"
        },
        "id": "VNv5DUgN6lrc",
        "outputId": "fdff2c9c-08d5-47d5-da7a-96ce46405320"
      },
      "outputs": [],
      "source": [
        "liaison.isna().sum()"
      ]
    },
    {
      "cell_type": "code",
      "execution_count": null,
      "metadata": {
        "colab": {
          "base_uri": "https://localhost:8080/"
        },
        "id": "lOdw1gJ9612m",
        "outputId": "bd3a547d-4cdb-4024-c123-d50640412803"
      },
      "outputs": [],
      "source": [
        "liaison.isna().mean().round(2)"
      ]
    },
    {
      "cell_type": "code",
      "execution_count": null,
      "metadata": {
        "colab": {
          "base_uri": "https://localhost:8080/"
        },
        "id": "AfCc1g5O7M-N",
        "outputId": "12f51c11-76ff-41bb-8982-54fe3aeedab1"
      },
      "outputs": [],
      "source": [
        "liaison.nunique()\n",
        "#PK : 825\n",
        "#attention bon-cadeau-25-euros"
      ]
    },
    {
      "cell_type": "markdown",
      "metadata": {},
      "source": [
        "### CLEANING"
      ]
    },
    {
      "cell_type": "code",
      "execution_count": null,
      "metadata": {},
      "outputs": [],
      "source": [
        "#SUPPR columns virtual downloadable  rating_count average_rating tax_status tax_class post_date_gmt post_modified_gmt post_content post_status comment_status ping_status post_password post_content_filtered post_parent menu_order post_mime_type comment_count"
      ]
    },
    {
      "cell_type": "code",
      "execution_count": null,
      "metadata": {},
      "outputs": [],
      "source": [
        "web.drop(columns=['virtual','downloadable','rating_count','average_rating','tax_status','tax_class','post_date_gmt','post_modified_gmt','post_content',\n",
        "                  'post_status','comment_status','ping_status','post_password','post_content_filtered','post_parent','menu_order','post_mime_type',\n",
        "                  'comment_count'])"
      ]
    },
    {
      "cell_type": "code",
      "execution_count": null,
      "metadata": {},
      "outputs": [],
      "source": [
        "#type Boléen : onsale_web / stock_status = erp['onsale_web','stock_status'].astype(bool)\n",
        "erp['onsale_web']= erp['onsale_web'].astype(bool)"
      ]
    },
    {
      "cell_type": "code",
      "execution_count": null,
      "metadata": {},
      "outputs": [],
      "source": [
        "erp[\"stock_status\"]= erp['stock_status'].astype(bool)\n",
        "print(erp.dtypes)"
      ]
    },
    {
      "cell_type": "code",
      "execution_count": null,
      "metadata": {},
      "outputs": [],
      "source": [
        "erp.price = erp.price.str.replace(\",\",\".\")"
      ]
    },
    {
      "cell_type": "code",
      "execution_count": null,
      "metadata": {},
      "outputs": [],
      "source": [
        "erp"
      ]
    },
    {
      "cell_type": "code",
      "execution_count": null,
      "metadata": {},
      "outputs": [],
      "source": [
        "erp[\"price\"] = erp.price.astype(float)\n",
        "print(erp.dtypes)"
      ]
    },
    {
      "cell_type": "code",
      "execution_count": null,
      "metadata": {},
      "outputs": [],
      "source": [
        "#booléen : post_author post_type\n",
        "#INT : SKU total_sales\n",
        "web[\"post_type\"] = web[\"post_type\"].astype(bool)\n",
        "web[\"post_author\"] = web[\"post_author\"].astype(bool)\n",
        "print(web.dtypes)"
      ]
    },
    {
      "cell_type": "code",
      "execution_count": null,
      "metadata": {},
      "outputs": [],
      "source": [
        "web['total_sales'].fillna(0, inplace=True)\n",
        "web['total_sales'] = web['total_sales'].astype(int)\n",
        "print(web.dtypes)"
      ]
    },
    {
      "cell_type": "code",
      "execution_count": null,
      "metadata": {},
      "outputs": [],
      "source": [
        "#millésime=INT carat_vin\n",
        "carat_vin['Millésime'].fillna(0, inplace=True)\n",
        "carat_vin['Millésime'] = carat_vin['Millésime'].astype(int)\n",
        "print(carat_vin.dtypes)\n"
      ]
    },
    {
      "cell_type": "code",
      "execution_count": null,
      "metadata": {},
      "outputs": [],
      "source": [
        "# Remplacer les valeurs non numériques par NaN\n",
        "web['sku'] = pd.to_numeric(web['sku'], errors='coerce')\n",
        "\n",
        "# Afficher les types de données après la conversion\n",
        "print(web.dtypes)"
      ]
    },
    {
      "cell_type": "code",
      "execution_count": null,
      "metadata": {},
      "outputs": [],
      "source": [
        "print(web)"
      ]
    },
    {
      "cell_type": "code",
      "execution_count": null,
      "metadata": {},
      "outputs": [],
      "source": [
        "# Remplacer les valeurs non numériques par NaN\n",
        "liaison['id_web = SKU'] = pd.to_numeric(liaison['id_web = SKU'], errors='coerce')\n",
        "\n",
        "# Afficher les types de données après la conversion\n",
        "print(liaison.dtypes)"
      ]
    },
    {
      "cell_type": "code",
      "execution_count": null,
      "metadata": {},
      "outputs": [],
      "source": [
        "#plutôt qu'un drop, ne devrais-je pas utiliser del pour supprimer vraiment les colonnes ? NON\n",
        "#'sku' web je l'ai rtransformé en float ainsi que 'id-web=sku' liaison (pas de suppression de ligne)\n",
        "#OK ?"
      ]
    },
    {
      "cell_type": "markdown",
      "metadata": {},
      "source": [
        "MERGE"
      ]
    },
    {
      "cell_type": "code",
      "execution_count": null,
      "metadata": {},
      "outputs": [],
      "source": [
        "liaison.columns=['product_id','sku']"
      ]
    },
    {
      "cell_type": "code",
      "execution_count": null,
      "metadata": {},
      "outputs": [],
      "source": [
        "liaison"
      ]
    },
    {
      "cell_type": "code",
      "execution_count": null,
      "metadata": {},
      "outputs": [],
      "source": [
        "liaison['sku'].fillna(-1,inplace=True)"
      ]
    },
    {
      "cell_type": "code",
      "execution_count": null,
      "metadata": {},
      "outputs": [],
      "source": [
        "liaison = liaison.astype(int)"
      ]
    },
    {
      "cell_type": "code",
      "execution_count": null,
      "metadata": {},
      "outputs": [],
      "source": [
        "liaison.dtypes"
      ]
    },
    {
      "cell_type": "markdown",
      "metadata": {},
      "source": [
        "# Merges"
      ]
    },
    {
      "cell_type": "markdown",
      "metadata": {},
      "source": [
        "## erp_liaison"
      ]
    },
    {
      "cell_type": "code",
      "execution_count": null,
      "metadata": {},
      "outputs": [],
      "source": [
        "merged_erp_liaison = pd.merge(erp, liaison, on='product_id', how='outer', indicator=True)\n",
        "display(merged_erp_liaison)"
      ]
    },
    {
      "cell_type": "code",
      "execution_count": null,
      "metadata": {},
      "outputs": [],
      "source": [
        "erp.shape"
      ]
    },
    {
      "cell_type": "code",
      "execution_count": null,
      "metadata": {},
      "outputs": [],
      "source": [
        "liaison.shape"
      ]
    },
    {
      "cell_type": "code",
      "execution_count": null,
      "metadata": {},
      "outputs": [],
      "source": [
        "merged_erp_liaison._merge.value_counts()"
      ]
    },
    {
      "cell_type": "code",
      "execution_count": null,
      "metadata": {},
      "outputs": [],
      "source": [
        "sns.heatmap(merged_erp_liaison.isna())"
      ]
    },
    {
      "cell_type": "code",
      "execution_count": null,
      "metadata": {},
      "outputs": [],
      "source": [
        "merged_erp_liaison"
      ]
    },
    {
      "cell_type": "code",
      "execution_count": null,
      "metadata": {},
      "outputs": [],
      "source": [
        "# Fusionner erp et web sur la colonne 'product_id'\n",
        "#merged_erp_liaison = pd.merge(erp, liaison, on='product_id', how='outer')\n",
        "\n",
        "# Fusionner le résultat précédent avec le DataFrame liaison sur la colonne 'id_web = SKU'\n",
        "#merged_erp_web = pd.merge(merged_erp_liaison, web, on='sku', how='outer')\n",
        "\n",
        "# Fusionner le résultat précédent avec le DataFrame carat_vin sur la colonne 'id_web = SKU'\n",
        "#allin = pd.merge(merged_erp_web_liaison, carat_vin, on='post_name', how='outer')\n",
        "\n",
        "# Afficher le résultat\n",
        "#display(allin)\n",
        "#check fichier ERP & WEB (SURTOUT WEB)"
      ]
    },
    {
      "cell_type": "code",
      "execution_count": null,
      "metadata": {},
      "outputs": [],
      "source": [
        "merged_erp_liaison.dtypes"
      ]
    },
    {
      "cell_type": "code",
      "execution_count": null,
      "metadata": {},
      "outputs": [],
      "source": [
        "web.dtypes"
      ]
    },
    {
      "cell_type": "code",
      "execution_count": null,
      "metadata": {},
      "outputs": [],
      "source": [
        "erp"
      ]
    },
    {
      "cell_type": "code",
      "execution_count": null,
      "metadata": {},
      "outputs": [],
      "source": [
        "carat_vin"
      ]
    },
    {
      "cell_type": "code",
      "execution_count": null,
      "metadata": {},
      "outputs": [],
      "source": [
        "web"
      ]
    },
    {
      "cell_type": "markdown",
      "metadata": {},
      "source": [
        "liaison"
      ]
    },
    {
      "cell_type": "code",
      "execution_count": null,
      "metadata": {},
      "outputs": [],
      "source": [
        "web.sku.isna().sum()"
      ]
    },
    {
      "cell_type": "code",
      "execution_count": null,
      "metadata": {},
      "outputs": [],
      "source": [
        "web.sku.isna().mean()"
      ]
    },
    {
      "cell_type": "markdown",
      "metadata": {},
      "source": [
        "### ATTENTION OPTION BOURINE  = >  A AFFINER ! / CORRIGER"
      ]
    },
    {
      "cell_type": "code",
      "execution_count": null,
      "metadata": {},
      "outputs": [],
      "source": [
        "_web = web.dropna(subset=['sku'])\n",
        "_web"
      ]
    },
    {
      "cell_type": "code",
      "execution_count": null,
      "metadata": {},
      "outputs": [],
      "source": [
        "web.shape"
      ]
    },
    {
      "cell_type": "code",
      "execution_count": null,
      "metadata": {},
      "outputs": [],
      "source": [
        "_web.shape"
      ]
    },
    {
      "cell_type": "code",
      "execution_count": null,
      "metadata": {},
      "outputs": [],
      "source": [
        "WEB_SAVE = web.copy()"
      ]
    },
    {
      "cell_type": "code",
      "execution_count": null,
      "metadata": {},
      "outputs": [],
      "source": [
        "web = web.dropna(subset=[\"sku\"])\n",
        "web"
      ]
    },
    {
      "cell_type": "code",
      "execution_count": null,
      "metadata": {},
      "outputs": [],
      "source": [
        "web['sku'] = web['sku'].astype(int)"
      ]
    },
    {
      "cell_type": "code",
      "execution_count": null,
      "metadata": {},
      "outputs": [],
      "source": [
        "web.sku.dtypes"
      ]
    },
    {
      "cell_type": "code",
      "execution_count": null,
      "metadata": {},
      "outputs": [],
      "source": [
        "merged_erp_liaison.sku.dtypes"
      ]
    },
    {
      "cell_type": "markdown",
      "metadata": {},
      "source": [
        "## merged_erp_liaison and web"
      ]
    },
    {
      "cell_type": "code",
      "execution_count": null,
      "metadata": {},
      "outputs": [],
      "source": [
        "merged_erp_liaison.drop(columns=['_merge'], inplace=True, errors=\"ignore\")\n",
        "merged_erp_liaison"
      ]
    },
    {
      "cell_type": "code",
      "execution_count": null,
      "metadata": {},
      "outputs": [],
      "source": [
        "merged_erp_web = pd.merge(merged_erp_liaison, web, on='sku', how='outer', indicator=True)\n",
        "merged_erp_web"
      ]
    },
    {
      "cell_type": "code",
      "execution_count": null,
      "metadata": {},
      "outputs": [],
      "source": [
        "sns.heatmap(merged_erp_web.isna())"
      ]
    },
    {
      "cell_type": "code",
      "execution_count": null,
      "metadata": {},
      "outputs": [],
      "source": [
        "merged_erp_web['post_name'] = merged_erp_web['post_name'].astype(str)\n",
        "carat_vin['post_name'] = carat_vin['post_name'].astype(str)"
      ]
    },
    {
      "cell_type": "code",
      "execution_count": null,
      "metadata": {},
      "outputs": [],
      "source": [
        "merged_erp_web.drop(columns=['virtual','downloadable','rating_count','average_rating','tax_status','tax_class','post_date_gmt','post_modified_gmt','post_content',\n",
        "                  'post_status','comment_status','ping_status','post_password','post_content_filtered','post_parent','menu_order','post_mime_type',\n",
        "                  'comment_count'])"
      ]
    },
    {
      "cell_type": "markdown",
      "metadata": {},
      "source": [
        "##  merged_erp_web and carat_vin"
      ]
    },
    {
      "cell_type": "code",
      "execution_count": null,
      "metadata": {},
      "outputs": [],
      "source": [
        "merged_erp_web"
      ]
    },
    {
      "cell_type": "code",
      "execution_count": null,
      "metadata": {},
      "outputs": [],
      "source": [
        "merged_erp_web.columns"
      ]
    },
    {
      "cell_type": "code",
      "execution_count": null,
      "metadata": {},
      "outputs": [],
      "source": [
        "[i for i in merged_erp_web.columns if  \"post_name\" in i]"
      ]
    },
    {
      "cell_type": "code",
      "execution_count": null,
      "metadata": {},
      "outputs": [],
      "source": [
        "carat_vin.columns"
      ]
    },
    {
      "cell_type": "code",
      "execution_count": null,
      "metadata": {},
      "outputs": [],
      "source": [
        "allin = pd.merge(merged_erp_web, carat_vin, on='post_name', how='outer')\n",
        "allin"
      ]
    },
    {
      "cell_type": "code",
      "execution_count": null,
      "metadata": {},
      "outputs": [],
      "source": [
        "sns.heatmap(allin.isna())"
      ]
    },
    {
      "cell_type": "code",
      "execution_count": null,
      "metadata": {},
      "outputs": [],
      "source": [
        "allin.drop(columns=['virtual','downloadable','rating_count','average_rating','tax_status','tax_class','post_date_gmt','post_modified_gmt','post_content',\n",
        "                  'post_status','comment_status','ping_status','post_password','post_content_filtered','post_parent','menu_order','post_mime_type',\n",
        "                  'comment_count'])"
      ]
    },
    {
      "cell_type": "code",
      "execution_count": null,
      "metadata": {},
      "outputs": [],
      "source": [
        "sns.heatmap(allin.isna())"
      ]
    },
    {
      "cell_type": "code",
      "execution_count": null,
      "metadata": {},
      "outputs": [],
      "source": [
        "allin.dtypes"
      ]
    },
    {
      "cell_type": "code",
      "execution_count": null,
      "metadata": {},
      "outputs": [],
      "source": [
        "merged_erp_web.dtypes"
      ]
    },
    {
      "cell_type": "code",
      "execution_count": null,
      "metadata": {},
      "outputs": [],
      "source": [
        "merged_erp_liaison.dtypes"
      ]
    },
    {
      "cell_type": "code",
      "execution_count": null,
      "metadata": {},
      "outputs": [],
      "source": [
        "sns.heatmap(allin.isna())"
      ]
    },
    {
      "cell_type": "markdown",
      "metadata": {},
      "source": [
        "# Cleaning Allin #"
      ]
    },
    {
      "cell_type": "code",
      "execution_count": null,
      "metadata": {},
      "outputs": [],
      "source": [
        "allin.drop(columns=['virtual','downloadable','rating_count','average_rating','tax_status','tax_class','post_date_gmt','post_modified_gmt','post_content',\n",
        "                  'post_status','comment_status','ping_status','post_password','post_content_filtered','post_parent','menu_order','post_mime_type',\n",
        "                  'comment_count'], inplace=True)"
      ]
    },
    {
      "cell_type": "code",
      "execution_count": null,
      "metadata": {},
      "outputs": [],
      "source": [
        "allin.drop(columns=['post_author','post_type','Cépage (decider avec ou sans %)','Garde','Température dégustation','Alliance mets','post_excerpt','guid']\n",
        "           ,inplace=True)"
      ]
    },
    {
      "cell_type": "code",
      "execution_count": null,
      "metadata": {},
      "outputs": [],
      "source": [
        "allin"
      ]
    },
    {
      "cell_type": "code",
      "execution_count": null,
      "metadata": {},
      "outputs": [],
      "source": [
        "allin.dtypes"
      ]
    },
    {
      "cell_type": "code",
      "execution_count": null,
      "metadata": {},
      "outputs": [],
      "source": [
        "print(allin['Millésime'].unique())"
      ]
    },
    {
      "cell_type": "code",
      "execution_count": null,
      "metadata": {},
      "outputs": [],
      "source": [
        "# Remplacer les valeurs NaN et 0 par une valeur valide ou les supprimer\n",
        "allin['Millésime'].fillna(0, inplace=True)  # Remplacez NaN par 0\n",
        "\n",
        "# Convertir les valeurs décimales en entiers\n",
        "allin['Millésime'] = allin['Millésime'].astype(int)\n",
        "\n",
        "# Afficher les types de données après la conversion\n",
        "print(allin['Millésime'].dtype)\n"
      ]
    },
    {
      "cell_type": "code",
      "execution_count": null,
      "metadata": {},
      "outputs": [],
      "source": [
        "allin.dtypes"
      ]
    },
    {
      "cell_type": "code",
      "execution_count": null,
      "metadata": {},
      "outputs": [],
      "source": [
        "allin"
      ]
    },
    {
      "cell_type": "code",
      "execution_count": null,
      "metadata": {},
      "outputs": [],
      "source": [
        "# Utiliser la méthode drop pour supprimer les lignes avec les indices spécifiés\n",
        "allin = allin.drop(range(1072, 1185))\n",
        "\n",
        "# Réindexer le DataFrame après la suppression des lignes\n",
        "allin = allin.reset_index(drop=True)"
      ]
    },
    {
      "cell_type": "code",
      "execution_count": null,
      "metadata": {},
      "outputs": [],
      "source": [
        "allin"
      ]
    },
    {
      "cell_type": "code",
      "execution_count": null,
      "metadata": {},
      "outputs": [],
      "source": [
        "# Supprimer la ligne contenant la valeur 4099 dans la colonne 'product_id'\n",
        "allin = allin[allin['product_id'] != 4099]\n",
        "\n",
        "# Afficher le DataFrame après la première suppression\n",
        "print(allin)\n",
        "\n",
        "# Supprimer la ligne contenant la valeur 4055 dans la colonne 'product_id'\n",
        "allin = allin[allin['product_id'] != 4055]\n",
        "\n",
        "# Afficher le DataFrame après la deuxième suppression\n",
        "print(allin)"
      ]
    },
    {
      "cell_type": "code",
      "execution_count": null,
      "metadata": {},
      "outputs": [],
      "source": [
        "allin.to_csv('allin_for_analyze.csv', index=False)  # index=False pour ne pas inclure l'index dans le new fichier CSV\n"
      ]
    }
  ],
  "metadata": {
    "colab": {
      "provenance": []
    },
    "kernelspec": {
      "display_name": "Python 3",
      "name": "python3"
    },
    "language_info": {
      "codemirror_mode": {
        "name": "ipython",
        "version": 3
      },
      "file_extension": ".py",
      "mimetype": "text/x-python",
      "name": "python",
      "nbconvert_exporter": "python",
      "pygments_lexer": "ipython3",
      "version": "3.11.9"
    }
  },
  "nbformat": 4,
  "nbformat_minor": 0
}
