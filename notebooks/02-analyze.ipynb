{
 "cells": [
  {
   "cell_type": "markdown",
   "metadata": {},
   "source": [
    "# Notebook d'Analyse"
   ]
  },
  {
   "cell_type": "markdown",
   "metadata": {},
   "source": [
    "## Preliminaries"
   ]
  },
  {
   "cell_type": "markdown",
   "metadata": {},
   "source": [
    "### Imports"
   ]
  },
  {
   "cell_type": "code",
   "execution_count": 5,
   "metadata": {},
   "outputs": [],
   "source": [
    "import numpy as np\n",
    "import pandas as pd"
   ]
  },
  {
   "cell_type": "code",
   "execution_count": 48,
   "metadata": {},
   "outputs": [],
   "source": [
    "\n",
    "import matplotlib.pyplot as plt\n",
    "import seaborn as sns\n",
    "import plotly.express as px\n",
    "import plotly.graph_objects as go"
   ]
  },
  {
   "cell_type": "markdown",
   "metadata": {},
   "source": [
    "### Data"
   ]
  },
  {
   "cell_type": "code",
   "execution_count": 7,
   "metadata": {},
   "outputs": [],
   "source": [
    "allin_for_analyze = pd.read_csv(\"../data/allin_for_analyze.csv\")\n",
    "#On peut simplement le nommé DF aussi"
   ]
  },
  {
   "cell_type": "markdown",
   "metadata": {},
   "source": [
    "## Data Inspection"
   ]
  },
  {
   "cell_type": "markdown",
   "metadata": {},
   "source": []
  },
  {
   "cell_type": "code",
   "execution_count": 8,
   "metadata": {},
   "outputs": [
    {
     "data": {
      "text/html": [
       "<div>\n",
       "<style scoped>\n",
       "    .dataframe tbody tr th:only-of-type {\n",
       "        vertical-align: middle;\n",
       "    }\n",
       "\n",
       "    .dataframe tbody tr th {\n",
       "        vertical-align: top;\n",
       "    }\n",
       "\n",
       "    .dataframe thead th {\n",
       "        text-align: right;\n",
       "    }\n",
       "</style>\n",
       "<table border=\"1\" class=\"dataframe\">\n",
       "  <thead>\n",
       "    <tr style=\"text-align: right;\">\n",
       "      <th></th>\n",
       "      <th>product_id</th>\n",
       "      <th>onsale_web</th>\n",
       "      <th>price</th>\n",
       "      <th>stock_quantity</th>\n",
       "      <th>stock_status</th>\n",
       "      <th>sku</th>\n",
       "      <th>total_sales</th>\n",
       "      <th>post_date</th>\n",
       "      <th>post_title</th>\n",
       "      <th>post_name</th>\n",
       "      <th>post_modified</th>\n",
       "      <th>_merge</th>\n",
       "      <th>poids</th>\n",
       "      <th>Région</th>\n",
       "      <th>Domaine</th>\n",
       "      <th>Appellation</th>\n",
       "      <th>Couleur</th>\n",
       "      <th>Millésime</th>\n",
       "      <th>Contenance</th>\n",
       "      <th>Degré d'alcool</th>\n",
       "    </tr>\n",
       "  </thead>\n",
       "  <tbody>\n",
       "    <tr>\n",
       "      <th>0</th>\n",
       "      <td>4158</td>\n",
       "      <td>True</td>\n",
       "      <td>18.5</td>\n",
       "      <td>0</td>\n",
       "      <td>True</td>\n",
       "      <td>16093</td>\n",
       "      <td>0.0</td>\n",
       "      <td>2018-02-13 14:48:58</td>\n",
       "      <td>Planeta Sicilia Etna Rosso 2018</td>\n",
       "      <td>8planeta-sicilia-etna-rosso-2018</td>\n",
       "      <td>2020-06-23 18:35:03</td>\n",
       "      <td>both</td>\n",
       "      <td>1.5 kg</td>\n",
       "      <td>Italie</td>\n",
       "      <td>Planeta</td>\n",
       "      <td>Sicilia</td>\n",
       "      <td>Rouge</td>\n",
       "      <td>2020</td>\n",
       "      <td>75cl</td>\n",
       "      <td>13%</td>\n",
       "    </tr>\n",
       "    <tr>\n",
       "      <th>1</th>\n",
       "      <td>4158</td>\n",
       "      <td>True</td>\n",
       "      <td>18.5</td>\n",
       "      <td>0</td>\n",
       "      <td>True</td>\n",
       "      <td>16093</td>\n",
       "      <td>0.0</td>\n",
       "      <td>2018-02-13 14:48:58</td>\n",
       "      <td>Planeta Sicilia Etna Rosso 2018</td>\n",
       "      <td>8planeta-sicilia-etna-rosso-2018</td>\n",
       "      <td>2020-06-23 18:35:03</td>\n",
       "      <td>both</td>\n",
       "      <td>1.5 kg</td>\n",
       "      <td>Italie</td>\n",
       "      <td>Planeta</td>\n",
       "      <td>Sicilia</td>\n",
       "      <td>Rouge</td>\n",
       "      <td>2020</td>\n",
       "      <td>75cl</td>\n",
       "      <td>13%</td>\n",
       "    </tr>\n",
       "    <tr>\n",
       "      <th>2</th>\n",
       "      <td>5826</td>\n",
       "      <td>True</td>\n",
       "      <td>41.2</td>\n",
       "      <td>0</td>\n",
       "      <td>True</td>\n",
       "      <td>15325</td>\n",
       "      <td>4.0</td>\n",
       "      <td>2019-03-27 17:59:49</td>\n",
       "      <td>Agnès Levet Côte Rôtie Améthyste 2017</td>\n",
       "      <td>agnes-levet-amethyste-2017</td>\n",
       "      <td>2020-05-21 14:00:02</td>\n",
       "      <td>both</td>\n",
       "      <td>1.5 kg</td>\n",
       "      <td>Rhône</td>\n",
       "      <td>Agnès Levet</td>\n",
       "      <td>Côte Rôtie</td>\n",
       "      <td>Rouge</td>\n",
       "      <td>2018</td>\n",
       "      <td>75cl</td>\n",
       "      <td>13%</td>\n",
       "    </tr>\n",
       "    <tr>\n",
       "      <th>3</th>\n",
       "      <td>5826</td>\n",
       "      <td>True</td>\n",
       "      <td>41.2</td>\n",
       "      <td>0</td>\n",
       "      <td>True</td>\n",
       "      <td>15325</td>\n",
       "      <td>4.0</td>\n",
       "      <td>2019-03-27 17:59:49</td>\n",
       "      <td>Agnès Levet Côte Rôtie Améthyste 2017</td>\n",
       "      <td>agnes-levet-amethyste-2017</td>\n",
       "      <td>2020-05-21 14:00:02</td>\n",
       "      <td>both</td>\n",
       "      <td>1.5 kg</td>\n",
       "      <td>Rhône</td>\n",
       "      <td>Agnès Levet</td>\n",
       "      <td>Côte Rôtie</td>\n",
       "      <td>Rouge</td>\n",
       "      <td>2018</td>\n",
       "      <td>75cl</td>\n",
       "      <td>13%</td>\n",
       "    </tr>\n",
       "    <tr>\n",
       "      <th>4</th>\n",
       "      <td>5827</td>\n",
       "      <td>True</td>\n",
       "      <td>55.0</td>\n",
       "      <td>11</td>\n",
       "      <td>True</td>\n",
       "      <td>15328</td>\n",
       "      <td>3.0</td>\n",
       "      <td>2019-03-27 18:05:09</td>\n",
       "      <td>Agnès Levet Côte Rôtie Maestria 2017</td>\n",
       "      <td>agnes-levet-cote-rotie-maestria-2017</td>\n",
       "      <td>2020-07-25 15:45:02</td>\n",
       "      <td>both</td>\n",
       "      <td>1.5 kg</td>\n",
       "      <td>Rhône</td>\n",
       "      <td>Agnès Levet</td>\n",
       "      <td>Côte Rôtie</td>\n",
       "      <td>Rouge</td>\n",
       "      <td>2019</td>\n",
       "      <td>75cl</td>\n",
       "      <td>13%</td>\n",
       "    </tr>\n",
       "  </tbody>\n",
       "</table>\n",
       "</div>"
      ],
      "text/plain": [
       "   product_id  onsale_web  price  stock_quantity  stock_status    sku  \\\n",
       "0        4158        True   18.5               0          True  16093   \n",
       "1        4158        True   18.5               0          True  16093   \n",
       "2        5826        True   41.2               0          True  15325   \n",
       "3        5826        True   41.2               0          True  15325   \n",
       "4        5827        True   55.0              11          True  15328   \n",
       "\n",
       "   total_sales            post_date                             post_title  \\\n",
       "0          0.0  2018-02-13 14:48:58        Planeta Sicilia Etna Rosso 2018   \n",
       "1          0.0  2018-02-13 14:48:58        Planeta Sicilia Etna Rosso 2018   \n",
       "2          4.0  2019-03-27 17:59:49  Agnès Levet Côte Rôtie Améthyste 2017   \n",
       "3          4.0  2019-03-27 17:59:49  Agnès Levet Côte Rôtie Améthyste 2017   \n",
       "4          3.0  2019-03-27 18:05:09   Agnès Levet Côte Rôtie Maestria 2017   \n",
       "\n",
       "                              post_name        post_modified _merge   poids  \\\n",
       "0      8planeta-sicilia-etna-rosso-2018  2020-06-23 18:35:03   both  1.5 kg   \n",
       "1      8planeta-sicilia-etna-rosso-2018  2020-06-23 18:35:03   both  1.5 kg   \n",
       "2            agnes-levet-amethyste-2017  2020-05-21 14:00:02   both  1.5 kg   \n",
       "3            agnes-levet-amethyste-2017  2020-05-21 14:00:02   both  1.5 kg   \n",
       "4  agnes-levet-cote-rotie-maestria-2017  2020-07-25 15:45:02   both  1.5 kg   \n",
       "\n",
       "   Région      Domaine Appellation Couleur  Millésime Contenance  \\\n",
       "0  Italie      Planeta     Sicilia   Rouge       2020       75cl   \n",
       "1  Italie      Planeta     Sicilia   Rouge       2020       75cl   \n",
       "2   Rhône  Agnès Levet  Côte Rôtie   Rouge       2018       75cl   \n",
       "3   Rhône  Agnès Levet  Côte Rôtie   Rouge       2018       75cl   \n",
       "4   Rhône  Agnès Levet  Côte Rôtie   Rouge       2019       75cl   \n",
       "\n",
       "  Degré d'alcool  \n",
       "0            13%  \n",
       "1            13%  \n",
       "2            13%  \n",
       "3            13%  \n",
       "4            13%  "
      ]
     },
     "execution_count": 8,
     "metadata": {},
     "output_type": "execute_result"
    }
   ],
   "source": [
    "df = allin_for_analyze.copy()\n",
    "df.head()"
   ]
  },
  {
   "cell_type": "code",
   "execution_count": 9,
   "metadata": {},
   "outputs": [
    {
     "data": {
      "text/html": [
       "<div>\n",
       "<style scoped>\n",
       "    .dataframe tbody tr th:only-of-type {\n",
       "        vertical-align: middle;\n",
       "    }\n",
       "\n",
       "    .dataframe tbody tr th {\n",
       "        vertical-align: top;\n",
       "    }\n",
       "\n",
       "    .dataframe thead th {\n",
       "        text-align: right;\n",
       "    }\n",
       "</style>\n",
       "<table border=\"1\" class=\"dataframe\">\n",
       "  <thead>\n",
       "    <tr style=\"text-align: right;\">\n",
       "      <th></th>\n",
       "      <th>product_id</th>\n",
       "      <th>onsale_web</th>\n",
       "      <th>price</th>\n",
       "      <th>stock_quantity</th>\n",
       "      <th>stock_status</th>\n",
       "      <th>sku</th>\n",
       "      <th>total_sales</th>\n",
       "      <th>post_date</th>\n",
       "      <th>post_title</th>\n",
       "      <th>post_name</th>\n",
       "      <th>post_modified</th>\n",
       "      <th>_merge</th>\n",
       "      <th>poids</th>\n",
       "      <th>Région</th>\n",
       "      <th>Domaine</th>\n",
       "      <th>Appellation</th>\n",
       "      <th>Couleur</th>\n",
       "      <th>Millésime</th>\n",
       "      <th>Contenance</th>\n",
       "      <th>Degré d'alcool</th>\n",
       "    </tr>\n",
       "  </thead>\n",
       "  <tbody>\n",
       "    <tr>\n",
       "      <th>1416</th>\n",
       "      <td>4115</td>\n",
       "      <td>True</td>\n",
       "      <td>100.0</td>\n",
       "      <td>11</td>\n",
       "      <td>True</td>\n",
       "      <td>15382</td>\n",
       "      <td>0.0</td>\n",
       "      <td>2018-02-13 11:08:45</td>\n",
       "      <td>Zind-Humbrecht Riesling Grand Cru Rangen De Th...</td>\n",
       "      <td>zind-humbrecht-riesling-gc-rangen-thann-clos-s...</td>\n",
       "      <td>2020-02-08 11:45:02</td>\n",
       "      <td>both</td>\n",
       "      <td>NaN</td>\n",
       "      <td>NaN</td>\n",
       "      <td>NaN</td>\n",
       "      <td>NaN</td>\n",
       "      <td>NaN</td>\n",
       "      <td>0</td>\n",
       "      <td>NaN</td>\n",
       "      <td>NaN</td>\n",
       "    </tr>\n",
       "    <tr>\n",
       "      <th>1417</th>\n",
       "      <td>4108</td>\n",
       "      <td>True</td>\n",
       "      <td>31.7</td>\n",
       "      <td>0</td>\n",
       "      <td>True</td>\n",
       "      <td>15353</td>\n",
       "      <td>2.0</td>\n",
       "      <td>2018-02-13 10:56:04</td>\n",
       "      <td>Zind-Humbrecht Riesling Herrenweg de Turckheim...</td>\n",
       "      <td>zind-humbrecht-riesling-herrenweg-turckheim-2017</td>\n",
       "      <td>2020-06-03 14:35:02</td>\n",
       "      <td>both</td>\n",
       "      <td>NaN</td>\n",
       "      <td>NaN</td>\n",
       "      <td>NaN</td>\n",
       "      <td>NaN</td>\n",
       "      <td>NaN</td>\n",
       "      <td>0</td>\n",
       "      <td>NaN</td>\n",
       "      <td>NaN</td>\n",
       "    </tr>\n",
       "    <tr>\n",
       "      <th>1418</th>\n",
       "      <td>4108</td>\n",
       "      <td>True</td>\n",
       "      <td>31.7</td>\n",
       "      <td>0</td>\n",
       "      <td>True</td>\n",
       "      <td>15353</td>\n",
       "      <td>2.0</td>\n",
       "      <td>2018-02-13 10:56:04</td>\n",
       "      <td>Zind-Humbrecht Riesling Herrenweg de Turckheim...</td>\n",
       "      <td>zind-humbrecht-riesling-herrenweg-turckheim-2017</td>\n",
       "      <td>2020-06-03 14:35:02</td>\n",
       "      <td>both</td>\n",
       "      <td>NaN</td>\n",
       "      <td>NaN</td>\n",
       "      <td>NaN</td>\n",
       "      <td>NaN</td>\n",
       "      <td>NaN</td>\n",
       "      <td>0</td>\n",
       "      <td>NaN</td>\n",
       "      <td>NaN</td>\n",
       "    </tr>\n",
       "    <tr>\n",
       "      <th>1419</th>\n",
       "      <td>4138</td>\n",
       "      <td>True</td>\n",
       "      <td>25.7</td>\n",
       "      <td>0</td>\n",
       "      <td>True</td>\n",
       "      <td>15341</td>\n",
       "      <td>6.0</td>\n",
       "      <td>2018-02-13 11:54:31</td>\n",
       "      <td>Zind-Humbrecht Zind 2017</td>\n",
       "      <td>zind-humbrecht-vdf-zind-2017</td>\n",
       "      <td>2020-07-28 15:05:02</td>\n",
       "      <td>both</td>\n",
       "      <td>NaN</td>\n",
       "      <td>NaN</td>\n",
       "      <td>NaN</td>\n",
       "      <td>NaN</td>\n",
       "      <td>NaN</td>\n",
       "      <td>0</td>\n",
       "      <td>NaN</td>\n",
       "      <td>NaN</td>\n",
       "    </tr>\n",
       "    <tr>\n",
       "      <th>1420</th>\n",
       "      <td>4138</td>\n",
       "      <td>True</td>\n",
       "      <td>25.7</td>\n",
       "      <td>0</td>\n",
       "      <td>True</td>\n",
       "      <td>15341</td>\n",
       "      <td>6.0</td>\n",
       "      <td>2018-02-13 11:54:31</td>\n",
       "      <td>Zind-Humbrecht Zind 2017</td>\n",
       "      <td>zind-humbrecht-vdf-zind-2017</td>\n",
       "      <td>2020-07-28 15:05:02</td>\n",
       "      <td>both</td>\n",
       "      <td>NaN</td>\n",
       "      <td>NaN</td>\n",
       "      <td>NaN</td>\n",
       "      <td>NaN</td>\n",
       "      <td>NaN</td>\n",
       "      <td>0</td>\n",
       "      <td>NaN</td>\n",
       "      <td>NaN</td>\n",
       "    </tr>\n",
       "  </tbody>\n",
       "</table>\n",
       "</div>"
      ],
      "text/plain": [
       "      product_id  onsale_web  price  stock_quantity  stock_status    sku  \\\n",
       "1416        4115        True  100.0              11          True  15382   \n",
       "1417        4108        True   31.7               0          True  15353   \n",
       "1418        4108        True   31.7               0          True  15353   \n",
       "1419        4138        True   25.7               0          True  15341   \n",
       "1420        4138        True   25.7               0          True  15341   \n",
       "\n",
       "      total_sales            post_date  \\\n",
       "1416          0.0  2018-02-13 11:08:45   \n",
       "1417          2.0  2018-02-13 10:56:04   \n",
       "1418          2.0  2018-02-13 10:56:04   \n",
       "1419          6.0  2018-02-13 11:54:31   \n",
       "1420          6.0  2018-02-13 11:54:31   \n",
       "\n",
       "                                             post_title  \\\n",
       "1416  Zind-Humbrecht Riesling Grand Cru Rangen De Th...   \n",
       "1417  Zind-Humbrecht Riesling Herrenweg de Turckheim...   \n",
       "1418  Zind-Humbrecht Riesling Herrenweg de Turckheim...   \n",
       "1419                           Zind-Humbrecht Zind 2017   \n",
       "1420                           Zind-Humbrecht Zind 2017   \n",
       "\n",
       "                                              post_name        post_modified  \\\n",
       "1416  zind-humbrecht-riesling-gc-rangen-thann-clos-s...  2020-02-08 11:45:02   \n",
       "1417   zind-humbrecht-riesling-herrenweg-turckheim-2017  2020-06-03 14:35:02   \n",
       "1418   zind-humbrecht-riesling-herrenweg-turckheim-2017  2020-06-03 14:35:02   \n",
       "1419                       zind-humbrecht-vdf-zind-2017  2020-07-28 15:05:02   \n",
       "1420                       zind-humbrecht-vdf-zind-2017  2020-07-28 15:05:02   \n",
       "\n",
       "     _merge poids Région Domaine Appellation Couleur  Millésime Contenance  \\\n",
       "1416   both   NaN    NaN     NaN         NaN     NaN          0        NaN   \n",
       "1417   both   NaN    NaN     NaN         NaN     NaN          0        NaN   \n",
       "1418   both   NaN    NaN     NaN         NaN     NaN          0        NaN   \n",
       "1419   both   NaN    NaN     NaN         NaN     NaN          0        NaN   \n",
       "1420   both   NaN    NaN     NaN         NaN     NaN          0        NaN   \n",
       "\n",
       "     Degré d'alcool  \n",
       "1416            NaN  \n",
       "1417            NaN  \n",
       "1418            NaN  \n",
       "1419            NaN  \n",
       "1420            NaN  "
      ]
     },
     "execution_count": 9,
     "metadata": {},
     "output_type": "execute_result"
    }
   ],
   "source": [
    "df.tail()"
   ]
  },
  {
   "cell_type": "code",
   "execution_count": 10,
   "metadata": {},
   "outputs": [
    {
     "data": {
      "text/html": [
       "<div>\n",
       "<style scoped>\n",
       "    .dataframe tbody tr th:only-of-type {\n",
       "        vertical-align: middle;\n",
       "    }\n",
       "\n",
       "    .dataframe tbody tr th {\n",
       "        vertical-align: top;\n",
       "    }\n",
       "\n",
       "    .dataframe thead th {\n",
       "        text-align: right;\n",
       "    }\n",
       "</style>\n",
       "<table border=\"1\" class=\"dataframe\">\n",
       "  <thead>\n",
       "    <tr style=\"text-align: right;\">\n",
       "      <th></th>\n",
       "      <th>product_id</th>\n",
       "      <th>onsale_web</th>\n",
       "      <th>price</th>\n",
       "      <th>stock_quantity</th>\n",
       "      <th>stock_status</th>\n",
       "      <th>sku</th>\n",
       "      <th>total_sales</th>\n",
       "      <th>post_date</th>\n",
       "      <th>post_title</th>\n",
       "      <th>post_name</th>\n",
       "      <th>post_modified</th>\n",
       "      <th>_merge</th>\n",
       "      <th>poids</th>\n",
       "      <th>Région</th>\n",
       "      <th>Domaine</th>\n",
       "      <th>Appellation</th>\n",
       "      <th>Couleur</th>\n",
       "      <th>Millésime</th>\n",
       "      <th>Contenance</th>\n",
       "      <th>Degré d'alcool</th>\n",
       "    </tr>\n",
       "  </thead>\n",
       "  <tbody>\n",
       "    <tr>\n",
       "      <th>995</th>\n",
       "      <td>4686</td>\n",
       "      <td>True</td>\n",
       "      <td>14.0</td>\n",
       "      <td>6</td>\n",
       "      <td>True</td>\n",
       "      <td>16324</td>\n",
       "      <td>2.0</td>\n",
       "      <td>2018-04-17 16:47:34</td>\n",
       "      <td>Cosse Maisonneuve Cahors Solis 2018</td>\n",
       "      <td>matthieu-cosse-cahors-solis-2018</td>\n",
       "      <td>2020-07-10 09:30:15</td>\n",
       "      <td>both</td>\n",
       "      <td>1.5 kg</td>\n",
       "      <td>Sud Ouest</td>\n",
       "      <td>Matthieu Cosse</td>\n",
       "      <td>Cahors</td>\n",
       "      <td>Rouge</td>\n",
       "      <td>2018</td>\n",
       "      <td>75cl</td>\n",
       "      <td>13%</td>\n",
       "    </tr>\n",
       "    <tr>\n",
       "      <th>123</th>\n",
       "      <td>4183</td>\n",
       "      <td>True</td>\n",
       "      <td>21.4</td>\n",
       "      <td>48</td>\n",
       "      <td>True</td>\n",
       "      <td>15746</td>\n",
       "      <td>0.0</td>\n",
       "      <td>2018-02-15 09:39:10</td>\n",
       "      <td>Borie La Vitarèle Saint-Chinian Les Crès 2016</td>\n",
       "      <td>borie-la-vitarele-saint-chinian-les-cres-2016</td>\n",
       "      <td>2020-08-07 17:35:02</td>\n",
       "      <td>both</td>\n",
       "      <td>1.5 kg</td>\n",
       "      <td>Languedoc-Roussillon</td>\n",
       "      <td>Borie La Vitarèle</td>\n",
       "      <td>Saint-Chinian</td>\n",
       "      <td>Rouge</td>\n",
       "      <td>2018</td>\n",
       "      <td>75cl</td>\n",
       "      <td>14,50%</td>\n",
       "    </tr>\n",
       "    <tr>\n",
       "      <th>482</th>\n",
       "      <td>4681</td>\n",
       "      <td>True</td>\n",
       "      <td>7.1</td>\n",
       "      <td>178</td>\n",
       "      <td>True</td>\n",
       "      <td>15933</td>\n",
       "      <td>12.0</td>\n",
       "      <td>2018-04-17 16:24:35</td>\n",
       "      <td>Domaine de Joy Côtes de Gascogne Blanc Moelleu...</td>\n",
       "      <td>domaine-de-joy-cotes-de-gascogne-blanc-moelleu...</td>\n",
       "      <td>2020-08-25 18:25:03</td>\n",
       "      <td>both</td>\n",
       "      <td>1.5 kg</td>\n",
       "      <td>Sud Ouest</td>\n",
       "      <td>Domaine de Joy</td>\n",
       "      <td>Côte de Gascogne</td>\n",
       "      <td>Blanc</td>\n",
       "      <td>2020</td>\n",
       "      <td>75cl</td>\n",
       "      <td>12,50%</td>\n",
       "    </tr>\n",
       "    <tr>\n",
       "      <th>1348</th>\n",
       "      <td>4665</td>\n",
       "      <td>True</td>\n",
       "      <td>14.4</td>\n",
       "      <td>6</td>\n",
       "      <td>True</td>\n",
       "      <td>15404</td>\n",
       "      <td>2.0</td>\n",
       "      <td>2018-04-17 11:00:54</td>\n",
       "      <td>Vincent Carême Vouvray Sec 2018</td>\n",
       "      <td>vincent-careme-vouvray-sec-2018</td>\n",
       "      <td>2020-08-05 09:30:19</td>\n",
       "      <td>both</td>\n",
       "      <td>1.5 kg</td>\n",
       "      <td>Vallée de la Loire</td>\n",
       "      <td>Vincent Carême</td>\n",
       "      <td>Vouvray</td>\n",
       "      <td>Blanc</td>\n",
       "      <td>2020</td>\n",
       "      <td>75cl</td>\n",
       "      <td>13,50%</td>\n",
       "    </tr>\n",
       "    <tr>\n",
       "      <th>561</th>\n",
       "      <td>4901</td>\n",
       "      <td>True</td>\n",
       "      <td>41.0</td>\n",
       "      <td>36</td>\n",
       "      <td>True</td>\n",
       "      <td>14802</td>\n",
       "      <td>0.0</td>\n",
       "      <td>2018-05-15 09:44:00</td>\n",
       "      <td>Domaine Des Croix Beaune 1er Cru Les Cent Vign...</td>\n",
       "      <td>domaine-des-croix-beaune-1er-cru-les-cent-vign...</td>\n",
       "      <td>2020-01-03 16:56:04</td>\n",
       "      <td>both</td>\n",
       "      <td>1.5 kg</td>\n",
       "      <td>Bourgogne</td>\n",
       "      <td>Domaine des Croix</td>\n",
       "      <td>Beaune 1er Cru</td>\n",
       "      <td>Rouge</td>\n",
       "      <td>2019</td>\n",
       "      <td>75cl</td>\n",
       "      <td>12,50%</td>\n",
       "    </tr>\n",
       "    <tr>\n",
       "      <th>1204</th>\n",
       "      <td>5696</td>\n",
       "      <td>True</td>\n",
       "      <td>17.5</td>\n",
       "      <td>35</td>\n",
       "      <td>True</td>\n",
       "      <td>15797</td>\n",
       "      <td>0.0</td>\n",
       "      <td>2019-01-30 16:47:30</td>\n",
       "      <td>Planeta Sicilia Etna Bianco 2018</td>\n",
       "      <td>planeta-sicilia-etna-bianco-2018</td>\n",
       "      <td>2020-08-22 09:25:02</td>\n",
       "      <td>both</td>\n",
       "      <td>1.5 kg</td>\n",
       "      <td>Italie</td>\n",
       "      <td>Planeta</td>\n",
       "      <td>Sicilia</td>\n",
       "      <td>Blanc</td>\n",
       "      <td>2018</td>\n",
       "      <td>75cl</td>\n",
       "      <td>13,50%</td>\n",
       "    </tr>\n",
       "    <tr>\n",
       "      <th>171</th>\n",
       "      <td>6663</td>\n",
       "      <td>True</td>\n",
       "      <td>50.4</td>\n",
       "      <td>6</td>\n",
       "      <td>True</td>\n",
       "      <td>16152</td>\n",
       "      <td>0.0</td>\n",
       "      <td>2020-02-22 14:01:55</td>\n",
       "      <td>Catherine et Claude Maréchal Pommard La Chaniè...</td>\n",
       "      <td>catherine-et-claude-marechal-pommard-la-chanie...</td>\n",
       "      <td>2020-07-16 11:45:03</td>\n",
       "      <td>both</td>\n",
       "      <td>1.5 kg</td>\n",
       "      <td>Bourgogne</td>\n",
       "      <td>Catherine et Claude Maréchal</td>\n",
       "      <td>Pommard</td>\n",
       "      <td>Rouge</td>\n",
       "      <td>2017</td>\n",
       "      <td>75cl</td>\n",
       "      <td>13,50%</td>\n",
       "    </tr>\n",
       "    <tr>\n",
       "      <th>26</th>\n",
       "      <td>5619</td>\n",
       "      <td>True</td>\n",
       "      <td>71.3</td>\n",
       "      <td>13</td>\n",
       "      <td>True</td>\n",
       "      <td>15922</td>\n",
       "      <td>0.0</td>\n",
       "      <td>2019-01-15 16:42:01</td>\n",
       "      <td>Albert Boxler Riesling Grand Cru Sommerberg \"E...</td>\n",
       "      <td>albert-boxler-riesling-grand-cru-sommerberg-e-...</td>\n",
       "      <td>2020-08-25 14:00:05</td>\n",
       "      <td>both</td>\n",
       "      <td>1.5 kg</td>\n",
       "      <td>Alsace</td>\n",
       "      <td>Albert Boxler</td>\n",
       "      <td>Alsace Grand Cru</td>\n",
       "      <td>Blanc</td>\n",
       "      <td>2019</td>\n",
       "      <td>75cl</td>\n",
       "      <td>13%</td>\n",
       "    </tr>\n",
       "    <tr>\n",
       "      <th>919</th>\n",
       "      <td>5819</td>\n",
       "      <td>True</td>\n",
       "      <td>56.0</td>\n",
       "      <td>1</td>\n",
       "      <td>True</td>\n",
       "      <td>11933</td>\n",
       "      <td>1.0</td>\n",
       "      <td>2019-03-26 17:57:25</td>\n",
       "      <td>Maison Trimbach Riesling Cuvée Frédéric Emile ...</td>\n",
       "      <td>maison-trimbach-riesling-cfe-2008</td>\n",
       "      <td>2020-06-20 09:55:02</td>\n",
       "      <td>both</td>\n",
       "      <td>NaN</td>\n",
       "      <td>NaN</td>\n",
       "      <td>NaN</td>\n",
       "      <td>NaN</td>\n",
       "      <td>NaN</td>\n",
       "      <td>0</td>\n",
       "      <td>NaN</td>\n",
       "      <td>NaN</td>\n",
       "    </tr>\n",
       "    <tr>\n",
       "      <th>573</th>\n",
       "      <td>6206</td>\n",
       "      <td>True</td>\n",
       "      <td>25.2</td>\n",
       "      <td>120</td>\n",
       "      <td>True</td>\n",
       "      <td>16580</td>\n",
       "      <td>41.0</td>\n",
       "      <td>2019-07-24 09:31:48</td>\n",
       "      <td>Domaine Giudicelli Patrimonio Blanc 2019</td>\n",
       "      <td>domaine-giudicelli-patrimonio-blanc-2019</td>\n",
       "      <td>2020-08-27 10:12:58</td>\n",
       "      <td>both</td>\n",
       "      <td>1.5 kg</td>\n",
       "      <td>Corse</td>\n",
       "      <td>Domaine Giudicelli</td>\n",
       "      <td>Patrimonio</td>\n",
       "      <td>Blanc</td>\n",
       "      <td>2020</td>\n",
       "      <td>75cl</td>\n",
       "      <td>13,50%</td>\n",
       "    </tr>\n",
       "  </tbody>\n",
       "</table>\n",
       "</div>"
      ],
      "text/plain": [
       "      product_id  onsale_web  price  stock_quantity  stock_status    sku  \\\n",
       "995         4686        True   14.0               6          True  16324   \n",
       "123         4183        True   21.4              48          True  15746   \n",
       "482         4681        True    7.1             178          True  15933   \n",
       "1348        4665        True   14.4               6          True  15404   \n",
       "561         4901        True   41.0              36          True  14802   \n",
       "1204        5696        True   17.5              35          True  15797   \n",
       "171         6663        True   50.4               6          True  16152   \n",
       "26          5619        True   71.3              13          True  15922   \n",
       "919         5819        True   56.0               1          True  11933   \n",
       "573         6206        True   25.2             120          True  16580   \n",
       "\n",
       "      total_sales            post_date  \\\n",
       "995           2.0  2018-04-17 16:47:34   \n",
       "123           0.0  2018-02-15 09:39:10   \n",
       "482          12.0  2018-04-17 16:24:35   \n",
       "1348          2.0  2018-04-17 11:00:54   \n",
       "561           0.0  2018-05-15 09:44:00   \n",
       "1204          0.0  2019-01-30 16:47:30   \n",
       "171           0.0  2020-02-22 14:01:55   \n",
       "26            0.0  2019-01-15 16:42:01   \n",
       "919           1.0  2019-03-26 17:57:25   \n",
       "573          41.0  2019-07-24 09:31:48   \n",
       "\n",
       "                                             post_title  \\\n",
       "995                 Cosse Maisonneuve Cahors Solis 2018   \n",
       "123       Borie La Vitarèle Saint-Chinian Les Crès 2016   \n",
       "482   Domaine de Joy Côtes de Gascogne Blanc Moelleu...   \n",
       "1348                    Vincent Carême Vouvray Sec 2018   \n",
       "561   Domaine Des Croix Beaune 1er Cru Les Cent Vign...   \n",
       "1204                   Planeta Sicilia Etna Bianco 2018   \n",
       "171   Catherine et Claude Maréchal Pommard La Chaniè...   \n",
       "26    Albert Boxler Riesling Grand Cru Sommerberg \"E...   \n",
       "919   Maison Trimbach Riesling Cuvée Frédéric Emile ...   \n",
       "573            Domaine Giudicelli Patrimonio Blanc 2019   \n",
       "\n",
       "                                              post_name        post_modified  \\\n",
       "995                    matthieu-cosse-cahors-solis-2018  2020-07-10 09:30:15   \n",
       "123       borie-la-vitarele-saint-chinian-les-cres-2016  2020-08-07 17:35:02   \n",
       "482   domaine-de-joy-cotes-de-gascogne-blanc-moelleu...  2020-08-25 18:25:03   \n",
       "1348                    vincent-careme-vouvray-sec-2018  2020-08-05 09:30:19   \n",
       "561   domaine-des-croix-beaune-1er-cru-les-cent-vign...  2020-01-03 16:56:04   \n",
       "1204                   planeta-sicilia-etna-bianco-2018  2020-08-22 09:25:02   \n",
       "171   catherine-et-claude-marechal-pommard-la-chanie...  2020-07-16 11:45:03   \n",
       "26    albert-boxler-riesling-grand-cru-sommerberg-e-...  2020-08-25 14:00:05   \n",
       "919                   maison-trimbach-riesling-cfe-2008  2020-06-20 09:55:02   \n",
       "573            domaine-giudicelli-patrimonio-blanc-2019  2020-08-27 10:12:58   \n",
       "\n",
       "     _merge   poids                Région                       Domaine  \\\n",
       "995    both  1.5 kg             Sud Ouest                Matthieu Cosse   \n",
       "123    both  1.5 kg  Languedoc-Roussillon             Borie La Vitarèle   \n",
       "482    both  1.5 kg             Sud Ouest                Domaine de Joy   \n",
       "1348   both  1.5 kg    Vallée de la Loire                Vincent Carême   \n",
       "561    both  1.5 kg             Bourgogne             Domaine des Croix   \n",
       "1204   both  1.5 kg                Italie                       Planeta   \n",
       "171    both  1.5 kg             Bourgogne  Catherine et Claude Maréchal   \n",
       "26     both  1.5 kg                Alsace                 Albert Boxler   \n",
       "919    both     NaN                   NaN                           NaN   \n",
       "573    both  1.5 kg                 Corse            Domaine Giudicelli   \n",
       "\n",
       "           Appellation Couleur  Millésime Contenance Degré d'alcool  \n",
       "995             Cahors   Rouge       2018       75cl            13%  \n",
       "123      Saint-Chinian   Rouge       2018       75cl         14,50%  \n",
       "482   Côte de Gascogne   Blanc       2020       75cl         12,50%  \n",
       "1348           Vouvray   Blanc       2020       75cl         13,50%  \n",
       "561     Beaune 1er Cru   Rouge       2019       75cl         12,50%  \n",
       "1204           Sicilia   Blanc       2018       75cl         13,50%  \n",
       "171            Pommard   Rouge       2017       75cl         13,50%  \n",
       "26    Alsace Grand Cru   Blanc       2019       75cl            13%  \n",
       "919                NaN     NaN          0        NaN            NaN  \n",
       "573         Patrimonio   Blanc       2020       75cl         13,50%  "
      ]
     },
     "execution_count": 10,
     "metadata": {},
     "output_type": "execute_result"
    }
   ],
   "source": [
    "df.sample(10)"
   ]
  },
  {
   "cell_type": "code",
   "execution_count": 11,
   "metadata": {},
   "outputs": [
    {
     "data": {
      "text/plain": [
       "product_id          int64\n",
       "onsale_web           bool\n",
       "price             float64\n",
       "stock_quantity      int64\n",
       "stock_status         bool\n",
       "sku                 int64\n",
       "total_sales       float64\n",
       "post_date          object\n",
       "post_title         object\n",
       "post_name          object\n",
       "post_modified      object\n",
       "_merge             object\n",
       "poids              object\n",
       "Région             object\n",
       "Domaine            object\n",
       "Appellation        object\n",
       "Couleur            object\n",
       "Millésime           int64\n",
       "Contenance         object\n",
       "Degré d'alcool     object\n",
       "dtype: object"
      ]
     },
     "execution_count": 11,
     "metadata": {},
     "output_type": "execute_result"
    }
   ],
   "source": [
    "df.dtypes"
   ]
  },
  {
   "cell_type": "code",
   "execution_count": 12,
   "metadata": {},
   "outputs": [
    {
     "data": {
      "text/html": [
       "<div>\n",
       "<style scoped>\n",
       "    .dataframe tbody tr th:only-of-type {\n",
       "        vertical-align: middle;\n",
       "    }\n",
       "\n",
       "    .dataframe tbody tr th {\n",
       "        vertical-align: top;\n",
       "    }\n",
       "\n",
       "    .dataframe thead th {\n",
       "        text-align: right;\n",
       "    }\n",
       "</style>\n",
       "<table border=\"1\" class=\"dataframe\">\n",
       "  <thead>\n",
       "    <tr style=\"text-align: right;\">\n",
       "      <th></th>\n",
       "      <th>product_id</th>\n",
       "      <th>price</th>\n",
       "      <th>stock_quantity</th>\n",
       "      <th>sku</th>\n",
       "      <th>total_sales</th>\n",
       "      <th>Millésime</th>\n",
       "    </tr>\n",
       "  </thead>\n",
       "  <tbody>\n",
       "    <tr>\n",
       "      <th>count</th>\n",
       "      <td>1421.00</td>\n",
       "      <td>1421.00</td>\n",
       "      <td>1421.00</td>\n",
       "      <td>1421.00</td>\n",
       "      <td>1420.00</td>\n",
       "      <td>1421.00</td>\n",
       "    </tr>\n",
       "    <tr>\n",
       "      <th>mean</th>\n",
       "      <td>5029.71</td>\n",
       "      <td>32.55</td>\n",
       "      <td>28.78</td>\n",
       "      <td>14483.18</td>\n",
       "      <td>4.02</td>\n",
       "      <td>1530.85</td>\n",
       "    </tr>\n",
       "    <tr>\n",
       "      <th>std</th>\n",
       "      <td>787.31</td>\n",
       "      <td>27.86</td>\n",
       "      <td>48.10</td>\n",
       "      <td>3007.00</td>\n",
       "      <td>8.53</td>\n",
       "      <td>863.82</td>\n",
       "    </tr>\n",
       "    <tr>\n",
       "      <th>min</th>\n",
       "      <td>3847.00</td>\n",
       "      <td>5.20</td>\n",
       "      <td>0.00</td>\n",
       "      <td>-1.00</td>\n",
       "      <td>0.00</td>\n",
       "      <td>0.00</td>\n",
       "    </tr>\n",
       "    <tr>\n",
       "      <th>25%</th>\n",
       "      <td>4280.00</td>\n",
       "      <td>14.10</td>\n",
       "      <td>2.00</td>\n",
       "      <td>14371.00</td>\n",
       "      <td>0.00</td>\n",
       "      <td>2008.00</td>\n",
       "    </tr>\n",
       "    <tr>\n",
       "      <th>50%</th>\n",
       "      <td>4794.00</td>\n",
       "      <td>23.60</td>\n",
       "      <td>12.00</td>\n",
       "      <td>15378.00</td>\n",
       "      <td>1.00</td>\n",
       "      <td>2018.00</td>\n",
       "    </tr>\n",
       "    <tr>\n",
       "      <th>75%</th>\n",
       "      <td>5711.00</td>\n",
       "      <td>42.20</td>\n",
       "      <td>35.00</td>\n",
       "      <td>15881.00</td>\n",
       "      <td>4.00</td>\n",
       "      <td>2019.00</td>\n",
       "    </tr>\n",
       "    <tr>\n",
       "      <th>max</th>\n",
       "      <td>7338.00</td>\n",
       "      <td>225.00</td>\n",
       "      <td>578.00</td>\n",
       "      <td>19822.00</td>\n",
       "      <td>96.00</td>\n",
       "      <td>2021.00</td>\n",
       "    </tr>\n",
       "  </tbody>\n",
       "</table>\n",
       "</div>"
      ],
      "text/plain": [
       "       product_id    price  stock_quantity       sku  total_sales  Millésime\n",
       "count     1421.00  1421.00         1421.00   1421.00      1420.00    1421.00\n",
       "mean      5029.71    32.55           28.78  14483.18         4.02    1530.85\n",
       "std        787.31    27.86           48.10   3007.00         8.53     863.82\n",
       "min       3847.00     5.20            0.00     -1.00         0.00       0.00\n",
       "25%       4280.00    14.10            2.00  14371.00         0.00    2008.00\n",
       "50%       4794.00    23.60           12.00  15378.00         1.00    2018.00\n",
       "75%       5711.00    42.20           35.00  15881.00         4.00    2019.00\n",
       "max       7338.00   225.00          578.00  19822.00        96.00    2021.00"
      ]
     },
     "execution_count": 12,
     "metadata": {},
     "output_type": "execute_result"
    }
   ],
   "source": [
    "df.describe().round(2)"
   ]
  },
  {
   "cell_type": "code",
   "execution_count": 13,
   "metadata": {},
   "outputs": [
    {
     "data": {
      "text/html": [
       "<div>\n",
       "<style scoped>\n",
       "    .dataframe tbody tr th:only-of-type {\n",
       "        vertical-align: middle;\n",
       "    }\n",
       "\n",
       "    .dataframe tbody tr th {\n",
       "        vertical-align: top;\n",
       "    }\n",
       "\n",
       "    .dataframe thead th {\n",
       "        text-align: right;\n",
       "    }\n",
       "</style>\n",
       "<table border=\"1\" class=\"dataframe\">\n",
       "  <thead>\n",
       "    <tr style=\"text-align: right;\">\n",
       "      <th></th>\n",
       "      <th>post_date</th>\n",
       "      <th>post_title</th>\n",
       "      <th>post_name</th>\n",
       "      <th>post_modified</th>\n",
       "      <th>_merge</th>\n",
       "      <th>poids</th>\n",
       "      <th>Région</th>\n",
       "      <th>Domaine</th>\n",
       "      <th>Appellation</th>\n",
       "      <th>Couleur</th>\n",
       "      <th>Contenance</th>\n",
       "      <th>Degré d'alcool</th>\n",
       "    </tr>\n",
       "  </thead>\n",
       "  <tbody>\n",
       "    <tr>\n",
       "      <th>count</th>\n",
       "      <td>1420</td>\n",
       "      <td>1420</td>\n",
       "      <td>1420</td>\n",
       "      <td>1420</td>\n",
       "      <td>1421</td>\n",
       "      <td>1218</td>\n",
       "      <td>1168</td>\n",
       "      <td>1150</td>\n",
       "      <td>1114</td>\n",
       "      <td>1128</td>\n",
       "      <td>1218</td>\n",
       "      <td>1168</td>\n",
       "    </tr>\n",
       "    <tr>\n",
       "      <th>unique</th>\n",
       "      <td>710</td>\n",
       "      <td>708</td>\n",
       "      <td>710</td>\n",
       "      <td>584</td>\n",
       "      <td>2</td>\n",
       "      <td>3</td>\n",
       "      <td>17</td>\n",
       "      <td>134</td>\n",
       "      <td>174</td>\n",
       "      <td>3</td>\n",
       "      <td>7</td>\n",
       "      <td>24</td>\n",
       "    </tr>\n",
       "    <tr>\n",
       "      <th>top</th>\n",
       "      <td>2018-02-13 14:48:58</td>\n",
       "      <td>Marc Colin Et Fils Chassagne-Montrachet Blanc ...</td>\n",
       "      <td>8planeta-sicilia-etna-rosso-2018</td>\n",
       "      <td>2020-08-26 15:55:03</td>\n",
       "      <td>both</td>\n",
       "      <td>1.5 kg</td>\n",
       "      <td>Languedoc-Roussillon</td>\n",
       "      <td>Planeta</td>\n",
       "      <td>Champagne</td>\n",
       "      <td>Rouge</td>\n",
       "      <td>75cl</td>\n",
       "      <td>13%</td>\n",
       "    </tr>\n",
       "    <tr>\n",
       "      <th>freq</th>\n",
       "      <td>2</td>\n",
       "      <td>4</td>\n",
       "      <td>2</td>\n",
       "      <td>14</td>\n",
       "      <td>1420</td>\n",
       "      <td>1212</td>\n",
       "      <td>178</td>\n",
       "      <td>26</td>\n",
       "      <td>52</td>\n",
       "      <td>598</td>\n",
       "      <td>1130</td>\n",
       "      <td>318</td>\n",
       "    </tr>\n",
       "  </tbody>\n",
       "</table>\n",
       "</div>"
      ],
      "text/plain": [
       "                  post_date  \\\n",
       "count                  1420   \n",
       "unique                  710   \n",
       "top     2018-02-13 14:48:58   \n",
       "freq                      2   \n",
       "\n",
       "                                               post_title  \\\n",
       "count                                                1420   \n",
       "unique                                                708   \n",
       "top     Marc Colin Et Fils Chassagne-Montrachet Blanc ...   \n",
       "freq                                                    4   \n",
       "\n",
       "                               post_name        post_modified _merge   poids  \\\n",
       "count                               1420                 1420   1421    1218   \n",
       "unique                               710                  584      2       3   \n",
       "top     8planeta-sicilia-etna-rosso-2018  2020-08-26 15:55:03   both  1.5 kg   \n",
       "freq                                   2                   14   1420    1212   \n",
       "\n",
       "                      Région  Domaine Appellation Couleur Contenance  \\\n",
       "count                   1168     1150        1114    1128       1218   \n",
       "unique                    17      134         174       3          7   \n",
       "top     Languedoc-Roussillon  Planeta   Champagne   Rouge       75cl   \n",
       "freq                     178       26          52     598       1130   \n",
       "\n",
       "       Degré d'alcool  \n",
       "count            1168  \n",
       "unique             24  \n",
       "top               13%  \n",
       "freq              318  "
      ]
     },
     "execution_count": 13,
     "metadata": {},
     "output_type": "execute_result"
    }
   ],
   "source": [
    "df.select_dtypes(include='object').describe()"
   ]
  },
  {
   "cell_type": "markdown",
   "metadata": {},
   "source": [
    "## Analyser le chiffre d’affaires"
   ]
  },
  {
   "cell_type": "markdown",
   "metadata": {},
   "source": [
    "### CA / produit_ALL ##"
   ]
  },
  {
   "cell_type": "code",
   "execution_count": 14,
   "metadata": {},
   "outputs": [
    {
     "name": "stdout",
     "output_type": "stream",
     "text": [
      "140637.2\n"
     ]
    }
   ],
   "source": [
    "# Calcul du CA overall\n",
    "total_revenue_product = allin_for_analyze['price'] * allin_for_analyze['total_sales']\n",
    "print(total_revenue_product.sum())"
   ]
  },
  {
   "cell_type": "markdown",
   "metadata": {},
   "source": [
    "### CA/ produit_web ##"
   ]
  },
  {
   "cell_type": "code",
   "execution_count": 15,
   "metadata": {},
   "outputs": [
    {
     "data": {
      "text/html": [
       "<div>\n",
       "<style scoped>\n",
       "    .dataframe tbody tr th:only-of-type {\n",
       "        vertical-align: middle;\n",
       "    }\n",
       "\n",
       "    .dataframe tbody tr th {\n",
       "        vertical-align: top;\n",
       "    }\n",
       "\n",
       "    .dataframe thead th {\n",
       "        text-align: right;\n",
       "    }\n",
       "</style>\n",
       "<table border=\"1\" class=\"dataframe\">\n",
       "  <thead>\n",
       "    <tr style=\"text-align: right;\">\n",
       "      <th></th>\n",
       "      <th>product_id</th>\n",
       "      <th>onsale_web</th>\n",
       "      <th>price</th>\n",
       "      <th>stock_quantity</th>\n",
       "      <th>stock_status</th>\n",
       "      <th>sku</th>\n",
       "      <th>total_sales</th>\n",
       "      <th>post_date</th>\n",
       "      <th>post_title</th>\n",
       "      <th>post_name</th>\n",
       "      <th>post_modified</th>\n",
       "      <th>_merge</th>\n",
       "      <th>poids</th>\n",
       "      <th>Région</th>\n",
       "      <th>Domaine</th>\n",
       "      <th>Appellation</th>\n",
       "      <th>Couleur</th>\n",
       "      <th>Millésime</th>\n",
       "      <th>Contenance</th>\n",
       "      <th>Degré d'alcool</th>\n",
       "    </tr>\n",
       "  </thead>\n",
       "  <tbody>\n",
       "    <tr>\n",
       "      <th>0</th>\n",
       "      <td>4158</td>\n",
       "      <td>True</td>\n",
       "      <td>18.5</td>\n",
       "      <td>0</td>\n",
       "      <td>True</td>\n",
       "      <td>16093</td>\n",
       "      <td>0.0</td>\n",
       "      <td>2018-02-13 14:48:58</td>\n",
       "      <td>Planeta Sicilia Etna Rosso 2018</td>\n",
       "      <td>8planeta-sicilia-etna-rosso-2018</td>\n",
       "      <td>2020-06-23 18:35:03</td>\n",
       "      <td>both</td>\n",
       "      <td>1.5 kg</td>\n",
       "      <td>Italie</td>\n",
       "      <td>Planeta</td>\n",
       "      <td>Sicilia</td>\n",
       "      <td>Rouge</td>\n",
       "      <td>2020</td>\n",
       "      <td>75cl</td>\n",
       "      <td>13%</td>\n",
       "    </tr>\n",
       "    <tr>\n",
       "      <th>1</th>\n",
       "      <td>4158</td>\n",
       "      <td>True</td>\n",
       "      <td>18.5</td>\n",
       "      <td>0</td>\n",
       "      <td>True</td>\n",
       "      <td>16093</td>\n",
       "      <td>0.0</td>\n",
       "      <td>2018-02-13 14:48:58</td>\n",
       "      <td>Planeta Sicilia Etna Rosso 2018</td>\n",
       "      <td>8planeta-sicilia-etna-rosso-2018</td>\n",
       "      <td>2020-06-23 18:35:03</td>\n",
       "      <td>both</td>\n",
       "      <td>1.5 kg</td>\n",
       "      <td>Italie</td>\n",
       "      <td>Planeta</td>\n",
       "      <td>Sicilia</td>\n",
       "      <td>Rouge</td>\n",
       "      <td>2020</td>\n",
       "      <td>75cl</td>\n",
       "      <td>13%</td>\n",
       "    </tr>\n",
       "    <tr>\n",
       "      <th>2</th>\n",
       "      <td>5826</td>\n",
       "      <td>True</td>\n",
       "      <td>41.2</td>\n",
       "      <td>0</td>\n",
       "      <td>True</td>\n",
       "      <td>15325</td>\n",
       "      <td>4.0</td>\n",
       "      <td>2019-03-27 17:59:49</td>\n",
       "      <td>Agnès Levet Côte Rôtie Améthyste 2017</td>\n",
       "      <td>agnes-levet-amethyste-2017</td>\n",
       "      <td>2020-05-21 14:00:02</td>\n",
       "      <td>both</td>\n",
       "      <td>1.5 kg</td>\n",
       "      <td>Rhône</td>\n",
       "      <td>Agnès Levet</td>\n",
       "      <td>Côte Rôtie</td>\n",
       "      <td>Rouge</td>\n",
       "      <td>2018</td>\n",
       "      <td>75cl</td>\n",
       "      <td>13%</td>\n",
       "    </tr>\n",
       "    <tr>\n",
       "      <th>3</th>\n",
       "      <td>5826</td>\n",
       "      <td>True</td>\n",
       "      <td>41.2</td>\n",
       "      <td>0</td>\n",
       "      <td>True</td>\n",
       "      <td>15325</td>\n",
       "      <td>4.0</td>\n",
       "      <td>2019-03-27 17:59:49</td>\n",
       "      <td>Agnès Levet Côte Rôtie Améthyste 2017</td>\n",
       "      <td>agnes-levet-amethyste-2017</td>\n",
       "      <td>2020-05-21 14:00:02</td>\n",
       "      <td>both</td>\n",
       "      <td>1.5 kg</td>\n",
       "      <td>Rhône</td>\n",
       "      <td>Agnès Levet</td>\n",
       "      <td>Côte Rôtie</td>\n",
       "      <td>Rouge</td>\n",
       "      <td>2018</td>\n",
       "      <td>75cl</td>\n",
       "      <td>13%</td>\n",
       "    </tr>\n",
       "    <tr>\n",
       "      <th>4</th>\n",
       "      <td>5827</td>\n",
       "      <td>True</td>\n",
       "      <td>55.0</td>\n",
       "      <td>11</td>\n",
       "      <td>True</td>\n",
       "      <td>15328</td>\n",
       "      <td>3.0</td>\n",
       "      <td>2019-03-27 18:05:09</td>\n",
       "      <td>Agnès Levet Côte Rôtie Maestria 2017</td>\n",
       "      <td>agnes-levet-cote-rotie-maestria-2017</td>\n",
       "      <td>2020-07-25 15:45:02</td>\n",
       "      <td>both</td>\n",
       "      <td>1.5 kg</td>\n",
       "      <td>Rhône</td>\n",
       "      <td>Agnès Levet</td>\n",
       "      <td>Côte Rôtie</td>\n",
       "      <td>Rouge</td>\n",
       "      <td>2019</td>\n",
       "      <td>75cl</td>\n",
       "      <td>13%</td>\n",
       "    </tr>\n",
       "  </tbody>\n",
       "</table>\n",
       "</div>"
      ],
      "text/plain": [
       "   product_id  onsale_web  price  stock_quantity  stock_status    sku  \\\n",
       "0        4158        True   18.5               0          True  16093   \n",
       "1        4158        True   18.5               0          True  16093   \n",
       "2        5826        True   41.2               0          True  15325   \n",
       "3        5826        True   41.2               0          True  15325   \n",
       "4        5827        True   55.0              11          True  15328   \n",
       "\n",
       "   total_sales            post_date                             post_title  \\\n",
       "0          0.0  2018-02-13 14:48:58        Planeta Sicilia Etna Rosso 2018   \n",
       "1          0.0  2018-02-13 14:48:58        Planeta Sicilia Etna Rosso 2018   \n",
       "2          4.0  2019-03-27 17:59:49  Agnès Levet Côte Rôtie Améthyste 2017   \n",
       "3          4.0  2019-03-27 17:59:49  Agnès Levet Côte Rôtie Améthyste 2017   \n",
       "4          3.0  2019-03-27 18:05:09   Agnès Levet Côte Rôtie Maestria 2017   \n",
       "\n",
       "                              post_name        post_modified _merge   poids  \\\n",
       "0      8planeta-sicilia-etna-rosso-2018  2020-06-23 18:35:03   both  1.5 kg   \n",
       "1      8planeta-sicilia-etna-rosso-2018  2020-06-23 18:35:03   both  1.5 kg   \n",
       "2            agnes-levet-amethyste-2017  2020-05-21 14:00:02   both  1.5 kg   \n",
       "3            agnes-levet-amethyste-2017  2020-05-21 14:00:02   both  1.5 kg   \n",
       "4  agnes-levet-cote-rotie-maestria-2017  2020-07-25 15:45:02   both  1.5 kg   \n",
       "\n",
       "   Région      Domaine Appellation Couleur  Millésime Contenance  \\\n",
       "0  Italie      Planeta     Sicilia   Rouge       2020       75cl   \n",
       "1  Italie      Planeta     Sicilia   Rouge       2020       75cl   \n",
       "2   Rhône  Agnès Levet  Côte Rôtie   Rouge       2018       75cl   \n",
       "3   Rhône  Agnès Levet  Côte Rôtie   Rouge       2018       75cl   \n",
       "4   Rhône  Agnès Levet  Côte Rôtie   Rouge       2019       75cl   \n",
       "\n",
       "  Degré d'alcool  \n",
       "0            13%  \n",
       "1            13%  \n",
       "2            13%  \n",
       "3            13%  \n",
       "4            13%  "
      ]
     },
     "execution_count": 15,
     "metadata": {},
     "output_type": "execute_result"
    }
   ],
   "source": [
    "allin_for_analyze.head()"
   ]
  },
  {
   "cell_type": "code",
   "execution_count": 16,
   "metadata": {},
   "outputs": [],
   "source": [
    "# Filtrer les produits où la valeur de la colonne \"onsaleweb\" est True\n",
    "filtered_allin_FA = allin_for_analyze[allin_for_analyze['onsale_web'] == True]\n"
   ]
  },
  {
   "cell_type": "code",
   "execution_count": 17,
   "metadata": {},
   "outputs": [
    {
     "name": "stderr",
     "output_type": "stream",
     "text": [
      "C:\\Users\\josse\\AppData\\Local\\Temp\\ipykernel_33724\\1125458123.py:2: SettingWithCopyWarning:\n",
      "\n",
      "\n",
      "A value is trying to be set on a copy of a slice from a DataFrame.\n",
      "Try using .loc[row_indexer,col_indexer] = value instead\n",
      "\n",
      "See the caveats in the documentation: https://pandas.pydata.org/pandas-docs/stable/user_guide/indexing.html#returning-a-view-versus-a-copy\n",
      "\n"
     ]
    }
   ],
   "source": [
    "\n",
    "# Calcul du CA pour chaque produit filtré\n",
    "filtered_allin_FA['total_revenue'] = filtered_allin_FA['price'] * filtered_allin_FA['total_sales']\n"
   ]
  },
  {
   "cell_type": "code",
   "execution_count": 18,
   "metadata": {},
   "outputs": [
    {
     "data": {
      "text/html": [
       "<div>\n",
       "<style scoped>\n",
       "    .dataframe tbody tr th:only-of-type {\n",
       "        vertical-align: middle;\n",
       "    }\n",
       "\n",
       "    .dataframe tbody tr th {\n",
       "        vertical-align: top;\n",
       "    }\n",
       "\n",
       "    .dataframe thead th {\n",
       "        text-align: right;\n",
       "    }\n",
       "</style>\n",
       "<table border=\"1\" class=\"dataframe\">\n",
       "  <thead>\n",
       "    <tr style=\"text-align: right;\">\n",
       "      <th></th>\n",
       "      <th>product_id</th>\n",
       "      <th>price</th>\n",
       "      <th>total_sales</th>\n",
       "      <th>total_revenue</th>\n",
       "    </tr>\n",
       "  </thead>\n",
       "  <tbody>\n",
       "    <tr>\n",
       "      <th>0</th>\n",
       "      <td>4158</td>\n",
       "      <td>18.5</td>\n",
       "      <td>0.0</td>\n",
       "      <td>0.0</td>\n",
       "    </tr>\n",
       "    <tr>\n",
       "      <th>1</th>\n",
       "      <td>4158</td>\n",
       "      <td>18.5</td>\n",
       "      <td>0.0</td>\n",
       "      <td>0.0</td>\n",
       "    </tr>\n",
       "    <tr>\n",
       "      <th>2</th>\n",
       "      <td>5826</td>\n",
       "      <td>41.2</td>\n",
       "      <td>4.0</td>\n",
       "      <td>164.8</td>\n",
       "    </tr>\n",
       "    <tr>\n",
       "      <th>3</th>\n",
       "      <td>5826</td>\n",
       "      <td>41.2</td>\n",
       "      <td>4.0</td>\n",
       "      <td>164.8</td>\n",
       "    </tr>\n",
       "    <tr>\n",
       "      <th>4</th>\n",
       "      <td>5827</td>\n",
       "      <td>55.0</td>\n",
       "      <td>3.0</td>\n",
       "      <td>165.0</td>\n",
       "    </tr>\n",
       "  </tbody>\n",
       "</table>\n",
       "</div>"
      ],
      "text/plain": [
       "   product_id  price  total_sales  total_revenue\n",
       "0        4158   18.5          0.0            0.0\n",
       "1        4158   18.5          0.0            0.0\n",
       "2        5826   41.2          4.0          164.8\n",
       "3        5826   41.2          4.0          164.8\n",
       "4        5827   55.0          3.0          165.0"
      ]
     },
     "execution_count": 18,
     "metadata": {},
     "output_type": "execute_result"
    }
   ],
   "source": [
    "filtered_allin_FA[['product_id', 'price', 'total_sales', 'total_revenue']].head()"
   ]
  },
  {
   "cell_type": "code",
   "execution_count": 19,
   "metadata": {},
   "outputs": [],
   "source": [
    "# filtered_allin_FA.to_csv('ca_products_.csv', index=False)\n",
    "# extract csv pour CA/ produit web"
   ]
  },
  {
   "cell_type": "markdown",
   "metadata": {},
   "source": [
    "### Total chiffre d’affaires réalisé en ligne ##"
   ]
  },
  {
   "cell_type": "code",
   "execution_count": 20,
   "metadata": {},
   "outputs": [
    {
     "name": "stdout",
     "output_type": "stream",
     "text": [
      "Total chiffre d'affaires des produits en ligne : 140637.2\n"
     ]
    }
   ],
   "source": [
    "total_revenue_web = filtered_allin_FA.loc[filtered_allin_FA['onsale_web'] == True, 'total_revenue'].sum()\n",
    "print(\"Total chiffre d'affaires des produits en ligne :\", total_revenue_web)"
   ]
  },
  {
   "cell_type": "code",
   "execution_count": 21,
   "metadata": {},
   "outputs": [
    {
     "data": {
      "text/plain": [
       "onsale_web\n",
       "True    1420\n",
       "Name: count, dtype: int64"
      ]
     },
     "execution_count": 21,
     "metadata": {},
     "output_type": "execute_result"
    }
   ],
   "source": [
    "filtered_allin_FA.onsale_web.value_counts(dropna=False)"
   ]
  },
  {
   "cell_type": "code",
   "execution_count": 22,
   "metadata": {},
   "outputs": [
    {
     "name": "stdout",
     "output_type": "stream",
     "text": [
      "Total chiffre d'affaires des produits en ligne : 140637.2\n"
     ]
    }
   ],
   "source": [
    "total_revenue_webv2 = filtered_allin_FA['total_revenue'].sum()\n",
    "print(\"Total chiffre d'affaires des produits en ligne :\", total_revenue_webv2)"
   ]
  },
  {
   "cell_type": "markdown",
   "metadata": {},
   "source": [
    "## Analyse sur la variable des erreurs de prix #"
   ]
  },
  {
   "cell_type": "markdown",
   "metadata": {},
   "source": [
    "### Analyse descriptive"
   ]
  },
  {
   "cell_type": "code",
   "execution_count": 23,
   "metadata": {},
   "outputs": [
    {
     "name": "stdout",
     "output_type": "stream",
     "text": [
      "count    1421.00\n",
      "mean       32.55\n",
      "std        27.86\n",
      "min         5.20\n",
      "25%        14.10\n",
      "50%        23.60\n",
      "75%        42.20\n",
      "max       225.00\n",
      "Name: price, dtype: float64\n"
     ]
    }
   ],
   "source": [
    "print(allin_for_analyze['price'].describe().round(2))"
   ]
  },
  {
   "cell_type": "code",
   "execution_count": 24,
   "metadata": {},
   "outputs": [
    {
     "name": "stdout",
     "output_type": "stream",
     "text": [
      "count    1420.00\n",
      "mean        4.02\n",
      "std         8.53\n",
      "min         0.00\n",
      "25%         0.00\n",
      "50%         1.00\n",
      "75%         4.00\n",
      "max        96.00\n",
      "Name: total_sales, dtype: float64\n"
     ]
    }
   ],
   "source": [
    "print(allin_for_analyze['total_sales'].describe().round(2))"
   ]
  },
  {
   "cell_type": "code",
   "execution_count": 25,
   "metadata": {},
   "outputs": [
    {
     "data": {
      "text/plain": [
       "0        True\n",
       "1        True\n",
       "2       False\n",
       "3       False\n",
       "4       False\n",
       "        ...  \n",
       "1416     True\n",
       "1417    False\n",
       "1418    False\n",
       "1419    False\n",
       "1420    False\n",
       "Name: total_revenue, Length: 1420, dtype: bool"
      ]
     },
     "execution_count": 25,
     "metadata": {},
     "output_type": "execute_result"
    }
   ],
   "source": [
    "filtered_allin_FA[\"total_revenue\"] == 0"
   ]
  },
  {
   "cell_type": "code",
   "execution_count": 26,
   "metadata": {},
   "outputs": [
    {
     "name": "stdout",
     "output_type": "stream",
     "text": [
      "Nombre de produits avec un revenu total de 0 : 652\n"
     ]
    }
   ],
   "source": [
    "# Compter le nombre de produits/rows avec un revenu total de 0\n",
    "count_zero_revenue = (filtered_allin_FA['total_revenue'] == 0).sum()\n",
    "print(\"Nombre de produits avec un revenu total de 0 :\", count_zero_revenue)"
   ]
  },
  {
   "cell_type": "markdown",
   "metadata": {},
   "source": [
    "### Visualisation des données"
   ]
  },
  {
   "cell_type": "code",
   "execution_count": 27,
   "metadata": {},
   "outputs": [
    {
     "data": {
      "image/png": "[encoded data removed]",
      "text/plain": [
       "<Figure size 500x500 with 1 Axes>"
      ]
     },
     "metadata": {},
     "output_type": "display_data"
    }
   ],
   "source": [
    "sns.displot(allin_for_analyze[\"price\"])\n",
    "plt.title(\"les prix par rapport à leurs récurrences\")\n",
    "plt.show()"
   ]
  },
  {
   "cell_type": "code",
   "execution_count": 28,
   "metadata": {},
   "outputs": [
    {
     "data": {
      "image/png": "[encoded data removed]",
      "text/plain": [
       "<Figure size 640x480 with 1 Axes>"
      ]
     },
     "metadata": {},
     "output_type": "display_data"
    }
   ],
   "source": [
    "#scatter plot\n",
    "plt.scatter(allin_for_analyze['price'], allin_for_analyze['total_sales'],\n",
    "            alpha=0.1, c='purple',marker='P')\n",
    "\n",
    "plt.title('Prix et Ventes totales')\n",
    "plt.xlabel('Prix')\n",
    "plt.ylabel('Ventes totales')\n",
    "plt.show()"
   ]
  },
  {
   "cell_type": "code",
   "execution_count": 29,
   "metadata": {},
   "outputs": [
    {
     "data": {
      "text/plain": [
       "count    1421\n",
       "mean       32\n",
       "std        27\n",
       "min         5\n",
       "25%        14\n",
       "50%        23\n",
       "75%        42\n",
       "max       225\n",
       "Name: price, dtype: int32"
      ]
     },
     "execution_count": 29,
     "metadata": {},
     "output_type": "execute_result"
    }
   ],
   "source": [
    "allin_for_analyze.price.describe().astype(int)"
   ]
  },
  {
   "cell_type": "code",
   "execution_count": 30,
   "metadata": {},
   "outputs": [
    {
     "data": {
      "application/vnd.plotly.v1+json": {
       "config": {
        "plotlyServerURL": "https://plot.ly"
       },
       "data": [
        {
         "alignmentgroup": "True",
         "hovertemplate": "price=%{y}<extra></extra>",
         "legendgroup": "",
         "marker": {
          "color": "#636efa"
         },
         "name": "",
         "notched": false,
         "offsetgroup": "",
         "orientation": "v",
         "showlegend": false,
         "type": "box",
         "x0": " ",
         "xaxis": "x",
         "y": [
          18.5,
          18.5,
          41.2,
          41.2,
          55,
          55,
          57,
          57,
          24.4,
          24.4,
          24.4,
          24.4,
          37.2,
          37.2,
          19.2,
          19.2,
          19.2,
          19.2,
          27.8,
          27.8,
          56.4,
          56.4,
          38.4,
          38.4,
          71.3,
          71.3,
          71.3,
          71.3,
          19.8,
          19.8,
          18.2,
          18.2,
          31.6,
          31.6,
          57.6,
          57.6,
          16.8,
          16.8,
          22.8,
          22.8,
          32.6,
          32.6,
          44,
          44,
          48.5,
          48.5,
          59.9,
          59.9,
          59.9,
          59.9,
          65,
          65,
          25,
          25,
          49.5,
          49.5,
          55.4,
          55.4,
          31.7,
          31.7,
          22.9,
          22.9,
          53.2,
          53.2,
          24,
          24,
          59,
          59,
          67.5,
          67.5,
          57,
          57,
          30.6,
          30.6,
          13.5,
          13.5,
          25.9,
          25.9,
          25.9,
          25.9,
          17.3,
          17.3,
          27.3,
          27.3,
          19,
          19,
          11.1,
          11.1,
          28,
          28,
          35.3,
          35.3,
          16.1,
          16.1,
          24.2,
          24.2,
          29.9,
          29.9,
          16.5,
          16.5,
          24.3,
          24.3,
          21.5,
          21.5,
          28.5,
          28.5,
          11.9,
          11.9,
          16.5,
          16.5,
          15.8,
          15.8,
          10.4,
          10.4,
          9,
          9,
          45.9,
          45.9,
          14.1,
          14.1,
          9.3,
          9.3,
          21.4,
          21.4,
          16.7,
          16.7,
          40.5,
          40.5,
          11.9,
          11.9,
          22.9,
          22.9,
          24.5,
          24.5,
          9.6,
          9.6,
          35.6,
          35.6,
          175,
          175,
          35.6,
          35.6,
          33.6,
          33.6,
          34.4,
          34.4,
          38.4,
          38.4,
          29.7,
          29.7,
          30,
          30,
          15.3,
          15.3,
          16.8,
          16.8,
          27.5,
          27.5,
          11.1,
          11.1,
          11.1,
          11.1,
          16.1,
          16.1,
          31.5,
          31.5,
          31.5,
          31.5,
          49,
          49,
          50.4,
          50.4,
          32.2,
          32.2,
          35.6,
          35.6,
          50.1,
          50.1,
          12.8,
          12.8,
          23.2,
          23.2,
          7,
          7,
          18.9,
          18.9,
          67.2,
          67.2,
          19,
          19,
          12.9,
          12.9,
          112,
          112,
          45,
          45,
          86.8,
          86.8,
          62.1,
          62.1,
          79.5,
          79.5,
          126.5,
          126.5,
          79.5,
          79.5,
          225,
          225,
          51.6,
          51.6,
          59,
          59,
          135,
          135,
          49,
          49,
          53,
          53,
          49,
          49,
          85.6,
          85.6,
          39,
          39,
          49.5,
          49.5,
          77,
          77,
          29.5,
          29.5,
          35.5,
          35.5,
          37.5,
          37.5,
          33,
          33,
          59,
          59,
          69,
          69,
          83,
          83,
          22.5,
          22.5,
          40.2,
          40.2,
          23.7,
          23.7,
          41,
          41,
          27,
          27,
          11.6,
          11.6,
          23,
          23,
          10.9,
          10.9,
          13.5,
          13.5,
          17.8,
          17.8,
          9.4,
          9.4,
          9.3,
          9.3,
          10.8,
          10.8,
          6.8,
          6.8,
          18.2,
          18.2,
          9.9,
          9.9,
          13.8,
          13.8,
          10.1,
          10.1,
          27.2,
          27.2,
          109.6,
          109.6,
          71.7,
          71.7,
          32,
          32,
          77.8,
          77.8,
          12.6,
          12.6,
          13.4,
          13.4,
          29.8,
          29.8,
          23,
          23,
          18.5,
          18.5,
          49.9,
          49.9,
          26.5,
          26.5,
          16.3,
          16.3,
          16.45,
          16.45,
          8.2,
          8.2,
          9.1,
          9.1,
          9.1,
          9.1,
          18.1,
          18.1,
          12.5,
          12.5,
          17.2,
          17.2,
          46.5,
          46.5,
          46.5,
          46.5,
          24,
          24,
          9.3,
          9.3,
          19.8,
          19.8,
          11.3,
          11.3,
          7,
          7,
          12.1,
          12.1,
          7.1,
          7.1,
          6.5,
          6.5,
          9.9,
          9.9,
          15.8,
          15.8,
          15.8,
          15.8,
          17.8,
          17.8,
          12.2,
          12.2,
          17.1,
          17.1,
          24,
          24,
          12.7,
          12.7,
          39,
          39,
          10.7,
          10.7,
          38.5,
          38.5,
          21.8,
          21.8,
          73.3,
          73.3,
          54.8,
          54.8,
          44.3,
          44.3,
          32.8,
          32.8,
          71.6,
          71.6,
          13.6,
          13.6,
          13.9,
          13.9,
          12.7,
          12.7,
          9.9,
          9.9,
          15.4,
          15.4,
          7.8,
          7.8,
          13.5,
          13.5,
          17.2,
          17.2,
          44,
          44,
          157,
          157,
          68.1,
          68.1,
          104,
          104,
          108.5,
          108.5,
          176,
          176,
          62.5,
          62.5,
          59.9,
          59.9,
          191.3,
          191.3,
          12.6,
          12.6,
          36,
          36,
          36,
          36,
          15.2,
          15.2,
          17.9,
          17.9,
          21.6,
          21.6,
          105.6,
          105.6,
          217.5,
          217.5,
          64.9,
          64.9,
          48.7,
          48.7,
          48.7,
          48.7,
          59.4,
          59.4,
          32.8,
          32.8,
          43.5,
          43.5,
          72,
          72,
          29,
          29,
          28.4,
          28.4,
          29.2,
          29.2,
          49.5,
          49.5,
          43.5,
          43.5,
          44,
          44,
          33.4,
          33.4,
          28,
          28,
          21.2,
          21.2,
          20.8,
          20.8,
          10.2,
          10.2,
          10.4,
          10.4,
          19,
          19,
          15.2,
          15.2,
          11.5,
          11.5,
          38.6,
          38.6,
          48.4,
          48.4,
          38.6,
          38.6,
          60.4,
          60.4,
          12,
          12,
          42.1,
          42.1,
          116.4,
          116.4,
          57,
          57,
          7.1,
          7.1,
          6.3,
          6.3,
          24.4,
          24.4,
          14.9,
          14.9,
          22.4,
          22.4,
          44,
          44,
          23.2,
          23.2,
          17.5,
          17.5,
          51,
          51,
          39.1,
          39.1,
          16.3,
          16.3,
          16.9,
          16.9,
          17.1,
          17.1,
          16.7,
          16.7,
          29.4,
          29.4,
          7.1,
          7.1,
          10.9,
          10.9,
          10.7,
          10.7,
          19.8,
          19.8,
          17.7,
          17.7,
          28.5,
          28.5,
          11.9,
          11.9,
          16.4,
          16.4,
          7.5,
          7.5,
          12,
          12,
          27.9,
          27.9,
          7.4,
          7.4,
          46,
          46,
          46,
          46,
          74.5,
          74.5,
          44,
          44,
          55.6,
          55.6,
          99,
          99,
          115,
          115,
          121,
          121,
          105,
          105,
          105,
          105,
          115,
          115,
          121,
          121,
          41,
          41,
          137,
          137,
          102.3,
          102.3,
          46,
          46,
          10.8,
          10.8,
          31,
          31,
          25.2,
          25.2,
          25.2,
          25.2,
          21.7,
          21.7,
          20.2,
          20.2,
          38.6,
          38.6,
          44.6,
          44.6,
          48.5,
          48.5,
          27.7,
          27.7,
          26.7,
          26.7,
          26.9,
          26.9,
          24.4,
          24.4,
          34.7,
          34.7,
          59.6,
          59.6,
          31.7,
          31.7,
          59.6,
          59.6,
          32.1,
          32.1,
          19.8,
          19.8,
          7.9,
          7.9,
          17.5,
          17.5,
          8.5,
          8.5,
          6.5,
          6.5,
          7.9,
          7.9,
          16.7,
          16.7,
          15.4,
          15.4,
          12.7,
          12.7,
          7.6,
          7.6,
          14.3,
          14.3,
          22,
          22,
          78,
          78,
          78,
          78,
          78,
          78,
          78,
          78,
          12.8,
          12.8,
          12.8,
          12.8,
          12.9,
          12.9,
          10.7,
          10.7,
          29.8,
          29.8,
          9.5,
          9.5,
          13.2,
          13.2,
          11.1,
          11.1,
          9.9,
          9.9,
          12.5,
          12.5,
          19.5,
          19.5,
          14.1,
          14.1,
          14.8,
          14.8,
          26.5,
          26.5,
          16.3,
          16.3,
          24.3,
          24.3,
          42,
          42,
          16.9,
          16.9,
          15.8,
          15.8,
          18.4,
          18.4,
          13.3,
          13.3,
          11.1,
          11.1,
          18.6,
          18.6,
          23.4,
          23.4,
          12.5,
          12.5,
          18.2,
          18.2,
          15.9,
          15.9,
          9.2,
          9.2,
          15.5,
          15.5,
          16.6,
          16.6,
          12.9,
          12.9,
          10.3,
          10.3,
          124.8,
          124.8,
          18,
          18,
          38.6,
          38.6,
          63.4,
          63.4,
          14.3,
          14.3,
          46.5,
          46.5,
          27.3,
          27.3,
          13.4,
          13.4,
          13.7,
          13.7,
          19.2,
          19.2,
          29,
          29,
          20.35,
          20.35,
          14.5,
          14.5,
          9.8,
          9.8,
          8.6,
          8.6,
          12,
          12,
          15.4,
          15.4,
          15.8,
          15.8,
          12.6,
          12.6,
          35,
          35,
          9.7,
          9.7,
          16.3,
          16.3,
          16.3,
          16.3,
          6.8,
          6.8,
          21.7,
          21.7,
          13.7,
          13.7,
          13.7,
          13.7,
          29,
          29,
          12.7,
          12.7,
          23.4,
          23.4,
          13.1,
          13.1,
          13.4,
          13.4,
          11.8,
          11.8,
          11.6,
          11.6,
          26.6,
          26.6,
          16.9,
          16.9,
          19,
          19,
          20.6,
          20.6,
          26.2,
          26.2,
          22,
          22,
          46,
          46,
          23.4,
          23.4,
          16.6,
          16.6,
          44.5,
          44.5,
          60,
          60,
          39.2,
          39.2,
          13.7,
          13.7,
          39,
          39,
          21.8,
          21.8,
          42,
          42,
          69.8,
          69.8,
          13.5,
          13.5,
          24,
          24,
          24,
          24,
          13.5,
          13.5,
          11.5,
          11.5,
          19.5,
          19.5,
          13.1,
          13.1,
          42.2,
          42.2,
          48.5,
          48.5,
          14.9,
          14.9,
          24.8,
          24.8,
          17.6,
          17.6,
          8.1,
          8.1,
          27.9,
          27.9,
          27.9,
          27.9,
          24.5,
          24.5,
          20.1,
          20.1,
          69,
          69,
          25.9,
          25.9,
          25.9,
          25.9,
          28,
          28,
          50.5,
          50.5,
          9.7,
          9.7,
          7.4,
          7.4,
          14.5,
          14.5,
          12.7,
          12.7,
          16.4,
          16.4,
          17.4,
          17.4,
          19,
          19,
          13.5,
          13.5,
          15.5,
          15.5,
          16.3,
          16.3,
          13.2,
          13.2,
          23.6,
          23.6,
          19,
          19,
          8.7,
          8.7,
          12.1,
          12.1,
          20.4,
          20.4,
          22.4,
          22.4,
          13.3,
          13.3,
          16.6,
          16.6,
          27.5,
          27.5,
          40.2,
          40.2,
          20.4,
          20.4,
          25,
          25,
          39,
          39,
          28.8,
          28.8,
          9.5,
          9.5,
          78,
          78,
          45,
          45,
          52.6,
          52.6,
          79.8,
          79.8,
          67,
          67,
          48.5,
          48.5,
          83.7,
          83.7,
          58.8,
          58.8,
          39.8,
          39.8,
          16.9,
          16.9,
          56,
          56,
          63.5,
          63.5,
          57.6,
          57.6,
          63.5,
          63.5,
          68.3,
          68.3,
          65.9,
          65.9,
          61.6,
          61.6,
          43.9,
          43.9,
          61.6,
          61.6,
          26.5,
          26.5,
          41.8,
          41.8,
          41.8,
          41.8,
          26.5,
          26.5,
          26.5,
          26.5,
          18.4,
          18.4,
          27.8,
          27.8,
          25.7,
          25.7,
          22.2,
          22.2,
          41,
          41,
          52.4,
          52.4,
          50,
          50,
          76.8,
          76.8,
          62.4,
          62.4,
          52.4,
          52.4,
          50,
          50,
          62.4,
          62.4,
          39.6,
          39.6,
          58.3,
          58.3,
          52.4,
          52.4,
          52.9,
          52.9,
          24,
          24,
          17.1,
          17.1,
          38,
          38,
          38,
          38,
          11.3,
          11.3,
          9.9,
          9.9,
          23,
          23,
          30.1,
          30.1,
          14,
          14,
          5.7,
          5.7,
          5.7,
          5.7,
          5.8,
          5.8,
          5.8,
          5.8,
          5.7,
          5.7,
          5.7,
          5.7,
          13.7,
          13.7,
          12.1,
          12.1,
          10.1,
          10.1,
          12.3,
          12.3,
          18.7,
          18.7,
          29.5,
          29.5,
          11.1,
          11.1,
          13.6,
          13.6,
          11.1,
          11.1,
          21,
          21,
          41.6,
          41.6,
          28.5,
          28.5,
          9.6,
          9.6,
          33.7,
          33.7,
          18.8,
          18.8,
          43.9,
          43.9,
          28.1,
          28.1,
          6.7,
          6.7,
          10.6,
          10.6,
          5.2,
          5.2,
          5.8,
          5.8,
          10.6,
          10.6,
          5.8,
          5.8,
          11.9,
          11.9,
          9.8,
          9.8,
          8.7,
          8.7,
          8.7,
          8.7,
          11.9,
          11.9,
          14.5,
          14.5,
          8.7,
          8.7,
          8.4,
          8.4,
          73,
          22.8,
          22.8,
          18,
          18,
          20.5,
          20.5,
          9,
          9,
          14.3,
          14.3,
          18.2,
          18.2,
          7.8,
          7.8,
          14.4,
          14.4,
          20.5,
          20.5,
          12.9,
          12.9,
          19.5,
          19.5,
          20.8,
          20.8,
          16.2,
          16.2,
          12.9,
          12.9,
          7.2,
          7.2,
          8.6,
          8.6,
          8.9,
          8.9,
          8.9,
          8.9,
          10.3,
          10.3,
          10.8,
          10.8,
          28,
          28,
          25,
          25,
          12,
          12,
          7.6,
          7.6,
          12.6,
          12.6,
          9.8,
          9.8,
          22.8,
          22.8,
          12.8,
          12.8,
          22.1,
          22.1,
          26,
          26,
          20.2,
          20.2,
          17,
          17,
          19.8,
          19.8,
          21.9,
          21.9,
          17.8,
          17.8,
          19,
          19,
          19.8,
          19.8,
          23.8,
          23.8,
          9.9,
          9.9,
          13,
          13,
          8.7,
          8.7,
          8.5,
          8.5,
          12.7,
          12.7,
          6.5,
          6.5,
          32.7,
          32.7,
          31.2,
          31.2,
          42.6,
          42.6,
          60,
          60,
          80,
          80,
          18.3,
          18.3,
          19.3,
          19.3,
          21.8,
          21.8,
          22.8,
          22.8,
          7.7,
          7.7,
          46,
          46,
          20.8,
          20.8,
          14.1,
          14.1,
          24.2,
          24.2,
          34.3,
          34.3,
          34.3,
          34.3,
          16.9,
          16.9,
          20.8,
          20.8,
          17.2,
          17.2,
          12,
          12,
          26.7,
          26.7,
          23.5,
          23.5,
          17.5,
          17.5,
          9.3,
          9.3,
          26.4,
          26.4,
          11.6,
          11.6,
          29.9,
          29.9,
          9.3,
          9.3,
          14.7,
          14.7,
          14.05,
          14.05,
          13.5,
          13.5,
          19,
          19,
          16.4,
          16.4,
          23.2,
          23.2,
          14.4,
          14.4,
          30,
          30,
          17,
          17,
          17.9,
          17.9,
          18.7,
          18.7,
          40,
          40,
          28.4,
          28.4,
          27.9,
          27.9,
          25.3,
          25.3,
          17,
          17,
          19.3,
          19.3,
          19,
          19,
          29.5,
          29.5,
          10.2,
          10.2,
          15.3,
          15.3,
          36.9,
          36.9,
          33.2,
          33.2,
          28.1,
          28.1,
          18.25,
          18.25,
          35.1,
          35.1,
          40.7,
          40.7,
          27.3,
          27.3,
          62.4,
          62.4,
          74.8,
          74.8,
          34.8,
          34.8,
          30.8,
          30.8,
          27.9,
          27.9,
          92,
          92,
          58,
          58,
          22.8,
          22.8,
          58,
          58,
          15.4,
          15.4,
          24.7,
          24.7,
          57.7,
          57.7,
          25.3,
          25.3,
          49,
          49,
          38,
          38,
          15.2,
          15.2,
          36.2,
          36.2,
          36.3,
          36.3,
          33.4,
          33.4,
          34.3,
          34.3,
          35.2,
          35.2,
          40.2,
          40.2,
          42.2,
          42.2,
          43,
          43,
          43,
          43,
          48.8,
          48.8,
          48.8,
          48.8,
          24.6,
          24.6,
          17.1,
          17.1,
          9.3,
          9.3,
          11,
          11,
          10.7,
          10.7,
          14.6,
          14.6,
          14.9,
          14.9,
          16.6,
          16.6,
          33.2,
          33.2,
          37,
          37,
          21,
          21,
          14.4,
          14.4,
          30.5,
          30.5,
          32.2,
          32.2,
          41.8,
          41.8,
          47.2,
          47.2,
          52.7,
          52.7,
          37.7,
          37.7,
          33.2,
          33.2,
          93,
          93,
          114,
          114,
          122,
          122,
          57,
          57,
          27.5,
          27.5,
          49.5,
          49.5,
          59,
          59,
          49.5,
          49.5,
          59,
          59,
          49.5,
          49.5,
          62,
          62,
          59,
          59,
          59.8,
          59.8,
          57,
          57,
          12.3,
          12.3,
          8.9,
          8.9,
          12.8,
          12.8,
          9.7,
          9.7,
          77.4,
          77.4,
          56.3,
          56.3,
          29.8,
          29.8,
          17.9,
          17.9,
          88.4,
          88.4,
          23,
          23,
          71.5,
          71.5,
          69,
          69,
          100,
          100,
          31.7,
          31.7,
          25.7,
          25.7
         ],
         "y0": " ",
         "yaxis": "y"
        }
       ],
       "layout": {
        "boxmode": "group",
        "legend": {
         "tracegroupgap": 0
        },
        "template": {
         "data": {
          "bar": [
           {
            "error_x": {
             "color": "#2a3f5f"
            },
            "error_y": {
             "color": "#2a3f5f"
            },
            "marker": {
             "line": {
              "color": "#E5ECF6",
              "width": 0.5
             },
             "pattern": {
              "fillmode": "overlay",
              "size": 10,
              "solidity": 0.2
             }
            },
            "type": "bar"
           }
          ],
          "barpolar": [
           {
            "marker": {
             "line": {
              "color": "#E5ECF6",
              "width": 0.5
             },
             "pattern": {
              "fillmode": "overlay",
              "size": 10,
              "solidity": 0.2
             }
            },
            "type": "barpolar"
           }
          ],
          "carpet": [
           {
            "aaxis": {
             "endlinecolor": "#2a3f5f",
             "gridcolor": "white",
             "linecolor": "white",
             "minorgridcolor": "white",
             "startlinecolor": "#2a3f5f"
            },
            "baxis": {
             "endlinecolor": "#2a3f5f",
             "gridcolor": "white",
             "linecolor": "white",
             "minorgridcolor": "white",
             "startlinecolor": "#2a3f5f"
            },
            "type": "carpet"
           }
          ],
          "choropleth": [
           {
            "colorbar": {
             "outlinewidth": 0,
             "ticks": ""
            },
            "type": "choropleth"
           }
          ],
          "contour": [
           {
            "colorbar": {
             "outlinewidth": 0,
             "ticks": ""
            },
            "colorscale": [
             [
              0,
              "#0d0887"
             ],
             [
              0.1111111111111111,
              "#46039f"
             ],
             [
              0.2222222222222222,
              "#7201a8"
             ],
             [
              0.3333333333333333,
              "#9c179e"
             ],
             [
              0.4444444444444444,
              "#bd3786"
             ],
             [
              0.5555555555555556,
              "#d8576b"
             ],
             [
              0.6666666666666666,
              "#ed7953"
             ],
             [
              0.7777777777777778,
              "#fb9f3a"
             ],
             [
              0.8888888888888888,
              "#fdca26"
             ],
             [
              1,
              "#f0f921"
             ]
            ],
            "type": "contour"
           }
          ],
          "contourcarpet": [
           {
            "colorbar": {
             "outlinewidth": 0,
             "ticks": ""
            },
            "type": "contourcarpet"
           }
          ],
          "heatmap": [
           {
            "colorbar": {
             "outlinewidth": 0,
             "ticks": ""
            },
            "colorscale": [
             [
              0,
              "#0d0887"
             ],
             [
              0.1111111111111111,
              "#46039f"
             ],
             [
              0.2222222222222222,
              "#7201a8"
             ],
             [
              0.3333333333333333,
              "#9c179e"
             ],
             [
              0.4444444444444444,
              "#bd3786"
             ],
             [
              0.5555555555555556,
              "#d8576b"
             ],
             [
              0.6666666666666666,
              "#ed7953"
             ],
             [
              0.7777777777777778,
              "#fb9f3a"
             ],
             [
              0.8888888888888888,
              "#fdca26"
             ],
             [
              1,
              "#f0f921"
             ]
            ],
            "type": "heatmap"
           }
          ],
          "heatmapgl": [
           {
            "colorbar": {
             "outlinewidth": 0,
             "ticks": ""
            },
            "colorscale": [
             [
              0,
              "#0d0887"
             ],
             [
              0.1111111111111111,
              "#46039f"
             ],
             [
              0.2222222222222222,
              "#7201a8"
             ],
             [
              0.3333333333333333,
              "#9c179e"
             ],
             [
              0.4444444444444444,
              "#bd3786"
             ],
             [
              0.5555555555555556,
              "#d8576b"
             ],
             [
              0.6666666666666666,
              "#ed7953"
             ],
             [
              0.7777777777777778,
              "#fb9f3a"
             ],
             [
              0.8888888888888888,
              "#fdca26"
             ],
             [
              1,
              "#f0f921"
             ]
            ],
            "type": "heatmapgl"
           }
          ],
          "histogram": [
           {
            "marker": {
             "pattern": {
              "fillmode": "overlay",
              "size": 10,
              "solidity": 0.2
             }
            },
            "type": "histogram"
           }
          ],
          "histogram2d": [
           {
            "colorbar": {
             "outlinewidth": 0,
             "ticks": ""
            },
            "colorscale": [
             [
              0,
              "#0d0887"
             ],
             [
              0.1111111111111111,
              "#46039f"
             ],
             [
              0.2222222222222222,
              "#7201a8"
             ],
             [
              0.3333333333333333,
              "#9c179e"
             ],
             [
              0.4444444444444444,
              "#bd3786"
             ],
             [
              0.5555555555555556,
              "#d8576b"
             ],
             [
              0.6666666666666666,
              "#ed7953"
             ],
             [
              0.7777777777777778,
              "#fb9f3a"
             ],
             [
              0.8888888888888888,
              "#fdca26"
             ],
             [
              1,
              "#f0f921"
             ]
            ],
            "type": "histogram2d"
           }
          ],
          "histogram2dcontour": [
           {
            "colorbar": {
             "outlinewidth": 0,
             "ticks": ""
            },
            "colorscale": [
             [
              0,
              "#0d0887"
             ],
             [
              0.1111111111111111,
              "#46039f"
             ],
             [
              0.2222222222222222,
              "#7201a8"
             ],
             [
              0.3333333333333333,
              "#9c179e"
             ],
             [
              0.4444444444444444,
              "#bd3786"
             ],
             [
              0.5555555555555556,
              "#d8576b"
             ],
             [
              0.6666666666666666,
              "#ed7953"
             ],
             [
              0.7777777777777778,
              "#fb9f3a"
             ],
             [
              0.8888888888888888,
              "#fdca26"
             ],
             [
              1,
              "#f0f921"
             ]
            ],
            "type": "histogram2dcontour"
           }
          ],
          "mesh3d": [
           {
            "colorbar": {
             "outlinewidth": 0,
             "ticks": ""
            },
            "type": "mesh3d"
           }
          ],
          "parcoords": [
           {
            "line": {
             "colorbar": {
              "outlinewidth": 0,
              "ticks": ""
             }
            },
            "type": "parcoords"
           }
          ],
          "pie": [
           {
            "automargin": true,
            "type": "pie"
           }
          ],
          "scatter": [
           {
            "fillpattern": {
             "fillmode": "overlay",
             "size": 10,
             "solidity": 0.2
            },
            "type": "scatter"
           }
          ],
          "scatter3d": [
           {
            "line": {
             "colorbar": {
              "outlinewidth": 0,
              "ticks": ""
             }
            },
            "marker": {
             "colorbar": {
              "outlinewidth": 0,
              "ticks": ""
             }
            },
            "type": "scatter3d"
           }
          ],
          "scattercarpet": [
           {
            "marker": {
             "colorbar": {
              "outlinewidth": 0,
              "ticks": ""
             }
            },
            "type": "scattercarpet"
           }
          ],
          "scattergeo": [
           {
            "marker": {
             "colorbar": {
              "outlinewidth": 0,
              "ticks": ""
             }
            },
            "type": "scattergeo"
           }
          ],
          "scattergl": [
           {
            "marker": {
             "colorbar": {
              "outlinewidth": 0,
              "ticks": ""
             }
            },
            "type": "scattergl"
           }
          ],
          "scattermapbox": [
           {
            "marker": {
             "colorbar": {
              "outlinewidth": 0,
              "ticks": ""
             }
            },
            "type": "scattermapbox"
           }
          ],
          "scatterpolar": [
           {
            "marker": {
             "colorbar": {
              "outlinewidth": 0,
              "ticks": ""
             }
            },
            "type": "scatterpolar"
           }
          ],
          "scatterpolargl": [
           {
            "marker": {
             "colorbar": {
              "outlinewidth": 0,
              "ticks": ""
             }
            },
            "type": "scatterpolargl"
           }
          ],
          "scatterternary": [
           {
            "marker": {
             "colorbar": {
              "outlinewidth": 0,
              "ticks": ""
             }
            },
            "type": "scatterternary"
           }
          ],
          "surface": [
           {
            "colorbar": {
             "outlinewidth": 0,
             "ticks": ""
            },
            "colorscale": [
             [
              0,
              "#0d0887"
             ],
             [
              0.1111111111111111,
              "#46039f"
             ],
             [
              0.2222222222222222,
              "#7201a8"
             ],
             [
              0.3333333333333333,
              "#9c179e"
             ],
             [
              0.4444444444444444,
              "#bd3786"
             ],
             [
              0.5555555555555556,
              "#d8576b"
             ],
             [
              0.6666666666666666,
              "#ed7953"
             ],
             [
              0.7777777777777778,
              "#fb9f3a"
             ],
             [
              0.8888888888888888,
              "#fdca26"
             ],
             [
              1,
              "#f0f921"
             ]
            ],
            "type": "surface"
           }
          ],
          "table": [
           {
            "cells": {
             "fill": {
              "color": "#EBF0F8"
             },
             "line": {
              "color": "white"
             }
            },
            "header": {
             "fill": {
              "color": "#C8D4E3"
             },
             "line": {
              "color": "white"
             }
            },
            "type": "table"
           }
          ]
         },
         "layout": {
          "annotationdefaults": {
           "arrowcolor": "#2a3f5f",
           "arrowhead": 0,
           "arrowwidth": 1
          },
          "autotypenumbers": "strict",
          "coloraxis": {
           "colorbar": {
            "outlinewidth": 0,
            "ticks": ""
           }
          },
          "colorscale": {
           "diverging": [
            [
             0,
             "#8e0152"
            ],
            [
             0.1,
             "#c51b7d"
            ],
            [
             0.2,
             "#de77ae"
            ],
            [
             0.3,
             "#f1b6da"
            ],
            [
             0.4,
             "#fde0ef"
            ],
            [
             0.5,
             "#f7f7f7"
            ],
            [
             0.6,
             "#e6f5d0"
            ],
            [
             0.7,
             "#b8e186"
            ],
            [
             0.8,
             "#7fbc41"
            ],
            [
             0.9,
             "#4d9221"
            ],
            [
             1,
             "#276419"
            ]
           ],
           "sequential": [
            [
             0,
             "#0d0887"
            ],
            [
             0.1111111111111111,
             "#46039f"
            ],
            [
             0.2222222222222222,
             "#7201a8"
            ],
            [
             0.3333333333333333,
             "#9c179e"
            ],
            [
             0.4444444444444444,
             "#bd3786"
            ],
            [
             0.5555555555555556,
             "#d8576b"
            ],
            [
             0.6666666666666666,
             "#ed7953"
            ],
            [
             0.7777777777777778,
             "#fb9f3a"
            ],
            [
             0.8888888888888888,
             "#fdca26"
            ],
            [
             1,
             "#f0f921"
            ]
           ],
           "sequentialminus": [
            [
             0,
             "#0d0887"
            ],
            [
             0.1111111111111111,
             "#46039f"
            ],
            [
             0.2222222222222222,
             "#7201a8"
            ],
            [
             0.3333333333333333,
             "#9c179e"
            ],
            [
             0.4444444444444444,
             "#bd3786"
            ],
            [
             0.5555555555555556,
             "#d8576b"
            ],
            [
             0.6666666666666666,
             "#ed7953"
            ],
            [
             0.7777777777777778,
             "#fb9f3a"
            ],
            [
             0.8888888888888888,
             "#fdca26"
            ],
            [
             1,
             "#f0f921"
            ]
           ]
          },
          "colorway": [
           "#636efa",
           "#EF553B",
           "#00cc96",
           "#ab63fa",
           "#FFA15A",
           "#19d3f3",
           "#FF6692",
           "#B6E880",
           "#FF97FF",
           "#FECB52"
          ],
          "font": {
           "color": "#2a3f5f"
          },
          "geo": {
           "bgcolor": "white",
           "lakecolor": "white",
           "landcolor": "#E5ECF6",
           "showlakes": true,
           "showland": true,
           "subunitcolor": "white"
          },
          "hoverlabel": {
           "align": "left"
          },
          "hovermode": "closest",
          "mapbox": {
           "style": "light"
          },
          "paper_bgcolor": "white",
          "plot_bgcolor": "#E5ECF6",
          "polar": {
           "angularaxis": {
            "gridcolor": "white",
            "linecolor": "white",
            "ticks": ""
           },
           "bgcolor": "#E5ECF6",
           "radialaxis": {
            "gridcolor": "white",
            "linecolor": "white",
            "ticks": ""
           }
          },
          "scene": {
           "xaxis": {
            "backgroundcolor": "#E5ECF6",
            "gridcolor": "white",
            "gridwidth": 2,
            "linecolor": "white",
            "showbackground": true,
            "ticks": "",
            "zerolinecolor": "white"
           },
           "yaxis": {
            "backgroundcolor": "#E5ECF6",
            "gridcolor": "white",
            "gridwidth": 2,
            "linecolor": "white",
            "showbackground": true,
            "ticks": "",
            "zerolinecolor": "white"
           },
           "zaxis": {
            "backgroundcolor": "#E5ECF6",
            "gridcolor": "white",
            "gridwidth": 2,
            "linecolor": "white",
            "showbackground": true,
            "ticks": "",
            "zerolinecolor": "white"
           }
          },
          "shapedefaults": {
           "line": {
            "color": "#2a3f5f"
           }
          },
          "ternary": {
           "aaxis": {
            "gridcolor": "white",
            "linecolor": "white",
            "ticks": ""
           },
           "baxis": {
            "gridcolor": "white",
            "linecolor": "white",
            "ticks": ""
           },
           "bgcolor": "#E5ECF6",
           "caxis": {
            "gridcolor": "white",
            "linecolor": "white",
            "ticks": ""
           }
          },
          "title": {
           "x": 0.05
          },
          "xaxis": {
           "automargin": true,
           "gridcolor": "white",
           "linecolor": "white",
           "ticks": "",
           "title": {
            "standoff": 15
           },
           "zerolinecolor": "white",
           "zerolinewidth": 2
          },
          "yaxis": {
           "automargin": true,
           "gridcolor": "white",
           "linecolor": "white",
           "ticks": "",
           "title": {
            "standoff": 15
           },
           "zerolinecolor": "white",
           "zerolinewidth": 2
          }
         }
        },
        "title": {
         "text": "Moyenne des prix"
        },
        "xaxis": {
         "anchor": "y",
         "domain": [
          0,
          1
         ]
        },
        "yaxis": {
         "anchor": "x",
         "domain": [
          0,
          1
         ],
         "title": {
          "text": "price"
         }
        }
       }
      }
     },
     "metadata": {},
     "output_type": "display_data"
    }
   ],
   "source": [
    "px.box(allin_for_analyze, y=\"price\", title = 'Moyenne des prix')"
   ]
  },
  {
   "cell_type": "code",
   "execution_count": 31,
   "metadata": {},
   "outputs": [
    {
     "data": {
      "application/vnd.plotly.v1+json": {
       "config": {
        "plotlyServerURL": "https://plot.ly"
       },
       "data": [
        {
         "alignmentgroup": "True",
         "hovertemplate": "Couleur=Rouge<br>price=%{y}<extra></extra>",
         "legendgroup": "Rouge",
         "marker": {
          "color": "#636efa"
         },
         "name": "Rouge",
         "notched": false,
         "offsetgroup": "Rouge",
         "orientation": "v",
         "showlegend": true,
         "type": "box",
         "x0": " ",
         "xaxis": "x",
         "y": [
          18.5,
          18.5,
          41.2,
          41.2,
          55,
          55,
          57,
          57,
          24.4,
          24.4,
          37.2,
          37.2,
          38.4,
          38.4,
          31.7,
          31.7,
          59,
          59,
          67.5,
          67.5,
          57,
          57,
          30.6,
          30.6,
          17.3,
          17.3,
          35.3,
          35.3,
          21.5,
          21.5,
          11.9,
          11.9,
          16.5,
          16.5,
          9,
          9,
          9.3,
          9.3,
          21.4,
          21.4,
          16.7,
          16.7,
          40.5,
          40.5,
          11.9,
          11.9,
          22.9,
          22.9,
          9.6,
          9.6,
          175,
          175,
          35.6,
          35.6,
          33.6,
          33.6,
          38.4,
          38.4,
          29.7,
          29.7,
          11.1,
          11.1,
          31.5,
          31.5,
          31.5,
          31.5,
          50.4,
          50.4,
          35.6,
          35.6,
          50.1,
          50.1,
          7,
          7,
          12.9,
          12.9,
          23.7,
          23.7,
          41,
          41,
          27,
          27,
          11.6,
          11.6,
          10.9,
          10.9,
          17.8,
          17.8,
          9.3,
          9.3,
          10.8,
          10.8,
          18.2,
          18.2,
          10.1,
          10.1,
          27.2,
          27.2,
          71.7,
          71.7,
          77.8,
          77.8,
          23,
          23,
          18.5,
          18.5,
          49.9,
          49.9,
          16.45,
          16.45,
          9.1,
          9.1,
          18.1,
          18.1,
          17.2,
          17.2,
          24,
          24,
          7,
          7,
          12.1,
          12.1,
          9.9,
          9.9,
          15.8,
          15.8,
          15.8,
          15.8,
          17.8,
          17.8,
          17.1,
          17.1,
          24,
          24,
          12.7,
          12.7,
          39,
          39,
          10.7,
          10.7,
          73.3,
          73.3,
          54.8,
          54.8,
          44.3,
          44.3,
          32.8,
          32.8,
          71.6,
          71.6,
          12.7,
          12.7,
          9.9,
          9.9,
          15.4,
          15.4,
          7.8,
          7.8,
          13.5,
          13.5,
          17.2,
          17.2,
          191.3,
          191.3,
          12.6,
          12.6,
          15.2,
          15.2,
          17.9,
          17.9,
          21.6,
          21.6,
          217.5,
          217.5,
          43.5,
          43.5,
          72,
          72,
          29,
          29,
          29.2,
          29.2,
          43.5,
          43.5,
          28,
          28,
          20.8,
          20.8,
          10.4,
          10.4,
          19,
          19,
          15.2,
          15.2,
          11.5,
          11.5,
          48.4,
          48.4,
          38.6,
          38.6,
          60.4,
          60.4,
          42.1,
          42.1,
          116.4,
          116.4,
          57,
          57,
          14.9,
          14.9,
          22.4,
          22.4,
          44,
          44,
          23.2,
          23.2,
          39.1,
          39.1,
          16.3,
          16.3,
          7.1,
          7.1,
          10.9,
          10.9,
          16.4,
          16.4,
          7.5,
          7.5,
          7.4,
          7.4,
          46,
          46,
          74.5,
          74.5,
          44,
          44,
          55.6,
          55.6,
          99,
          99,
          115,
          115,
          121,
          121,
          105,
          105,
          105,
          105,
          41,
          41,
          102.3,
          102.3,
          46,
          46,
          10.8,
          10.8,
          25.2,
          25.2,
          21.7,
          21.7,
          20.2,
          20.2,
          38.6,
          38.6,
          6.5,
          6.5,
          7.9,
          7.9,
          16.7,
          16.7,
          15.4,
          15.4,
          78,
          78,
          78,
          78,
          78,
          78,
          12.8,
          12.8,
          29.8,
          29.8,
          9.5,
          9.5,
          13.2,
          13.2,
          9.9,
          9.9,
          12.5,
          12.5,
          19.5,
          19.5,
          14.1,
          14.1,
          24.3,
          24.3,
          42,
          42,
          16.9,
          16.9,
          23.4,
          23.4,
          12.5,
          12.5,
          18.2,
          18.2,
          15.5,
          15.5,
          16.6,
          16.6,
          14.3,
          14.3,
          46.5,
          46.5,
          13.7,
          13.7,
          19.2,
          19.2,
          29,
          29,
          14.5,
          14.5,
          9.8,
          9.8,
          12.6,
          12.6,
          35,
          35,
          29,
          29,
          12.7,
          12.7,
          11.8,
          11.8,
          22,
          22,
          16.6,
          16.6,
          21.8,
          21.8,
          42,
          42,
          69.8,
          69.8,
          24,
          24,
          13.5,
          13.5,
          48.5,
          48.5,
          14.9,
          14.9,
          24.8,
          24.8,
          17.6,
          17.6,
          27.9,
          27.9,
          24.5,
          24.5,
          20.1,
          20.1,
          69,
          69,
          25.9,
          25.9,
          7.4,
          7.4,
          12.7,
          12.7,
          16.4,
          16.4,
          17.4,
          17.4,
          15.5,
          15.5,
          13.2,
          13.2,
          23.6,
          23.6,
          8.7,
          8.7,
          20.4,
          20.4,
          13.3,
          13.3,
          16.6,
          16.6,
          27.5,
          27.5,
          40.2,
          40.2,
          78,
          78,
          45,
          45,
          52.6,
          52.6,
          79.8,
          79.8,
          67,
          67,
          48.5,
          48.5,
          58.8,
          58.8,
          39.8,
          39.8,
          26.5,
          26.5,
          26.5,
          26.5,
          18.4,
          18.4,
          25.7,
          25.7,
          17.1,
          17.1,
          38,
          38,
          11.3,
          11.3,
          23,
          23,
          30.1,
          30.1,
          14,
          14,
          5.7,
          5.7,
          5.7,
          5.7,
          5.8,
          5.8,
          5.8,
          5.8,
          11.1,
          11.1,
          13.6,
          13.6,
          18.8,
          18.8,
          28.1,
          28.1,
          6.7,
          6.7,
          10.6,
          10.6,
          5.8,
          5.8,
          11.9,
          11.9,
          8.7,
          8.7,
          14.5,
          14.5,
          8.4,
          8.4,
          22.8,
          22.8,
          20.5,
          20.5,
          9,
          9,
          14.3,
          14.3,
          7.8,
          7.8,
          19.5,
          19.5,
          16.2,
          16.2,
          12.9,
          12.9,
          8.6,
          8.6,
          25,
          25,
          12,
          12,
          7.6,
          7.6,
          22.1,
          22.1,
          21.9,
          21.9,
          17.8,
          17.8,
          19.8,
          19.8,
          23.8,
          23.8,
          8.5,
          8.5,
          12.7,
          12.7,
          31.2,
          31.2,
          42.6,
          42.6,
          60,
          60,
          80,
          80,
          19.3,
          19.3,
          22.8,
          22.8,
          7.7,
          7.7,
          46,
          46,
          20.8,
          20.8,
          14.1,
          14.1,
          24.2,
          24.2,
          34.3,
          34.3,
          17.2,
          17.2,
          23.5,
          23.5,
          9.3,
          9.3,
          26.4,
          26.4,
          11.6,
          11.6,
          29.9,
          29.9,
          14.7,
          14.7,
          13.5,
          13.5,
          19,
          19,
          23.2,
          23.2,
          10.2,
          10.2,
          18.25,
          18.25,
          35.1,
          35.1,
          27.3,
          27.3,
          92,
          92,
          58,
          58,
          58,
          58,
          38,
          38,
          15.2,
          15.2,
          36.2,
          36.2,
          36.3,
          36.3,
          35.2,
          35.2,
          42.2,
          42.2,
          43,
          43,
          48.8,
          48.8,
          48.8,
          48.8,
          24.6,
          24.6,
          17.1,
          17.1,
          11,
          11,
          10.7,
          10.7,
          14.6,
          14.6,
          33.2,
          33.2,
          37,
          37,
          32.2,
          32.2,
          47.2,
          47.2,
          52.7,
          52.7,
          37.7,
          37.7,
          12.3,
          12.3,
          8.9,
          8.9
         ],
         "y0": " ",
         "yaxis": "y"
        },
        {
         "alignmentgroup": "True",
         "hovertemplate": "Couleur=Blanc<br>price=%{y}<extra></extra>",
         "legendgroup": "Blanc",
         "marker": {
          "color": "#EF553B"
         },
         "name": "Blanc",
         "notched": false,
         "offsetgroup": "Blanc",
         "orientation": "v",
         "showlegend": true,
         "type": "box",
         "x0": " ",
         "xaxis": "x",
         "y": [
          24.4,
          24.4,
          19.2,
          19.2,
          19.2,
          19.2,
          27.8,
          27.8,
          56.4,
          56.4,
          71.3,
          71.3,
          71.3,
          71.3,
          18.2,
          18.2,
          22.8,
          22.8,
          32.6,
          32.6,
          55.4,
          55.4,
          53.2,
          53.2,
          24,
          24,
          13.5,
          13.5,
          25.9,
          25.9,
          11.1,
          11.1,
          28,
          28,
          24.2,
          24.2,
          29.9,
          29.9,
          16.5,
          16.5,
          24.3,
          24.3,
          15.8,
          15.8,
          14.1,
          14.1,
          24.5,
          24.5,
          35.6,
          35.6,
          34.4,
          34.4,
          30,
          30,
          15.3,
          15.3,
          16.8,
          16.8,
          27.5,
          27.5,
          11.1,
          11.1,
          16.1,
          16.1,
          18.9,
          18.9,
          112,
          112,
          45,
          45,
          86.8,
          86.8,
          62.1,
          62.1,
          79.5,
          79.5,
          126.5,
          126.5,
          225,
          225,
          51.6,
          51.6,
          59,
          59,
          135,
          135,
          49,
          49,
          53,
          53,
          39,
          39,
          49.5,
          49.5,
          77,
          77,
          29.5,
          29.5,
          35.5,
          35.5,
          33,
          33,
          59,
          59,
          83,
          83,
          23,
          23,
          13.5,
          13.5,
          13.8,
          13.8,
          32,
          32,
          16.3,
          16.3,
          12.5,
          12.5,
          46.5,
          46.5,
          11.3,
          11.3,
          7.1,
          7.1,
          12.2,
          12.2,
          13.6,
          13.6,
          32.8,
          32.8,
          49.5,
          49.5,
          33.4,
          33.4,
          21.2,
          21.2,
          10.2,
          10.2,
          38.6,
          38.6,
          7.1,
          7.1,
          6.3,
          6.3,
          24.4,
          24.4,
          17.1,
          17.1,
          16.7,
          16.7,
          29.4,
          29.4,
          10.7,
          10.7,
          19.8,
          19.8,
          17.7,
          17.7,
          28.5,
          28.5,
          11.9,
          11.9,
          12,
          12,
          27.9,
          27.9,
          46,
          46,
          137,
          137,
          31,
          31,
          25.2,
          25.2,
          48.5,
          48.5,
          27.7,
          27.7,
          24.4,
          24.4,
          34.7,
          34.7,
          59.6,
          59.6,
          31.7,
          31.7,
          59.6,
          59.6,
          32.1,
          32.1,
          19.8,
          19.8,
          7.9,
          7.9,
          17.5,
          17.5,
          12.7,
          12.7,
          78,
          78,
          12.8,
          12.8,
          12.9,
          12.9,
          10.7,
          10.7,
          11.1,
          11.1,
          14.8,
          14.8,
          26.5,
          26.5,
          16.3,
          16.3,
          15.8,
          15.8,
          18.4,
          18.4,
          13.3,
          13.3,
          11.1,
          11.1,
          18.6,
          18.6,
          15.9,
          15.9,
          10.3,
          10.3,
          124.8,
          124.8,
          18,
          18,
          38.6,
          38.6,
          63.4,
          63.4,
          13.4,
          13.4,
          20.35,
          20.35,
          8.6,
          8.6,
          15.4,
          15.4,
          15.8,
          15.8,
          9.7,
          9.7,
          16.3,
          16.3,
          16.3,
          16.3,
          6.8,
          6.8,
          21.7,
          21.7,
          13.7,
          13.7,
          13.7,
          13.7,
          23.4,
          23.4,
          13.1,
          13.1,
          11.6,
          11.6,
          26.6,
          26.6,
          16.9,
          16.9,
          19,
          19,
          20.6,
          20.6,
          26.2,
          26.2,
          23.4,
          23.4,
          13.7,
          13.7,
          39,
          39,
          13.5,
          13.5,
          24,
          24,
          8.1,
          8.1,
          27.9,
          27.9,
          25.9,
          25.9,
          28,
          28,
          19,
          19,
          13.5,
          13.5,
          16.3,
          16.3,
          19,
          19,
          22.4,
          22.4,
          39,
          39,
          9.5,
          9.5,
          16.9,
          16.9,
          63.5,
          63.5,
          57.6,
          57.6,
          63.5,
          63.5,
          68.3,
          68.3,
          65.9,
          65.9,
          61.6,
          61.6,
          43.9,
          43.9,
          41.8,
          41.8,
          41.8,
          41.8,
          26.5,
          26.5,
          38,
          38,
          9.9,
          9.9,
          5.7,
          5.7,
          5.7,
          5.7,
          12.1,
          12.1,
          10.1,
          10.1,
          12.3,
          12.3,
          18.7,
          18.7,
          29.5,
          29.5,
          11.1,
          11.1,
          21,
          21,
          41.6,
          41.6,
          28.5,
          28.5,
          9.6,
          9.6,
          33.7,
          33.7,
          43.9,
          43.9,
          10.6,
          10.6,
          5.2,
          5.2,
          11.9,
          11.9,
          8.7,
          8.7,
          18,
          18,
          18.2,
          18.2,
          12.9,
          12.9,
          8.9,
          8.9,
          8.9,
          8.9,
          10.3,
          10.3,
          10.8,
          10.8,
          12.6,
          12.6,
          9.8,
          9.8,
          22.8,
          22.8,
          12.8,
          12.8,
          26,
          26,
          20.2,
          20.2,
          17,
          17,
          19.8,
          19.8,
          19,
          19,
          9.9,
          9.9,
          13,
          13,
          32.7,
          32.7,
          18.3,
          18.3,
          21.8,
          21.8,
          34.3,
          34.3,
          16.9,
          16.9,
          20.8,
          20.8,
          12,
          12,
          26.7,
          26.7,
          17.5,
          17.5,
          9.3,
          9.3,
          14.05,
          14.05,
          16.4,
          16.4,
          17,
          17,
          18.7,
          18.7,
          40,
          40,
          28.4,
          28.4,
          27.9,
          27.9,
          25.3,
          25.3,
          17,
          17,
          19.3,
          19.3,
          29.5,
          29.5,
          15.3,
          15.3,
          36.9,
          36.9,
          33.2,
          33.2,
          62.4,
          62.4,
          74.8,
          74.8,
          27.9,
          27.9,
          15.4,
          15.4,
          24.7,
          24.7,
          57.7,
          57.7,
          25.3,
          25.3,
          49,
          49,
          14.9,
          14.9,
          16.6,
          16.6,
          21,
          21,
          14.4,
          14.4,
          30.5,
          30.5,
          41.8,
          41.8,
          33.2,
          33.2,
          12.8,
          12.8,
          9.7,
          9.7,
          77.4,
          77.4,
          71.5,
          71.5
         ],
         "y0": " ",
         "yaxis": "y"
        },
        {
         "alignmentgroup": "True",
         "hovertemplate": "Couleur=Rosé<br>price=%{y}<extra></extra>",
         "legendgroup": "Rosé",
         "marker": {
          "color": "#ab63fa"
         },
         "name": "Rosé",
         "notched": false,
         "offsetgroup": "Rosé",
         "orientation": "v",
         "showlegend": true,
         "type": "box",
         "x0": " ",
         "xaxis": "x",
         "y": [
          9.4,
          9.4,
          9.9,
          9.9,
          8.2,
          8.2,
          9.1,
          9.1,
          6.5,
          6.5,
          13.9,
          13.9,
          17.5,
          17.5,
          8.5,
          8.5,
          7.6,
          7.6,
          9.2,
          9.2,
          12.1,
          12.1,
          5.8,
          5.8,
          9.8,
          9.8,
          8.7,
          8.7,
          8.7,
          8.7,
          6.5,
          6.5,
          14.4,
          14.4,
          22.8,
          22.8,
          9.3,
          9.3
         ],
         "y0": " ",
         "yaxis": "y"
        }
       ],
       "layout": {
        "boxmode": "group",
        "legend": {
         "title": {
          "text": "Couleur"
         },
         "tracegroupgap": 0
        },
        "template": {
         "data": {
          "bar": [
           {
            "error_x": {
             "color": "#2a3f5f"
            },
            "error_y": {
             "color": "#2a3f5f"
            },
            "marker": {
             "line": {
              "color": "#E5ECF6",
              "width": 0.5
             },
             "pattern": {
              "fillmode": "overlay",
              "size": 10,
              "solidity": 0.2
             }
            },
            "type": "bar"
           }
          ],
          "barpolar": [
           {
            "marker": {
             "line": {
              "color": "#E5ECF6",
              "width": 0.5
             },
             "pattern": {
              "fillmode": "overlay",
              "size": 10,
              "solidity": 0.2
             }
            },
            "type": "barpolar"
           }
          ],
          "carpet": [
           {
            "aaxis": {
             "endlinecolor": "#2a3f5f",
             "gridcolor": "white",
             "linecolor": "white",
             "minorgridcolor": "white",
             "startlinecolor": "#2a3f5f"
            },
            "baxis": {
             "endlinecolor": "#2a3f5f",
             "gridcolor": "white",
             "linecolor": "white",
             "minorgridcolor": "white",
             "startlinecolor": "#2a3f5f"
            },
            "type": "carpet"
           }
          ],
          "choropleth": [
           {
            "colorbar": {
             "outlinewidth": 0,
             "ticks": ""
            },
            "type": "choropleth"
           }
          ],
          "contour": [
           {
            "colorbar": {
             "outlinewidth": 0,
             "ticks": ""
            },
            "colorscale": [
             [
              0,
              "#0d0887"
             ],
             [
              0.1111111111111111,
              "#46039f"
             ],
             [
              0.2222222222222222,
              "#7201a8"
             ],
             [
              0.3333333333333333,
              "#9c179e"
             ],
             [
              0.4444444444444444,
              "#bd3786"
             ],
             [
              0.5555555555555556,
              "#d8576b"
             ],
             [
              0.6666666666666666,
              "#ed7953"
             ],
             [
              0.7777777777777778,
              "#fb9f3a"
             ],
             [
              0.8888888888888888,
              "#fdca26"
             ],
             [
              1,
              "#f0f921"
             ]
            ],
            "type": "contour"
           }
          ],
          "contourcarpet": [
           {
            "colorbar": {
             "outlinewidth": 0,
             "ticks": ""
            },
            "type": "contourcarpet"
           }
          ],
          "heatmap": [
           {
            "colorbar": {
             "outlinewidth": 0,
             "ticks": ""
            },
            "colorscale": [
             [
              0,
              "#0d0887"
             ],
             [
              0.1111111111111111,
              "#46039f"
             ],
             [
              0.2222222222222222,
              "#7201a8"
             ],
             [
              0.3333333333333333,
              "#9c179e"
             ],
             [
              0.4444444444444444,
              "#bd3786"
             ],
             [
              0.5555555555555556,
              "#d8576b"
             ],
             [
              0.6666666666666666,
              "#ed7953"
             ],
             [
              0.7777777777777778,
              "#fb9f3a"
             ],
             [
              0.8888888888888888,
              "#fdca26"
             ],
             [
              1,
              "#f0f921"
             ]
            ],
            "type": "heatmap"
           }
          ],
          "heatmapgl": [
           {
            "colorbar": {
             "outlinewidth": 0,
             "ticks": ""
            },
            "colorscale": [
             [
              0,
              "#0d0887"
             ],
             [
              0.1111111111111111,
              "#46039f"
             ],
             [
              0.2222222222222222,
              "#7201a8"
             ],
             [
              0.3333333333333333,
              "#9c179e"
             ],
             [
              0.4444444444444444,
              "#bd3786"
             ],
             [
              0.5555555555555556,
              "#d8576b"
             ],
             [
              0.6666666666666666,
              "#ed7953"
             ],
             [
              0.7777777777777778,
              "#fb9f3a"
             ],
             [
              0.8888888888888888,
              "#fdca26"
             ],
             [
              1,
              "#f0f921"
             ]
            ],
            "type": "heatmapgl"
           }
          ],
          "histogram": [
           {
            "marker": {
             "pattern": {
              "fillmode": "overlay",
              "size": 10,
              "solidity": 0.2
             }
            },
            "type": "histogram"
           }
          ],
          "histogram2d": [
           {
            "colorbar": {
             "outlinewidth": 0,
             "ticks": ""
            },
            "colorscale": [
             [
              0,
              "#0d0887"
             ],
             [
              0.1111111111111111,
              "#46039f"
             ],
             [
              0.2222222222222222,
              "#7201a8"
             ],
             [
              0.3333333333333333,
              "#9c179e"
             ],
             [
              0.4444444444444444,
              "#bd3786"
             ],
             [
              0.5555555555555556,
              "#d8576b"
             ],
             [
              0.6666666666666666,
              "#ed7953"
             ],
             [
              0.7777777777777778,
              "#fb9f3a"
             ],
             [
              0.8888888888888888,
              "#fdca26"
             ],
             [
              1,
              "#f0f921"
             ]
            ],
            "type": "histogram2d"
           }
          ],
          "histogram2dcontour": [
           {
            "colorbar": {
             "outlinewidth": 0,
             "ticks": ""
            },
            "colorscale": [
             [
              0,
              "#0d0887"
             ],
             [
              0.1111111111111111,
              "#46039f"
             ],
             [
              0.2222222222222222,
              "#7201a8"
             ],
             [
              0.3333333333333333,
              "#9c179e"
             ],
             [
              0.4444444444444444,
              "#bd3786"
             ],
             [
              0.5555555555555556,
              "#d8576b"
             ],
             [
              0.6666666666666666,
              "#ed7953"
             ],
             [
              0.7777777777777778,
              "#fb9f3a"
             ],
             [
              0.8888888888888888,
              "#fdca26"
             ],
             [
              1,
              "#f0f921"
             ]
            ],
            "type": "histogram2dcontour"
           }
          ],
          "mesh3d": [
           {
            "colorbar": {
             "outlinewidth": 0,
             "ticks": ""
            },
            "type": "mesh3d"
           }
          ],
          "parcoords": [
           {
            "line": {
             "colorbar": {
              "outlinewidth": 0,
              "ticks": ""
             }
            },
            "type": "parcoords"
           }
          ],
          "pie": [
           {
            "automargin": true,
            "type": "pie"
           }
          ],
          "scatter": [
           {
            "fillpattern": {
             "fillmode": "overlay",
             "size": 10,
             "solidity": 0.2
            },
            "type": "scatter"
           }
          ],
          "scatter3d": [
           {
            "line": {
             "colorbar": {
              "outlinewidth": 0,
              "ticks": ""
             }
            },
            "marker": {
             "colorbar": {
              "outlinewidth": 0,
              "ticks": ""
             }
            },
            "type": "scatter3d"
           }
          ],
          "scattercarpet": [
           {
            "marker": {
             "colorbar": {
              "outlinewidth": 0,
              "ticks": ""
             }
            },
            "type": "scattercarpet"
           }
          ],
          "scattergeo": [
           {
            "marker": {
             "colorbar": {
              "outlinewidth": 0,
              "ticks": ""
             }
            },
            "type": "scattergeo"
           }
          ],
          "scattergl": [
           {
            "marker": {
             "colorbar": {
              "outlinewidth": 0,
              "ticks": ""
             }
            },
            "type": "scattergl"
           }
          ],
          "scattermapbox": [
           {
            "marker": {
             "colorbar": {
              "outlinewidth": 0,
              "ticks": ""
             }
            },
            "type": "scattermapbox"
           }
          ],
          "scatterpolar": [
           {
            "marker": {
             "colorbar": {
              "outlinewidth": 0,
              "ticks": ""
             }
            },
            "type": "scatterpolar"
           }
          ],
          "scatterpolargl": [
           {
            "marker": {
             "colorbar": {
              "outlinewidth": 0,
              "ticks": ""
             }
            },
            "type": "scatterpolargl"
           }
          ],
          "scatterternary": [
           {
            "marker": {
             "colorbar": {
              "outlinewidth": 0,
              "ticks": ""
             }
            },
            "type": "scatterternary"
           }
          ],
          "surface": [
           {
            "colorbar": {
             "outlinewidth": 0,
             "ticks": ""
            },
            "colorscale": [
             [
              0,
              "#0d0887"
             ],
             [
              0.1111111111111111,
              "#46039f"
             ],
             [
              0.2222222222222222,
              "#7201a8"
             ],
             [
              0.3333333333333333,
              "#9c179e"
             ],
             [
              0.4444444444444444,
              "#bd3786"
             ],
             [
              0.5555555555555556,
              "#d8576b"
             ],
             [
              0.6666666666666666,
              "#ed7953"
             ],
             [
              0.7777777777777778,
              "#fb9f3a"
             ],
             [
              0.8888888888888888,
              "#fdca26"
             ],
             [
              1,
              "#f0f921"
             ]
            ],
            "type": "surface"
           }
          ],
          "table": [
           {
            "cells": {
             "fill": {
              "color": "#EBF0F8"
             },
             "line": {
              "color": "white"
             }
            },
            "header": {
             "fill": {
              "color": "#C8D4E3"
             },
             "line": {
              "color": "white"
             }
            },
            "type": "table"
           }
          ]
         },
         "layout": {
          "annotationdefaults": {
           "arrowcolor": "#2a3f5f",
           "arrowhead": 0,
           "arrowwidth": 1
          },
          "autotypenumbers": "strict",
          "coloraxis": {
           "colorbar": {
            "outlinewidth": 0,
            "ticks": ""
           }
          },
          "colorscale": {
           "diverging": [
            [
             0,
             "#8e0152"
            ],
            [
             0.1,
             "#c51b7d"
            ],
            [
             0.2,
             "#de77ae"
            ],
            [
             0.3,
             "#f1b6da"
            ],
            [
             0.4,
             "#fde0ef"
            ],
            [
             0.5,
             "#f7f7f7"
            ],
            [
             0.6,
             "#e6f5d0"
            ],
            [
             0.7,
             "#b8e186"
            ],
            [
             0.8,
             "#7fbc41"
            ],
            [
             0.9,
             "#4d9221"
            ],
            [
             1,
             "#276419"
            ]
           ],
           "sequential": [
            [
             0,
             "#0d0887"
            ],
            [
             0.1111111111111111,
             "#46039f"
            ],
            [
             0.2222222222222222,
             "#7201a8"
            ],
            [
             0.3333333333333333,
             "#9c179e"
            ],
            [
             0.4444444444444444,
             "#bd3786"
            ],
            [
             0.5555555555555556,
             "#d8576b"
            ],
            [
             0.6666666666666666,
             "#ed7953"
            ],
            [
             0.7777777777777778,
             "#fb9f3a"
            ],
            [
             0.8888888888888888,
             "#fdca26"
            ],
            [
             1,
             "#f0f921"
            ]
           ],
           "sequentialminus": [
            [
             0,
             "#0d0887"
            ],
            [
             0.1111111111111111,
             "#46039f"
            ],
            [
             0.2222222222222222,
             "#7201a8"
            ],
            [
             0.3333333333333333,
             "#9c179e"
            ],
            [
             0.4444444444444444,
             "#bd3786"
            ],
            [
             0.5555555555555556,
             "#d8576b"
            ],
            [
             0.6666666666666666,
             "#ed7953"
            ],
            [
             0.7777777777777778,
             "#fb9f3a"
            ],
            [
             0.8888888888888888,
             "#fdca26"
            ],
            [
             1,
             "#f0f921"
            ]
           ]
          },
          "colorway": [
           "#636efa",
           "#EF553B",
           "#00cc96",
           "#ab63fa",
           "#FFA15A",
           "#19d3f3",
           "#FF6692",
           "#B6E880",
           "#FF97FF",
           "#FECB52"
          ],
          "font": {
           "color": "#2a3f5f"
          },
          "geo": {
           "bgcolor": "white",
           "lakecolor": "white",
           "landcolor": "#E5ECF6",
           "showlakes": true,
           "showland": true,
           "subunitcolor": "white"
          },
          "hoverlabel": {
           "align": "left"
          },
          "hovermode": "closest",
          "mapbox": {
           "style": "light"
          },
          "paper_bgcolor": "white",
          "plot_bgcolor": "#E5ECF6",
          "polar": {
           "angularaxis": {
            "gridcolor": "white",
            "linecolor": "white",
            "ticks": ""
           },
           "bgcolor": "#E5ECF6",
           "radialaxis": {
            "gridcolor": "white",
            "linecolor": "white",
            "ticks": ""
           }
          },
          "scene": {
           "xaxis": {
            "backgroundcolor": "#E5ECF6",
            "gridcolor": "white",
            "gridwidth": 2,
            "linecolor": "white",
            "showbackground": true,
            "ticks": "",
            "zerolinecolor": "white"
           },
           "yaxis": {
            "backgroundcolor": "#E5ECF6",
            "gridcolor": "white",
            "gridwidth": 2,
            "linecolor": "white",
            "showbackground": true,
            "ticks": "",
            "zerolinecolor": "white"
           },
           "zaxis": {
            "backgroundcolor": "#E5ECF6",
            "gridcolor": "white",
            "gridwidth": 2,
            "linecolor": "white",
            "showbackground": true,
            "ticks": "",
            "zerolinecolor": "white"
           }
          },
          "shapedefaults": {
           "line": {
            "color": "#2a3f5f"
           }
          },
          "ternary": {
           "aaxis": {
            "gridcolor": "white",
            "linecolor": "white",
            "ticks": ""
           },
           "baxis": {
            "gridcolor": "white",
            "linecolor": "white",
            "ticks": ""
           },
           "bgcolor": "#E5ECF6",
           "caxis": {
            "gridcolor": "white",
            "linecolor": "white",
            "ticks": ""
           }
          },
          "title": {
           "x": 0.05
          },
          "xaxis": {
           "automargin": true,
           "gridcolor": "white",
           "linecolor": "white",
           "ticks": "",
           "title": {
            "standoff": 15
           },
           "zerolinecolor": "white",
           "zerolinewidth": 2
          },
          "yaxis": {
           "automargin": true,
           "gridcolor": "white",
           "linecolor": "white",
           "ticks": "",
           "title": {
            "standoff": 15
           },
           "zerolinecolor": "white",
           "zerolinewidth": 2
          }
         }
        },
        "title": {
         "text": "Moyennes des prix selon le type de vin (couleur)"
        },
        "xaxis": {
         "anchor": "y",
         "domain": [
          0,
          1
         ]
        },
        "yaxis": {
         "anchor": "x",
         "domain": [
          0,
          1
         ],
         "title": {
          "text": "price"
         }
        }
       }
      }
     },
     "metadata": {},
     "output_type": "display_data"
    }
   ],
   "source": [
    "px.box(allin_for_analyze, y=\"price\", color=\"Couleur\", title= \"Moyennes des prix selon le type de vin (couleur)\")"
   ]
  },
  {
   "cell_type": "code",
   "execution_count": 32,
   "metadata": {},
   "outputs": [
    {
     "name": "stderr",
     "output_type": "stream",
     "text": [
      "C:\\Users\\josse\\AppData\\Local\\Temp\\ipykernel_33724\\2045428117.py:2: FutureWarning:\n",
      "\n",
      "\n",
      "\n",
      "Passing `palette` without assigning `hue` is deprecated and will be removed in v0.14.0. Assign the `x` variable to `hue` and set `legend=False` for the same effect.\n",
      "\n",
      "\n"
     ]
    },
    {
     "data": {
      "image/png": "[encoded data removed]",
      "text/plain": [
       "<Figure size 640x480 with 1 Axes>"
      ]
     },
     "metadata": {},
     "output_type": "display_data"
    }
   ],
   "source": [
    "# Diagramme en violon pour exprimer la distribution des prix\n",
    "sns.violinplot(data=allin_for_analyze['price'], palette=['mistyrose'])\n",
    "plt.title('Distribution des prix')\n",
    "plt.xlabel('Prix')\n",
    "plt.show()\n"
   ]
  },
  {
   "cell_type": "code",
   "execution_count": 33,
   "metadata": {},
   "outputs": [
    {
     "data": {
      "image/png": "[encoded data removed]",
      "text/plain": [
       "<Figure size 640x480 with 1 Axes>"
      ]
     },
     "metadata": {},
     "output_type": "display_data"
    }
   ],
   "source": [
    "# Filtrer les données pour les produits dont le total revenu est > 0\n",
    "filtered_data_without_zero = filtered_allin_FA[filtered_allin_FA['total_revenue'] > 0]\n",
    "\n",
    "sns.violinplot(x=filtered_data_without_zero['price'], color='skyblue')\n",
    "plt.title('Distribution des prix pour les produits dont le total revenu est > 0')\n",
    "plt.xlabel('Prix')\n",
    "plt.show()"
   ]
  },
  {
   "cell_type": "markdown",
   "metadata": {},
   "source": [
    "### Détection d'anomalies ##"
   ]
  },
  {
   "cell_type": "code",
   "execution_count": 34,
   "metadata": {},
   "outputs": [
    {
     "name": "stdout",
     "output_type": "stream",
     "text": [
      "le prix moyen : 32.55\n",
      "écart_type : 27.86\n",
      "écart_type*1,5 : 41.79\n"
     ]
    }
   ],
   "source": [
    "mean_price = allin_for_analyze['price'].mean()\n",
    "std_price = allin_for_analyze['price'].std()\n",
    "threshold = 1.5 * std_price  #l'écart-type x1,5 comme mesure de dispersion pour calculer les outliers\n",
    "outliers = allin_for_analyze[(allin_for_analyze['price'] < mean_price - threshold) | (allin_for_analyze['price'] > mean_price + threshold)]\n",
    "print('le prix moyen :', round(mean_price,2))\n",
    "print('écart_type :', round(std_price,2))\n",
    "print('écart_type*1,5 :', round(threshold,2))"
   ]
  },
  {
   "cell_type": "markdown",
   "metadata": {},
   "source": [
    "Potential outliers"
   ]
  },
  {
   "cell_type": "code",
   "execution_count": 35,
   "metadata": {},
   "outputs": [
    {
     "name": "stdout",
     "output_type": "stream",
     "text": [
      "Potential outliers:\n",
      "      product_id  onsale_web  price  stock_quantity  stock_status    sku  \\\n",
      "138         5767        True  175.0              12          True  15185   \n",
      "139         5767        True  175.0              12          True  15185   \n",
      "192         5025        True  112.0               0          True  13914   \n",
      "193         5025        True  112.0               0          True  13914   \n",
      "196         5026        True   86.8               2          True  13913   \n",
      "...          ...         ...    ...             ...           ...    ...   \n",
      "1400        4139        True   77.4               7          True  13217   \n",
      "1407        4132        True   88.4               5          True  11668   \n",
      "1408        4132        True   88.4               5          True  11668   \n",
      "1415        4115        True  100.0              11          True  15382   \n",
      "1416        4115        True  100.0              11          True  15382   \n",
      "\n",
      "      total_sales            post_date  \\\n",
      "138           0.0  2019-03-13 14:43:22   \n",
      "139           0.0  2019-03-13 14:43:22   \n",
      "192           0.0  2018-07-18 10:39:43   \n",
      "193           0.0  2018-07-18 10:39:43   \n",
      "196           0.0  2018-07-18 10:46:30   \n",
      "...           ...                  ...   \n",
      "1400          0.0  2018-02-13 11:58:08   \n",
      "1407          0.0  2018-02-13 11:43:55   \n",
      "1408          0.0  2018-02-13 11:43:55   \n",
      "1415          0.0  2018-02-13 11:08:45   \n",
      "1416          0.0  2018-02-13 11:08:45   \n",
      "\n",
      "                                             post_title  \\\n",
      "138                 Camille Giroud Clos de Vougeot 2016   \n",
      "139                 Camille Giroud Clos de Vougeot 2016   \n",
      "192   Champagne Agrapart &amp; Fils L'Avizoise Extra...   \n",
      "193   Champagne Agrapart &amp; Fils L'Avizoise Extra...   \n",
      "196   Champagne Agrapart &amp; Fils Minéral Extra Br...   \n",
      "...                                                 ...   \n",
      "1400  Zind-Humbrecht Gewurztraminer Grand Cru Rangen...   \n",
      "1407  Zind-Humbrecht Pinot Gris Grand Cru Rangen De ...   \n",
      "1408  Zind-Humbrecht Pinot Gris Grand Cru Rangen De ...   \n",
      "1415  Zind-Humbrecht Riesling Grand Cru Rangen De Th...   \n",
      "1416  Zind-Humbrecht Riesling Grand Cru Rangen De Th...   \n",
      "\n",
      "                                              post_name        post_modified  \\\n",
      "138                 camille-giroud-clos-de-vougeot-2016  2020-06-11 15:25:04   \n",
      "139                 camille-giroud-clos-de-vougeot-2016  2020-06-11 15:25:04   \n",
      "192   champagne-agrapart-fils-lavizoise-grand-cru-20...  2020-07-09 17:05:02   \n",
      "193   champagne-agrapart-fils-lavizoise-grand-cru-20...  2020-07-09 17:05:02   \n",
      "196   champagne-agrapart-fils-mineral-extra-brut-bla...  2020-05-11 14:35:02   \n",
      "...                                                 ...                  ...   \n",
      "1400  zind-humbrecht-gewurzt-grand-cru-rangen-de-tha...  2019-07-08 09:30:39   \n",
      "1407  zind-humbrecht-pinot-gris-grand-cru-rangen-de-...  2020-02-20 09:55:02   \n",
      "1408  zind-humbrecht-pinot-gris-grand-cru-rangen-de-...  2020-02-20 09:55:02   \n",
      "1415  zind-humbrecht-riesling-gc-rangen-thann-clos-s...  2020-02-08 11:45:02   \n",
      "1416  zind-humbrecht-riesling-gc-rangen-thann-clos-s...  2020-02-08 11:45:02   \n",
      "\n",
      "     _merge   poids     Région          Domaine       Appellation Couleur  \\\n",
      "138    both  1.5 kg  Bourgogne   Camille Giroud   Clos de Vougeot   Rouge   \n",
      "139    both  1.5 kg  Bourgogne   Camille Giroud   Clos de Vougeot   Rouge   \n",
      "192    both  1.5 kg  Champagne  Agrapart & Fils         Champagne   Blanc   \n",
      "193    both  1.5 kg  Champagne  Agrapart & Fils         Champagne   Blanc   \n",
      "196    both  1.5 kg  Champagne  Agrapart & Fils         Champagne   Blanc   \n",
      "...     ...     ...        ...              ...               ...     ...   \n",
      "1400   both  1.5 kg     Alsace   Zind-Humbrecht  Alsace Grand Cru   Blanc   \n",
      "1407   both     NaN        NaN              NaN               NaN     NaN   \n",
      "1408   both     NaN        NaN              NaN               NaN     NaN   \n",
      "1415   both     NaN        NaN              NaN               NaN     NaN   \n",
      "1416   both     NaN        NaN              NaN               NaN     NaN   \n",
      "\n",
      "      Millésime Contenance Degré d'alcool  \n",
      "138        2016       75cl            13%  \n",
      "139        2016       75cl            13%  \n",
      "192        2015       75cl            12%  \n",
      "193        2015       75cl            12%  \n",
      "196        2015       75cl            12%  \n",
      "...         ...        ...            ...  \n",
      "1400       2013       75cl         13,50%  \n",
      "1407          0        NaN            NaN  \n",
      "1408          0        NaN            NaN  \n",
      "1415          0        NaN            NaN  \n",
      "1416          0        NaN            NaN  \n",
      "\n",
      "[98 rows x 20 columns]\n"
     ]
    }
   ],
   "source": [
    "print(\"Potential outliers:\")\n",
    "print(outliers)"
   ]
  },
  {
   "cell_type": "markdown",
   "metadata": {},
   "source": [
    "Outliers avec la méthode IQ"
   ]
  },
  {
   "cell_type": "code",
   "execution_count": 36,
   "metadata": {},
   "outputs": [],
   "source": [
    "# Calcul des quartiles\n",
    "Q1 = allin_for_analyze['price'].quantile(0.25)\n",
    "Q3 = allin_for_analyze['price'].quantile(0.75)\n",
    "\n",
    "# Calcul IQR\n",
    "IQR = Q3 - Q1\n",
    "\n",
    "# Déterminer les limites pour les outliers\n",
    "lower_limit = Q1 - 1.5 * IQR\n",
    "upper_limit = Q3 + 1.5 * IQR\n",
    "\n",
    "# Identification des outliers\n",
    "outliers_IQR = allin_for_analyze[(allin_for_analyze['price'] < lower_limit) | (allin_for_analyze['price'] > upper_limit)]\n"
   ]
  },
  {
   "cell_type": "code",
   "execution_count": 37,
   "metadata": {},
   "outputs": [
    {
     "data": {
      "text/html": [
       "<div>\n",
       "<style scoped>\n",
       "    .dataframe tbody tr th:only-of-type {\n",
       "        vertical-align: middle;\n",
       "    }\n",
       "\n",
       "    .dataframe tbody tr th {\n",
       "        vertical-align: top;\n",
       "    }\n",
       "\n",
       "    .dataframe thead th {\n",
       "        text-align: right;\n",
       "    }\n",
       "</style>\n",
       "<table border=\"1\" class=\"dataframe\">\n",
       "  <thead>\n",
       "    <tr style=\"text-align: right;\">\n",
       "      <th></th>\n",
       "      <th>product_id</th>\n",
       "      <th>onsale_web</th>\n",
       "      <th>price</th>\n",
       "      <th>stock_quantity</th>\n",
       "      <th>stock_status</th>\n",
       "      <th>sku</th>\n",
       "      <th>total_sales</th>\n",
       "      <th>post_date</th>\n",
       "      <th>post_title</th>\n",
       "      <th>post_name</th>\n",
       "      <th>post_modified</th>\n",
       "      <th>_merge</th>\n",
       "      <th>poids</th>\n",
       "      <th>Région</th>\n",
       "      <th>Domaine</th>\n",
       "      <th>Appellation</th>\n",
       "      <th>Couleur</th>\n",
       "      <th>Millésime</th>\n",
       "      <th>Contenance</th>\n",
       "      <th>Degré d'alcool</th>\n",
       "    </tr>\n",
       "  </thead>\n",
       "  <tbody>\n",
       "    <tr>\n",
       "      <th>138</th>\n",
       "      <td>5767</td>\n",
       "      <td>True</td>\n",
       "      <td>175.0</td>\n",
       "      <td>12</td>\n",
       "      <td>True</td>\n",
       "      <td>15185</td>\n",
       "      <td>0.0</td>\n",
       "      <td>2019-03-13 14:43:22</td>\n",
       "      <td>Camille Giroud Clos de Vougeot 2016</td>\n",
       "      <td>camille-giroud-clos-de-vougeot-2016</td>\n",
       "      <td>2020-06-11 15:25:04</td>\n",
       "      <td>both</td>\n",
       "      <td>1.5 kg</td>\n",
       "      <td>Bourgogne</td>\n",
       "      <td>Camille Giroud</td>\n",
       "      <td>Clos de Vougeot</td>\n",
       "      <td>Rouge</td>\n",
       "      <td>2016</td>\n",
       "      <td>75cl</td>\n",
       "      <td>13%</td>\n",
       "    </tr>\n",
       "    <tr>\n",
       "      <th>139</th>\n",
       "      <td>5767</td>\n",
       "      <td>True</td>\n",
       "      <td>175.0</td>\n",
       "      <td>12</td>\n",
       "      <td>True</td>\n",
       "      <td>15185</td>\n",
       "      <td>0.0</td>\n",
       "      <td>2019-03-13 14:43:22</td>\n",
       "      <td>Camille Giroud Clos de Vougeot 2016</td>\n",
       "      <td>camille-giroud-clos-de-vougeot-2016</td>\n",
       "      <td>2020-06-11 15:25:04</td>\n",
       "      <td>both</td>\n",
       "      <td>1.5 kg</td>\n",
       "      <td>Bourgogne</td>\n",
       "      <td>Camille Giroud</td>\n",
       "      <td>Clos de Vougeot</td>\n",
       "      <td>Rouge</td>\n",
       "      <td>2016</td>\n",
       "      <td>75cl</td>\n",
       "      <td>13%</td>\n",
       "    </tr>\n",
       "    <tr>\n",
       "      <th>192</th>\n",
       "      <td>5025</td>\n",
       "      <td>True</td>\n",
       "      <td>112.0</td>\n",
       "      <td>0</td>\n",
       "      <td>True</td>\n",
       "      <td>13914</td>\n",
       "      <td>0.0</td>\n",
       "      <td>2018-07-18 10:39:43</td>\n",
       "      <td>Champagne Agrapart &amp;amp; Fils L'Avizoise Extra...</td>\n",
       "      <td>champagne-agrapart-fils-lavizoise-grand-cru-20...</td>\n",
       "      <td>2020-07-09 17:05:02</td>\n",
       "      <td>both</td>\n",
       "      <td>1.5 kg</td>\n",
       "      <td>Champagne</td>\n",
       "      <td>Agrapart &amp; Fils</td>\n",
       "      <td>Champagne</td>\n",
       "      <td>Blanc</td>\n",
       "      <td>2015</td>\n",
       "      <td>75cl</td>\n",
       "      <td>12%</td>\n",
       "    </tr>\n",
       "    <tr>\n",
       "      <th>193</th>\n",
       "      <td>5025</td>\n",
       "      <td>True</td>\n",
       "      <td>112.0</td>\n",
       "      <td>0</td>\n",
       "      <td>True</td>\n",
       "      <td>13914</td>\n",
       "      <td>0.0</td>\n",
       "      <td>2018-07-18 10:39:43</td>\n",
       "      <td>Champagne Agrapart &amp;amp; Fils L'Avizoise Extra...</td>\n",
       "      <td>champagne-agrapart-fils-lavizoise-grand-cru-20...</td>\n",
       "      <td>2020-07-09 17:05:02</td>\n",
       "      <td>both</td>\n",
       "      <td>1.5 kg</td>\n",
       "      <td>Champagne</td>\n",
       "      <td>Agrapart &amp; Fils</td>\n",
       "      <td>Champagne</td>\n",
       "      <td>Blanc</td>\n",
       "      <td>2015</td>\n",
       "      <td>75cl</td>\n",
       "      <td>12%</td>\n",
       "    </tr>\n",
       "    <tr>\n",
       "      <th>196</th>\n",
       "      <td>5026</td>\n",
       "      <td>True</td>\n",
       "      <td>86.8</td>\n",
       "      <td>2</td>\n",
       "      <td>True</td>\n",
       "      <td>13913</td>\n",
       "      <td>0.0</td>\n",
       "      <td>2018-07-18 10:46:30</td>\n",
       "      <td>Champagne Agrapart &amp;amp; Fils Minéral Extra Br...</td>\n",
       "      <td>champagne-agrapart-fils-mineral-extra-brut-bla...</td>\n",
       "      <td>2020-05-11 14:35:02</td>\n",
       "      <td>both</td>\n",
       "      <td>1.5 kg</td>\n",
       "      <td>Champagne</td>\n",
       "      <td>Agrapart &amp; Fils</td>\n",
       "      <td>Champagne</td>\n",
       "      <td>Blanc</td>\n",
       "      <td>2015</td>\n",
       "      <td>75cl</td>\n",
       "      <td>12%</td>\n",
       "    </tr>\n",
       "  </tbody>\n",
       "</table>\n",
       "</div>"
      ],
      "text/plain": [
       "     product_id  onsale_web  price  stock_quantity  stock_status    sku  \\\n",
       "138        5767        True  175.0              12          True  15185   \n",
       "139        5767        True  175.0              12          True  15185   \n",
       "192        5025        True  112.0               0          True  13914   \n",
       "193        5025        True  112.0               0          True  13914   \n",
       "196        5026        True   86.8               2          True  13913   \n",
       "\n",
       "     total_sales            post_date  \\\n",
       "138          0.0  2019-03-13 14:43:22   \n",
       "139          0.0  2019-03-13 14:43:22   \n",
       "192          0.0  2018-07-18 10:39:43   \n",
       "193          0.0  2018-07-18 10:39:43   \n",
       "196          0.0  2018-07-18 10:46:30   \n",
       "\n",
       "                                            post_title  \\\n",
       "138                Camille Giroud Clos de Vougeot 2016   \n",
       "139                Camille Giroud Clos de Vougeot 2016   \n",
       "192  Champagne Agrapart &amp; Fils L'Avizoise Extra...   \n",
       "193  Champagne Agrapart &amp; Fils L'Avizoise Extra...   \n",
       "196  Champagne Agrapart &amp; Fils Minéral Extra Br...   \n",
       "\n",
       "                                             post_name        post_modified  \\\n",
       "138                camille-giroud-clos-de-vougeot-2016  2020-06-11 15:25:04   \n",
       "139                camille-giroud-clos-de-vougeot-2016  2020-06-11 15:25:04   \n",
       "192  champagne-agrapart-fils-lavizoise-grand-cru-20...  2020-07-09 17:05:02   \n",
       "193  champagne-agrapart-fils-lavizoise-grand-cru-20...  2020-07-09 17:05:02   \n",
       "196  champagne-agrapart-fils-mineral-extra-brut-bla...  2020-05-11 14:35:02   \n",
       "\n",
       "    _merge   poids     Région          Domaine      Appellation Couleur  \\\n",
       "138   both  1.5 kg  Bourgogne   Camille Giroud  Clos de Vougeot   Rouge   \n",
       "139   both  1.5 kg  Bourgogne   Camille Giroud  Clos de Vougeot   Rouge   \n",
       "192   both  1.5 kg  Champagne  Agrapart & Fils        Champagne   Blanc   \n",
       "193   both  1.5 kg  Champagne  Agrapart & Fils        Champagne   Blanc   \n",
       "196   both  1.5 kg  Champagne  Agrapart & Fils        Champagne   Blanc   \n",
       "\n",
       "     Millésime Contenance Degré d'alcool  \n",
       "138       2016       75cl            13%  \n",
       "139       2016       75cl            13%  \n",
       "192       2015       75cl            12%  \n",
       "193       2015       75cl            12%  \n",
       "196       2015       75cl            12%  "
      ]
     },
     "execution_count": 37,
     "metadata": {},
     "output_type": "execute_result"
    }
   ],
   "source": [
    "outliers_IQR.head()"
   ]
  },
  {
   "cell_type": "code",
   "execution_count": 38,
   "metadata": {},
   "outputs": [
    {
     "name": "stdout",
     "output_type": "stream",
     "text": [
      "<class 'pandas.core.frame.DataFrame'>\n",
      "Index: 64 entries, 138 to 1416\n",
      "Data columns (total 20 columns):\n",
      " #   Column          Non-Null Count  Dtype  \n",
      "---  ------          --------------  -----  \n",
      " 0   product_id      64 non-null     int64  \n",
      " 1   onsale_web      64 non-null     bool   \n",
      " 2   price           64 non-null     float64\n",
      " 3   stock_quantity  64 non-null     int64  \n",
      " 4   stock_status    64 non-null     bool   \n",
      " 5   sku             64 non-null     int64  \n",
      " 6   total_sales     64 non-null     float64\n",
      " 7   post_date       64 non-null     object \n",
      " 8   post_title      64 non-null     object \n",
      " 9   post_name       64 non-null     object \n",
      " 10  post_modified   64 non-null     object \n",
      " 11  _merge          64 non-null     object \n",
      " 12  poids           46 non-null     object \n",
      " 13  Région          36 non-null     object \n",
      " 14  Domaine         36 non-null     object \n",
      " 15  Appellation     44 non-null     object \n",
      " 16  Couleur         36 non-null     object \n",
      " 17  Millésime       64 non-null     int64  \n",
      " 18  Contenance      46 non-null     object \n",
      " 19  Degré d'alcool  44 non-null     object \n",
      "dtypes: bool(2), float64(2), int64(4), object(12)\n",
      "memory usage: 9.6+ KB\n"
     ]
    }
   ],
   "source": [
    "outliers_IQR.info()"
   ]
  },
  {
   "cell_type": "code",
   "execution_count": 60,
   "metadata": {},
   "outputs": [
    {
     "data": {
      "image/png": "[encoded data removed]",
      "text/plain": [
       "<Figure size 640x480 with 1 Axes>"
      ]
     },
     "metadata": {},
     "output_type": "display_data"
    }
   ],
   "source": [
    "plt.boxplot(allin_for_analyze['price'], showfliers=False)  # Ne pas afficher les outliers\n",
    "plt.title('Boxplot des prix avec outliers identifiés par la méthode IQR')\n",
    "plt.ylabel('Prix')\n",
    "\n",
    "# Ajout des outliers\n",
    "plt.scatter(x=[1] * len(outliers_IQR), y=outliers_IQR['price'], color='red', label='Outliers')\n",
    "\n",
    "plt.legend()\n",
    "plt.show()"
   ]
  },
  {
   "cell_type": "code",
   "execution_count": 59,
   "metadata": {},
   "outputs": [
    {
     "data": {
      "application/vnd.plotly.v1+json": {
       "config": {
        "plotlyServerURL": "https://plot.ly"
       },
       "data": [
        {
         "boxmean": true,
         "boxpoints": "outliers",
         "name": "Prix",
         "type": "box",
         "y": [
          18.5,
          18.5,
          41.2,
          41.2,
          55,
          55,
          57,
          57,
          24.4,
          24.4,
          24.4,
          24.4,
          37.2,
          37.2,
          19.2,
          19.2,
          19.2,
          19.2,
          27.8,
          27.8,
          56.4,
          56.4,
          38.4,
          38.4,
          71.3,
          71.3,
          71.3,
          71.3,
          19.8,
          19.8,
          18.2,
          18.2,
          31.6,
          31.6,
          57.6,
          57.6,
          16.8,
          16.8,
          22.8,
          22.8,
          32.6,
          32.6,
          44,
          44,
          48.5,
          48.5,
          59.9,
          59.9,
          59.9,
          59.9,
          65,
          65,
          25,
          25,
          49.5,
          49.5,
          55.4,
          55.4,
          31.7,
          31.7,
          22.9,
          22.9,
          53.2,
          53.2,
          24,
          24,
          59,
          59,
          67.5,
          67.5,
          57,
          57,
          30.6,
          30.6,
          13.5,
          13.5,
          25.9,
          25.9,
          25.9,
          25.9,
          17.3,
          17.3,
          27.3,
          27.3,
          19,
          19,
          11.1,
          11.1,
          28,
          28,
          35.3,
          35.3,
          16.1,
          16.1,
          24.2,
          24.2,
          29.9,
          29.9,
          16.5,
          16.5,
          24.3,
          24.3,
          21.5,
          21.5,
          28.5,
          28.5,
          11.9,
          11.9,
          16.5,
          16.5,
          15.8,
          15.8,
          10.4,
          10.4,
          9,
          9,
          45.9,
          45.9,
          14.1,
          14.1,
          9.3,
          9.3,
          21.4,
          21.4,
          16.7,
          16.7,
          40.5,
          40.5,
          11.9,
          11.9,
          22.9,
          22.9,
          24.5,
          24.5,
          9.6,
          9.6,
          35.6,
          35.6,
          175,
          175,
          35.6,
          35.6,
          33.6,
          33.6,
          34.4,
          34.4,
          38.4,
          38.4,
          29.7,
          29.7,
          30,
          30,
          15.3,
          15.3,
          16.8,
          16.8,
          27.5,
          27.5,
          11.1,
          11.1,
          11.1,
          11.1,
          16.1,
          16.1,
          31.5,
          31.5,
          31.5,
          31.5,
          49,
          49,
          50.4,
          50.4,
          32.2,
          32.2,
          35.6,
          35.6,
          50.1,
          50.1,
          12.8,
          12.8,
          23.2,
          23.2,
          7,
          7,
          18.9,
          18.9,
          67.2,
          67.2,
          19,
          19,
          12.9,
          12.9,
          112,
          112,
          45,
          45,
          86.8,
          86.8,
          62.1,
          62.1,
          79.5,
          79.5,
          126.5,
          126.5,
          79.5,
          79.5,
          225,
          225,
          51.6,
          51.6,
          59,
          59,
          135,
          135,
          49,
          49,
          53,
          53,
          49,
          49,
          85.6,
          85.6,
          39,
          39,
          49.5,
          49.5,
          77,
          77,
          29.5,
          29.5,
          35.5,
          35.5,
          37.5,
          37.5,
          33,
          33,
          59,
          59,
          69,
          69,
          83,
          83,
          22.5,
          22.5,
          40.2,
          40.2,
          23.7,
          23.7,
          41,
          41,
          27,
          27,
          11.6,
          11.6,
          23,
          23,
          10.9,
          10.9,
          13.5,
          13.5,
          17.8,
          17.8,
          9.4,
          9.4,
          9.3,
          9.3,
          10.8,
          10.8,
          6.8,
          6.8,
          18.2,
          18.2,
          9.9,
          9.9,
          13.8,
          13.8,
          10.1,
          10.1,
          27.2,
          27.2,
          109.6,
          109.6,
          71.7,
          71.7,
          32,
          32,
          77.8,
          77.8,
          12.6,
          12.6,
          13.4,
          13.4,
          29.8,
          29.8,
          23,
          23,
          18.5,
          18.5,
          49.9,
          49.9,
          26.5,
          26.5,
          16.3,
          16.3,
          16.45,
          16.45,
          8.2,
          8.2,
          9.1,
          9.1,
          9.1,
          9.1,
          18.1,
          18.1,
          12.5,
          12.5,
          17.2,
          17.2,
          46.5,
          46.5,
          46.5,
          46.5,
          24,
          24,
          9.3,
          9.3,
          19.8,
          19.8,
          11.3,
          11.3,
          7,
          7,
          12.1,
          12.1,
          7.1,
          7.1,
          6.5,
          6.5,
          9.9,
          9.9,
          15.8,
          15.8,
          15.8,
          15.8,
          17.8,
          17.8,
          12.2,
          12.2,
          17.1,
          17.1,
          24,
          24,
          12.7,
          12.7,
          39,
          39,
          10.7,
          10.7,
          38.5,
          38.5,
          21.8,
          21.8,
          73.3,
          73.3,
          54.8,
          54.8,
          44.3,
          44.3,
          32.8,
          32.8,
          71.6,
          71.6,
          13.6,
          13.6,
          13.9,
          13.9,
          12.7,
          12.7,
          9.9,
          9.9,
          15.4,
          15.4,
          7.8,
          7.8,
          13.5,
          13.5,
          17.2,
          17.2,
          44,
          44,
          157,
          157,
          68.1,
          68.1,
          104,
          104,
          108.5,
          108.5,
          176,
          176,
          62.5,
          62.5,
          59.9,
          59.9,
          191.3,
          191.3,
          12.6,
          12.6,
          36,
          36,
          36,
          36,
          15.2,
          15.2,
          17.9,
          17.9,
          21.6,
          21.6,
          105.6,
          105.6,
          217.5,
          217.5,
          64.9,
          64.9,
          48.7,
          48.7,
          48.7,
          48.7,
          59.4,
          59.4,
          32.8,
          32.8,
          43.5,
          43.5,
          72,
          72,
          29,
          29,
          28.4,
          28.4,
          29.2,
          29.2,
          49.5,
          49.5,
          43.5,
          43.5,
          44,
          44,
          33.4,
          33.4,
          28,
          28,
          21.2,
          21.2,
          20.8,
          20.8,
          10.2,
          10.2,
          10.4,
          10.4,
          19,
          19,
          15.2,
          15.2,
          11.5,
          11.5,
          38.6,
          38.6,
          48.4,
          48.4,
          38.6,
          38.6,
          60.4,
          60.4,
          12,
          12,
          42.1,
          42.1,
          116.4,
          116.4,
          57,
          57,
          7.1,
          7.1,
          6.3,
          6.3,
          24.4,
          24.4,
          14.9,
          14.9,
          22.4,
          22.4,
          44,
          44,
          23.2,
          23.2,
          17.5,
          17.5,
          51,
          51,
          39.1,
          39.1,
          16.3,
          16.3,
          16.9,
          16.9,
          17.1,
          17.1,
          16.7,
          16.7,
          29.4,
          29.4,
          7.1,
          7.1,
          10.9,
          10.9,
          10.7,
          10.7,
          19.8,
          19.8,
          17.7,
          17.7,
          28.5,
          28.5,
          11.9,
          11.9,
          16.4,
          16.4,
          7.5,
          7.5,
          12,
          12,
          27.9,
          27.9,
          7.4,
          7.4,
          46,
          46,
          46,
          46,
          74.5,
          74.5,
          44,
          44,
          55.6,
          55.6,
          99,
          99,
          115,
          115,
          121,
          121,
          105,
          105,
          105,
          105,
          115,
          115,
          121,
          121,
          41,
          41,
          137,
          137,
          102.3,
          102.3,
          46,
          46,
          10.8,
          10.8,
          31,
          31,
          25.2,
          25.2,
          25.2,
          25.2,
          21.7,
          21.7,
          20.2,
          20.2,
          38.6,
          38.6,
          44.6,
          44.6,
          48.5,
          48.5,
          27.7,
          27.7,
          26.7,
          26.7,
          26.9,
          26.9,
          24.4,
          24.4,
          34.7,
          34.7,
          59.6,
          59.6,
          31.7,
          31.7,
          59.6,
          59.6,
          32.1,
          32.1,
          19.8,
          19.8,
          7.9,
          7.9,
          17.5,
          17.5,
          8.5,
          8.5,
          6.5,
          6.5,
          7.9,
          7.9,
          16.7,
          16.7,
          15.4,
          15.4,
          12.7,
          12.7,
          7.6,
          7.6,
          14.3,
          14.3,
          22,
          22,
          78,
          78,
          78,
          78,
          78,
          78,
          78,
          78,
          12.8,
          12.8,
          12.8,
          12.8,
          12.9,
          12.9,
          10.7,
          10.7,
          29.8,
          29.8,
          9.5,
          9.5,
          13.2,
          13.2,
          11.1,
          11.1,
          9.9,
          9.9,
          12.5,
          12.5,
          19.5,
          19.5,
          14.1,
          14.1,
          14.8,
          14.8,
          26.5,
          26.5,
          16.3,
          16.3,
          24.3,
          24.3,
          42,
          42,
          16.9,
          16.9,
          15.8,
          15.8,
          18.4,
          18.4,
          13.3,
          13.3,
          11.1,
          11.1,
          18.6,
          18.6,
          23.4,
          23.4,
          12.5,
          12.5,
          18.2,
          18.2,
          15.9,
          15.9,
          9.2,
          9.2,
          15.5,
          15.5,
          16.6,
          16.6,
          12.9,
          12.9,
          10.3,
          10.3,
          124.8,
          124.8,
          18,
          18,
          38.6,
          38.6,
          63.4,
          63.4,
          14.3,
          14.3,
          46.5,
          46.5,
          27.3,
          27.3,
          13.4,
          13.4,
          13.7,
          13.7,
          19.2,
          19.2,
          29,
          29,
          20.35,
          20.35,
          14.5,
          14.5,
          9.8,
          9.8,
          8.6,
          8.6,
          12,
          12,
          15.4,
          15.4,
          15.8,
          15.8,
          12.6,
          12.6,
          35,
          35,
          9.7,
          9.7,
          16.3,
          16.3,
          16.3,
          16.3,
          6.8,
          6.8,
          21.7,
          21.7,
          13.7,
          13.7,
          13.7,
          13.7,
          29,
          29,
          12.7,
          12.7,
          23.4,
          23.4,
          13.1,
          13.1,
          13.4,
          13.4,
          11.8,
          11.8,
          11.6,
          11.6,
          26.6,
          26.6,
          16.9,
          16.9,
          19,
          19,
          20.6,
          20.6,
          26.2,
          26.2,
          22,
          22,
          46,
          46,
          23.4,
          23.4,
          16.6,
          16.6,
          44.5,
          44.5,
          60,
          60,
          39.2,
          39.2,
          13.7,
          13.7,
          39,
          39,
          21.8,
          21.8,
          42,
          42,
          69.8,
          69.8,
          13.5,
          13.5,
          24,
          24,
          24,
          24,
          13.5,
          13.5,
          11.5,
          11.5,
          19.5,
          19.5,
          13.1,
          13.1,
          42.2,
          42.2,
          48.5,
          48.5,
          14.9,
          14.9,
          24.8,
          24.8,
          17.6,
          17.6,
          8.1,
          8.1,
          27.9,
          27.9,
          27.9,
          27.9,
          24.5,
          24.5,
          20.1,
          20.1,
          69,
          69,
          25.9,
          25.9,
          25.9,
          25.9,
          28,
          28,
          50.5,
          50.5,
          9.7,
          9.7,
          7.4,
          7.4,
          14.5,
          14.5,
          12.7,
          12.7,
          16.4,
          16.4,
          17.4,
          17.4,
          19,
          19,
          13.5,
          13.5,
          15.5,
          15.5,
          16.3,
          16.3,
          13.2,
          13.2,
          23.6,
          23.6,
          19,
          19,
          8.7,
          8.7,
          12.1,
          12.1,
          20.4,
          20.4,
          22.4,
          22.4,
          13.3,
          13.3,
          16.6,
          16.6,
          27.5,
          27.5,
          40.2,
          40.2,
          20.4,
          20.4,
          25,
          25,
          39,
          39,
          28.8,
          28.8,
          9.5,
          9.5,
          78,
          78,
          45,
          45,
          52.6,
          52.6,
          79.8,
          79.8,
          67,
          67,
          48.5,
          48.5,
          83.7,
          83.7,
          58.8,
          58.8,
          39.8,
          39.8,
          16.9,
          16.9,
          56,
          56,
          63.5,
          63.5,
          57.6,
          57.6,
          63.5,
          63.5,
          68.3,
          68.3,
          65.9,
          65.9,
          61.6,
          61.6,
          43.9,
          43.9,
          61.6,
          61.6,
          26.5,
          26.5,
          41.8,
          41.8,
          41.8,
          41.8,
          26.5,
          26.5,
          26.5,
          26.5,
          18.4,
          18.4,
          27.8,
          27.8,
          25.7,
          25.7,
          22.2,
          22.2,
          41,
          41,
          52.4,
          52.4,
          50,
          50,
          76.8,
          76.8,
          62.4,
          62.4,
          52.4,
          52.4,
          50,
          50,
          62.4,
          62.4,
          39.6,
          39.6,
          58.3,
          58.3,
          52.4,
          52.4,
          52.9,
          52.9,
          24,
          24,
          17.1,
          17.1,
          38,
          38,
          38,
          38,
          11.3,
          11.3,
          9.9,
          9.9,
          23,
          23,
          30.1,
          30.1,
          14,
          14,
          5.7,
          5.7,
          5.7,
          5.7,
          5.8,
          5.8,
          5.8,
          5.8,
          5.7,
          5.7,
          5.7,
          5.7,
          13.7,
          13.7,
          12.1,
          12.1,
          10.1,
          10.1,
          12.3,
          12.3,
          18.7,
          18.7,
          29.5,
          29.5,
          11.1,
          11.1,
          13.6,
          13.6,
          11.1,
          11.1,
          21,
          21,
          41.6,
          41.6,
          28.5,
          28.5,
          9.6,
          9.6,
          33.7,
          33.7,
          18.8,
          18.8,
          43.9,
          43.9,
          28.1,
          28.1,
          6.7,
          6.7,
          10.6,
          10.6,
          5.2,
          5.2,
          5.8,
          5.8,
          10.6,
          10.6,
          5.8,
          5.8,
          11.9,
          11.9,
          9.8,
          9.8,
          8.7,
          8.7,
          8.7,
          8.7,
          11.9,
          11.9,
          14.5,
          14.5,
          8.7,
          8.7,
          8.4,
          8.4,
          73,
          22.8,
          22.8,
          18,
          18,
          20.5,
          20.5,
          9,
          9,
          14.3,
          14.3,
          18.2,
          18.2,
          7.8,
          7.8,
          14.4,
          14.4,
          20.5,
          20.5,
          12.9,
          12.9,
          19.5,
          19.5,
          20.8,
          20.8,
          16.2,
          16.2,
          12.9,
          12.9,
          7.2,
          7.2,
          8.6,
          8.6,
          8.9,
          8.9,
          8.9,
          8.9,
          10.3,
          10.3,
          10.8,
          10.8,
          28,
          28,
          25,
          25,
          12,
          12,
          7.6,
          7.6,
          12.6,
          12.6,
          9.8,
          9.8,
          22.8,
          22.8,
          12.8,
          12.8,
          22.1,
          22.1,
          26,
          26,
          20.2,
          20.2,
          17,
          17,
          19.8,
          19.8,
          21.9,
          21.9,
          17.8,
          17.8,
          19,
          19,
          19.8,
          19.8,
          23.8,
          23.8,
          9.9,
          9.9,
          13,
          13,
          8.7,
          8.7,
          8.5,
          8.5,
          12.7,
          12.7,
          6.5,
          6.5,
          32.7,
          32.7,
          31.2,
          31.2,
          42.6,
          42.6,
          60,
          60,
          80,
          80,
          18.3,
          18.3,
          19.3,
          19.3,
          21.8,
          21.8,
          22.8,
          22.8,
          7.7,
          7.7,
          46,
          46,
          20.8,
          20.8,
          14.1,
          14.1,
          24.2,
          24.2,
          34.3,
          34.3,
          34.3,
          34.3,
          16.9,
          16.9,
          20.8,
          20.8,
          17.2,
          17.2,
          12,
          12,
          26.7,
          26.7,
          23.5,
          23.5,
          17.5,
          17.5,
          9.3,
          9.3,
          26.4,
          26.4,
          11.6,
          11.6,
          29.9,
          29.9,
          9.3,
          9.3,
          14.7,
          14.7,
          14.05,
          14.05,
          13.5,
          13.5,
          19,
          19,
          16.4,
          16.4,
          23.2,
          23.2,
          14.4,
          14.4,
          30,
          30,
          17,
          17,
          17.9,
          17.9,
          18.7,
          18.7,
          40,
          40,
          28.4,
          28.4,
          27.9,
          27.9,
          25.3,
          25.3,
          17,
          17,
          19.3,
          19.3,
          19,
          19,
          29.5,
          29.5,
          10.2,
          10.2,
          15.3,
          15.3,
          36.9,
          36.9,
          33.2,
          33.2,
          28.1,
          28.1,
          18.25,
          18.25,
          35.1,
          35.1,
          40.7,
          40.7,
          27.3,
          27.3,
          62.4,
          62.4,
          74.8,
          74.8,
          34.8,
          34.8,
          30.8,
          30.8,
          27.9,
          27.9,
          92,
          92,
          58,
          58,
          22.8,
          22.8,
          58,
          58,
          15.4,
          15.4,
          24.7,
          24.7,
          57.7,
          57.7,
          25.3,
          25.3,
          49,
          49,
          38,
          38,
          15.2,
          15.2,
          36.2,
          36.2,
          36.3,
          36.3,
          33.4,
          33.4,
          34.3,
          34.3,
          35.2,
          35.2,
          40.2,
          40.2,
          42.2,
          42.2,
          43,
          43,
          43,
          43,
          48.8,
          48.8,
          48.8,
          48.8,
          24.6,
          24.6,
          17.1,
          17.1,
          9.3,
          9.3,
          11,
          11,
          10.7,
          10.7,
          14.6,
          14.6,
          14.9,
          14.9,
          16.6,
          16.6,
          33.2,
          33.2,
          37,
          37,
          21,
          21,
          14.4,
          14.4,
          30.5,
          30.5,
          32.2,
          32.2,
          41.8,
          41.8,
          47.2,
          47.2,
          52.7,
          52.7,
          37.7,
          37.7,
          33.2,
          33.2,
          93,
          93,
          114,
          114,
          122,
          122,
          57,
          57,
          27.5,
          27.5,
          49.5,
          49.5,
          59,
          59,
          49.5,
          49.5,
          59,
          59,
          49.5,
          49.5,
          62,
          62,
          59,
          59,
          59.8,
          59.8,
          57,
          57,
          12.3,
          12.3,
          8.9,
          8.9,
          12.8,
          12.8,
          9.7,
          9.7,
          77.4,
          77.4,
          56.3,
          56.3,
          29.8,
          29.8,
          17.9,
          17.9,
          88.4,
          88.4,
          23,
          23,
          71.5,
          71.5,
          69,
          69,
          100,
          100,
          31.7,
          31.7,
          25.7,
          25.7
         ]
        },
        {
         "marker": {
          "color": "red"
         },
         "mode": "markers",
         "name": "Outliers",
         "type": "scatter",
         "y": [
          175,
          175,
          112,
          112,
          86.8,
          86.8,
          126.5,
          126.5,
          225,
          225,
          135,
          135,
          85.6,
          85.6,
          109.6,
          109.6,
          157,
          157,
          104,
          104,
          108.5,
          108.5,
          176,
          176,
          191.3,
          191.3,
          105.6,
          105.6,
          217.5,
          217.5,
          116.4,
          116.4,
          99,
          99,
          115,
          115,
          121,
          121,
          105,
          105,
          105,
          105,
          115,
          115,
          121,
          121,
          137,
          137,
          102.3,
          102.3,
          124.8,
          124.8,
          92,
          92,
          93,
          93,
          114,
          114,
          122,
          122,
          88.4,
          88.4,
          100,
          100
         ]
        }
       ],
       "layout": {
        "template": {
         "data": {
          "bar": [
           {
            "error_x": {
             "color": "#2a3f5f"
            },
            "error_y": {
             "color": "#2a3f5f"
            },
            "marker": {
             "line": {
              "color": "#E5ECF6",
              "width": 0.5
             },
             "pattern": {
              "fillmode": "overlay",
              "size": 10,
              "solidity": 0.2
             }
            },
            "type": "bar"
           }
          ],
          "barpolar": [
           {
            "marker": {
             "line": {
              "color": "#E5ECF6",
              "width": 0.5
             },
             "pattern": {
              "fillmode": "overlay",
              "size": 10,
              "solidity": 0.2
             }
            },
            "type": "barpolar"
           }
          ],
          "carpet": [
           {
            "aaxis": {
             "endlinecolor": "#2a3f5f",
             "gridcolor": "white",
             "linecolor": "white",
             "minorgridcolor": "white",
             "startlinecolor": "#2a3f5f"
            },
            "baxis": {
             "endlinecolor": "#2a3f5f",
             "gridcolor": "white",
             "linecolor": "white",
             "minorgridcolor": "white",
             "startlinecolor": "#2a3f5f"
            },
            "type": "carpet"
           }
          ],
          "choropleth": [
           {
            "colorbar": {
             "outlinewidth": 0,
             "ticks": ""
            },
            "type": "choropleth"
           }
          ],
          "contour": [
           {
            "colorbar": {
             "outlinewidth": 0,
             "ticks": ""
            },
            "colorscale": [
             [
              0,
              "#0d0887"
             ],
             [
              0.1111111111111111,
              "#46039f"
             ],
             [
              0.2222222222222222,
              "#7201a8"
             ],
             [
              0.3333333333333333,
              "#9c179e"
             ],
             [
              0.4444444444444444,
              "#bd3786"
             ],
             [
              0.5555555555555556,
              "#d8576b"
             ],
             [
              0.6666666666666666,
              "#ed7953"
             ],
             [
              0.7777777777777778,
              "#fb9f3a"
             ],
             [
              0.8888888888888888,
              "#fdca26"
             ],
             [
              1,
              "#f0f921"
             ]
            ],
            "type": "contour"
           }
          ],
          "contourcarpet": [
           {
            "colorbar": {
             "outlinewidth": 0,
             "ticks": ""
            },
            "type": "contourcarpet"
           }
          ],
          "heatmap": [
           {
            "colorbar": {
             "outlinewidth": 0,
             "ticks": ""
            },
            "colorscale": [
             [
              0,
              "#0d0887"
             ],
             [
              0.1111111111111111,
              "#46039f"
             ],
             [
              0.2222222222222222,
              "#7201a8"
             ],
             [
              0.3333333333333333,
              "#9c179e"
             ],
             [
              0.4444444444444444,
              "#bd3786"
             ],
             [
              0.5555555555555556,
              "#d8576b"
             ],
             [
              0.6666666666666666,
              "#ed7953"
             ],
             [
              0.7777777777777778,
              "#fb9f3a"
             ],
             [
              0.8888888888888888,
              "#fdca26"
             ],
             [
              1,
              "#f0f921"
             ]
            ],
            "type": "heatmap"
           }
          ],
          "heatmapgl": [
           {
            "colorbar": {
             "outlinewidth": 0,
             "ticks": ""
            },
            "colorscale": [
             [
              0,
              "#0d0887"
             ],
             [
              0.1111111111111111,
              "#46039f"
             ],
             [
              0.2222222222222222,
              "#7201a8"
             ],
             [
              0.3333333333333333,
              "#9c179e"
             ],
             [
              0.4444444444444444,
              "#bd3786"
             ],
             [
              0.5555555555555556,
              "#d8576b"
             ],
             [
              0.6666666666666666,
              "#ed7953"
             ],
             [
              0.7777777777777778,
              "#fb9f3a"
             ],
             [
              0.8888888888888888,
              "#fdca26"
             ],
             [
              1,
              "#f0f921"
             ]
            ],
            "type": "heatmapgl"
           }
          ],
          "histogram": [
           {
            "marker": {
             "pattern": {
              "fillmode": "overlay",
              "size": 10,
              "solidity": 0.2
             }
            },
            "type": "histogram"
           }
          ],
          "histogram2d": [
           {
            "colorbar": {
             "outlinewidth": 0,
             "ticks": ""
            },
            "colorscale": [
             [
              0,
              "#0d0887"
             ],
             [
              0.1111111111111111,
              "#46039f"
             ],
             [
              0.2222222222222222,
              "#7201a8"
             ],
             [
              0.3333333333333333,
              "#9c179e"
             ],
             [
              0.4444444444444444,
              "#bd3786"
             ],
             [
              0.5555555555555556,
              "#d8576b"
             ],
             [
              0.6666666666666666,
              "#ed7953"
             ],
             [
              0.7777777777777778,
              "#fb9f3a"
             ],
             [
              0.8888888888888888,
              "#fdca26"
             ],
             [
              1,
              "#f0f921"
             ]
            ],
            "type": "histogram2d"
           }
          ],
          "histogram2dcontour": [
           {
            "colorbar": {
             "outlinewidth": 0,
             "ticks": ""
            },
            "colorscale": [
             [
              0,
              "#0d0887"
             ],
             [
              0.1111111111111111,
              "#46039f"
             ],
             [
              0.2222222222222222,
              "#7201a8"
             ],
             [
              0.3333333333333333,
              "#9c179e"
             ],
             [
              0.4444444444444444,
              "#bd3786"
             ],
             [
              0.5555555555555556,
              "#d8576b"
             ],
             [
              0.6666666666666666,
              "#ed7953"
             ],
             [
              0.7777777777777778,
              "#fb9f3a"
             ],
             [
              0.8888888888888888,
              "#fdca26"
             ],
             [
              1,
              "#f0f921"
             ]
            ],
            "type": "histogram2dcontour"
           }
          ],
          "mesh3d": [
           {
            "colorbar": {
             "outlinewidth": 0,
             "ticks": ""
            },
            "type": "mesh3d"
           }
          ],
          "parcoords": [
           {
            "line": {
             "colorbar": {
              "outlinewidth": 0,
              "ticks": ""
             }
            },
            "type": "parcoords"
           }
          ],
          "pie": [
           {
            "automargin": true,
            "type": "pie"
           }
          ],
          "scatter": [
           {
            "fillpattern": {
             "fillmode": "overlay",
             "size": 10,
             "solidity": 0.2
            },
            "type": "scatter"
           }
          ],
          "scatter3d": [
           {
            "line": {
             "colorbar": {
              "outlinewidth": 0,
              "ticks": ""
             }
            },
            "marker": {
             "colorbar": {
              "outlinewidth": 0,
              "ticks": ""
             }
            },
            "type": "scatter3d"
           }
          ],
          "scattercarpet": [
           {
            "marker": {
             "colorbar": {
              "outlinewidth": 0,
              "ticks": ""
             }
            },
            "type": "scattercarpet"
           }
          ],
          "scattergeo": [
           {
            "marker": {
             "colorbar": {
              "outlinewidth": 0,
              "ticks": ""
             }
            },
            "type": "scattergeo"
           }
          ],
          "scattergl": [
           {
            "marker": {
             "colorbar": {
              "outlinewidth": 0,
              "ticks": ""
             }
            },
            "type": "scattergl"
           }
          ],
          "scattermapbox": [
           {
            "marker": {
             "colorbar": {
              "outlinewidth": 0,
              "ticks": ""
             }
            },
            "type": "scattermapbox"
           }
          ],
          "scatterpolar": [
           {
            "marker": {
             "colorbar": {
              "outlinewidth": 0,
              "ticks": ""
             }
            },
            "type": "scatterpolar"
           }
          ],
          "scatterpolargl": [
           {
            "marker": {
             "colorbar": {
              "outlinewidth": 0,
              "ticks": ""
             }
            },
            "type": "scatterpolargl"
           }
          ],
          "scatterternary": [
           {
            "marker": {
             "colorbar": {
              "outlinewidth": 0,
              "ticks": ""
             }
            },
            "type": "scatterternary"
           }
          ],
          "surface": [
           {
            "colorbar": {
             "outlinewidth": 0,
             "ticks": ""
            },
            "colorscale": [
             [
              0,
              "#0d0887"
             ],
             [
              0.1111111111111111,
              "#46039f"
             ],
             [
              0.2222222222222222,
              "#7201a8"
             ],
             [
              0.3333333333333333,
              "#9c179e"
             ],
             [
              0.4444444444444444,
              "#bd3786"
             ],
             [
              0.5555555555555556,
              "#d8576b"
             ],
             [
              0.6666666666666666,
              "#ed7953"
             ],
             [
              0.7777777777777778,
              "#fb9f3a"
             ],
             [
              0.8888888888888888,
              "#fdca26"
             ],
             [
              1,
              "#f0f921"
             ]
            ],
            "type": "surface"
           }
          ],
          "table": [
           {
            "cells": {
             "fill": {
              "color": "#EBF0F8"
             },
             "line": {
              "color": "white"
             }
            },
            "header": {
             "fill": {
              "color": "#C8D4E3"
             },
             "line": {
              "color": "white"
             }
            },
            "type": "table"
           }
          ]
         },
         "layout": {
          "annotationdefaults": {
           "arrowcolor": "#2a3f5f",
           "arrowhead": 0,
           "arrowwidth": 1
          },
          "autotypenumbers": "strict",
          "coloraxis": {
           "colorbar": {
            "outlinewidth": 0,
            "ticks": ""
           }
          },
          "colorscale": {
           "diverging": [
            [
             0,
             "#8e0152"
            ],
            [
             0.1,
             "#c51b7d"
            ],
            [
             0.2,
             "#de77ae"
            ],
            [
             0.3,
             "#f1b6da"
            ],
            [
             0.4,
             "#fde0ef"
            ],
            [
             0.5,
             "#f7f7f7"
            ],
            [
             0.6,
             "#e6f5d0"
            ],
            [
             0.7,
             "#b8e186"
            ],
            [
             0.8,
             "#7fbc41"
            ],
            [
             0.9,
             "#4d9221"
            ],
            [
             1,
             "#276419"
            ]
           ],
           "sequential": [
            [
             0,
             "#0d0887"
            ],
            [
             0.1111111111111111,
             "#46039f"
            ],
            [
             0.2222222222222222,
             "#7201a8"
            ],
            [
             0.3333333333333333,
             "#9c179e"
            ],
            [
             0.4444444444444444,
             "#bd3786"
            ],
            [
             0.5555555555555556,
             "#d8576b"
            ],
            [
             0.6666666666666666,
             "#ed7953"
            ],
            [
             0.7777777777777778,
             "#fb9f3a"
            ],
            [
             0.8888888888888888,
             "#fdca26"
            ],
            [
             1,
             "#f0f921"
            ]
           ],
           "sequentialminus": [
            [
             0,
             "#0d0887"
            ],
            [
             0.1111111111111111,
             "#46039f"
            ],
            [
             0.2222222222222222,
             "#7201a8"
            ],
            [
             0.3333333333333333,
             "#9c179e"
            ],
            [
             0.4444444444444444,
             "#bd3786"
            ],
            [
             0.5555555555555556,
             "#d8576b"
            ],
            [
             0.6666666666666666,
             "#ed7953"
            ],
            [
             0.7777777777777778,
             "#fb9f3a"
            ],
            [
             0.8888888888888888,
             "#fdca26"
            ],
            [
             1,
             "#f0f921"
            ]
           ]
          },
          "colorway": [
           "#636efa",
           "#EF553B",
           "#00cc96",
           "#ab63fa",
           "#FFA15A",
           "#19d3f3",
           "#FF6692",
           "#B6E880",
           "#FF97FF",
           "#FECB52"
          ],
          "font": {
           "color": "#2a3f5f"
          },
          "geo": {
           "bgcolor": "white",
           "lakecolor": "white",
           "landcolor": "#E5ECF6",
           "showlakes": true,
           "showland": true,
           "subunitcolor": "white"
          },
          "hoverlabel": {
           "align": "left"
          },
          "hovermode": "closest",
          "mapbox": {
           "style": "light"
          },
          "paper_bgcolor": "white",
          "plot_bgcolor": "#E5ECF6",
          "polar": {
           "angularaxis": {
            "gridcolor": "white",
            "linecolor": "white",
            "ticks": ""
           },
           "bgcolor": "#E5ECF6",
           "radialaxis": {
            "gridcolor": "white",
            "linecolor": "white",
            "ticks": ""
           }
          },
          "scene": {
           "xaxis": {
            "backgroundcolor": "#E5ECF6",
            "gridcolor": "white",
            "gridwidth": 2,
            "linecolor": "white",
            "showbackground": true,
            "ticks": "",
            "zerolinecolor": "white"
           },
           "yaxis": {
            "backgroundcolor": "#E5ECF6",
            "gridcolor": "white",
            "gridwidth": 2,
            "linecolor": "white",
            "showbackground": true,
            "ticks": "",
            "zerolinecolor": "white"
           },
           "zaxis": {
            "backgroundcolor": "#E5ECF6",
            "gridcolor": "white",
            "gridwidth": 2,
            "linecolor": "white",
            "showbackground": true,
            "ticks": "",
            "zerolinecolor": "white"
           }
          },
          "shapedefaults": {
           "line": {
            "color": "#2a3f5f"
           }
          },
          "ternary": {
           "aaxis": {
            "gridcolor": "white",
            "linecolor": "white",
            "ticks": ""
           },
           "baxis": {
            "gridcolor": "white",
            "linecolor": "white",
            "ticks": ""
           },
           "bgcolor": "#E5ECF6",
           "caxis": {
            "gridcolor": "white",
            "linecolor": "white",
            "ticks": ""
           }
          },
          "title": {
           "x": 0.05
          },
          "xaxis": {
           "automargin": true,
           "gridcolor": "white",
           "linecolor": "white",
           "ticks": "",
           "title": {
            "standoff": 15
           },
           "zerolinecolor": "white",
           "zerolinewidth": 2
          },
          "yaxis": {
           "automargin": true,
           "gridcolor": "white",
           "linecolor": "white",
           "ticks": "",
           "title": {
            "standoff": 15
           },
           "zerolinecolor": "white",
           "zerolinewidth": 2
          }
         }
        },
        "title": {
         "text": "Boxplot des prix avec outliers identifiés par la méthode IQR"
        },
        "yaxis": {
         "title": {
          "text": "Prix"
         }
        }
       }
      }
     },
     "metadata": {},
     "output_type": "display_data"
    }
   ],
   "source": [
    "fig_IQR = go.Figure()\n",
    "\n",
    "# Ajout main box\n",
    "fig_IQR.add_trace(go.Box(y=allin_for_analyze['price'], name='Prix', boxmean=True, boxpoints='outliers'))\n",
    "\n",
    "# Ajout des outliers\n",
    "fig_IQR.add_trace(go.Scatter(y=outliers_IQR['price'], mode='markers', marker=dict(color='red'), name='Outliers'))\n",
    "\n",
    "fig_IQR.update_layout(title='Boxplot des prix avec outliers identifiés par la méthode IQR', yaxis_title='Prix')\n",
    "\n",
    "fig_IQR.show()\n"
   ]
  },
  {
   "cell_type": "markdown",
   "metadata": {},
   "source": [
    "Outliers avec la méthode Z score"
   ]
  },
  {
   "cell_type": "code",
   "execution_count": 42,
   "metadata": {},
   "outputs": [],
   "source": [
    "# Calcul de la moyenne et de l'écart type\n",
    "mean_price_Z = allin_for_analyze['price'].mean()\n",
    "std_price_Z = allin_for_analyze['price'].std()\n",
    "\n",
    "# Calcul du score Z pour chaque prix\n",
    "allin_for_analyze['z_score'] = (allin_for_analyze['price'] - mean_price_Z) / std_price_Z\n",
    "\n",
    "# Identification des outliers\n",
    "outliers_Z_score = allin_for_analyze[abs(allin_for_analyze['z_score']) > 3] \n",
    "#+ de 3 écarts-types de la moyenne sont considérées outliers"
   ]
  },
  {
   "cell_type": "code",
   "execution_count": 43,
   "metadata": {},
   "outputs": [
    {
     "data": {
      "text/html": [
       "<div>\n",
       "<style scoped>\n",
       "    .dataframe tbody tr th:only-of-type {\n",
       "        vertical-align: middle;\n",
       "    }\n",
       "\n",
       "    .dataframe tbody tr th {\n",
       "        vertical-align: top;\n",
       "    }\n",
       "\n",
       "    .dataframe thead th {\n",
       "        text-align: right;\n",
       "    }\n",
       "</style>\n",
       "<table border=\"1\" class=\"dataframe\">\n",
       "  <thead>\n",
       "    <tr style=\"text-align: right;\">\n",
       "      <th></th>\n",
       "      <th>product_id</th>\n",
       "      <th>onsale_web</th>\n",
       "      <th>price</th>\n",
       "      <th>stock_quantity</th>\n",
       "      <th>stock_status</th>\n",
       "      <th>sku</th>\n",
       "      <th>total_sales</th>\n",
       "      <th>post_date</th>\n",
       "      <th>post_title</th>\n",
       "      <th>post_name</th>\n",
       "      <th>...</th>\n",
       "      <th>_merge</th>\n",
       "      <th>poids</th>\n",
       "      <th>Région</th>\n",
       "      <th>Domaine</th>\n",
       "      <th>Appellation</th>\n",
       "      <th>Couleur</th>\n",
       "      <th>Millésime</th>\n",
       "      <th>Contenance</th>\n",
       "      <th>Degré d'alcool</th>\n",
       "      <th>z_score</th>\n",
       "    </tr>\n",
       "  </thead>\n",
       "  <tbody>\n",
       "    <tr>\n",
       "      <th>138</th>\n",
       "      <td>5767</td>\n",
       "      <td>True</td>\n",
       "      <td>175.0</td>\n",
       "      <td>12</td>\n",
       "      <td>True</td>\n",
       "      <td>15185</td>\n",
       "      <td>0.0</td>\n",
       "      <td>2019-03-13 14:43:22</td>\n",
       "      <td>Camille Giroud Clos de Vougeot 2016</td>\n",
       "      <td>camille-giroud-clos-de-vougeot-2016</td>\n",
       "      <td>...</td>\n",
       "      <td>both</td>\n",
       "      <td>1.5 kg</td>\n",
       "      <td>Bourgogne</td>\n",
       "      <td>Camille Giroud</td>\n",
       "      <td>Clos de Vougeot</td>\n",
       "      <td>Rouge</td>\n",
       "      <td>2016</td>\n",
       "      <td>75cl</td>\n",
       "      <td>13%</td>\n",
       "      <td>5.112843</td>\n",
       "    </tr>\n",
       "    <tr>\n",
       "      <th>139</th>\n",
       "      <td>5767</td>\n",
       "      <td>True</td>\n",
       "      <td>175.0</td>\n",
       "      <td>12</td>\n",
       "      <td>True</td>\n",
       "      <td>15185</td>\n",
       "      <td>0.0</td>\n",
       "      <td>2019-03-13 14:43:22</td>\n",
       "      <td>Camille Giroud Clos de Vougeot 2016</td>\n",
       "      <td>camille-giroud-clos-de-vougeot-2016</td>\n",
       "      <td>...</td>\n",
       "      <td>both</td>\n",
       "      <td>1.5 kg</td>\n",
       "      <td>Bourgogne</td>\n",
       "      <td>Camille Giroud</td>\n",
       "      <td>Clos de Vougeot</td>\n",
       "      <td>Rouge</td>\n",
       "      <td>2016</td>\n",
       "      <td>75cl</td>\n",
       "      <td>13%</td>\n",
       "      <td>5.112843</td>\n",
       "    </tr>\n",
       "    <tr>\n",
       "      <th>202</th>\n",
       "      <td>4355</td>\n",
       "      <td>True</td>\n",
       "      <td>126.5</td>\n",
       "      <td>2</td>\n",
       "      <td>True</td>\n",
       "      <td>12589</td>\n",
       "      <td>11.0</td>\n",
       "      <td>2018-03-02 10:46:10</td>\n",
       "      <td>Champagne Egly-Ouriet Grand Cru Blanc de Noirs</td>\n",
       "      <td>champagne-egly-ouriet-grand-cru-brut-blanc-de-...</td>\n",
       "      <td>...</td>\n",
       "      <td>both</td>\n",
       "      <td>1.5 kg</td>\n",
       "      <td>Champagne</td>\n",
       "      <td>Egly-Ouriet</td>\n",
       "      <td>Champagne</td>\n",
       "      <td>Blanc</td>\n",
       "      <td>0</td>\n",
       "      <td>75cl</td>\n",
       "      <td>12,50%</td>\n",
       "      <td>3.372111</td>\n",
       "    </tr>\n",
       "    <tr>\n",
       "      <th>203</th>\n",
       "      <td>4355</td>\n",
       "      <td>True</td>\n",
       "      <td>126.5</td>\n",
       "      <td>2</td>\n",
       "      <td>True</td>\n",
       "      <td>12589</td>\n",
       "      <td>11.0</td>\n",
       "      <td>2018-03-02 10:46:10</td>\n",
       "      <td>Champagne Egly-Ouriet Grand Cru Blanc de Noirs</td>\n",
       "      <td>champagne-egly-ouriet-grand-cru-brut-blanc-de-...</td>\n",
       "      <td>...</td>\n",
       "      <td>both</td>\n",
       "      <td>1.5 kg</td>\n",
       "      <td>Champagne</td>\n",
       "      <td>Egly-Ouriet</td>\n",
       "      <td>Champagne</td>\n",
       "      <td>Blanc</td>\n",
       "      <td>0</td>\n",
       "      <td>75cl</td>\n",
       "      <td>12,50%</td>\n",
       "      <td>3.372111</td>\n",
       "    </tr>\n",
       "    <tr>\n",
       "      <th>206</th>\n",
       "      <td>4352</td>\n",
       "      <td>True</td>\n",
       "      <td>225.0</td>\n",
       "      <td>0</td>\n",
       "      <td>True</td>\n",
       "      <td>15940</td>\n",
       "      <td>5.0</td>\n",
       "      <td>2018-03-02 10:30:04</td>\n",
       "      <td>Champagne Egly-Ouriet Grand Cru Millésimé 2008</td>\n",
       "      <td>champagne-egly-ouriet-grand-cru-millesime-2008</td>\n",
       "      <td>...</td>\n",
       "      <td>both</td>\n",
       "      <td>1.5 kg</td>\n",
       "      <td>Champagne</td>\n",
       "      <td>Egly-Ouriet</td>\n",
       "      <td>Champagne</td>\n",
       "      <td>Blanc</td>\n",
       "      <td>0</td>\n",
       "      <td>75cl</td>\n",
       "      <td>12,50%</td>\n",
       "      <td>6.907412</td>\n",
       "    </tr>\n",
       "  </tbody>\n",
       "</table>\n",
       "<p>5 rows × 21 columns</p>\n",
       "</div>"
      ],
      "text/plain": [
       "     product_id  onsale_web  price  stock_quantity  stock_status    sku  \\\n",
       "138        5767        True  175.0              12          True  15185   \n",
       "139        5767        True  175.0              12          True  15185   \n",
       "202        4355        True  126.5               2          True  12589   \n",
       "203        4355        True  126.5               2          True  12589   \n",
       "206        4352        True  225.0               0          True  15940   \n",
       "\n",
       "     total_sales            post_date  \\\n",
       "138          0.0  2019-03-13 14:43:22   \n",
       "139          0.0  2019-03-13 14:43:22   \n",
       "202         11.0  2018-03-02 10:46:10   \n",
       "203         11.0  2018-03-02 10:46:10   \n",
       "206          5.0  2018-03-02 10:30:04   \n",
       "\n",
       "                                         post_title  \\\n",
       "138             Camille Giroud Clos de Vougeot 2016   \n",
       "139             Camille Giroud Clos de Vougeot 2016   \n",
       "202  Champagne Egly-Ouriet Grand Cru Blanc de Noirs   \n",
       "203  Champagne Egly-Ouriet Grand Cru Blanc de Noirs   \n",
       "206  Champagne Egly-Ouriet Grand Cru Millésimé 2008   \n",
       "\n",
       "                                             post_name  ... _merge   poids  \\\n",
       "138                camille-giroud-clos-de-vougeot-2016  ...   both  1.5 kg   \n",
       "139                camille-giroud-clos-de-vougeot-2016  ...   both  1.5 kg   \n",
       "202  champagne-egly-ouriet-grand-cru-brut-blanc-de-...  ...   both  1.5 kg   \n",
       "203  champagne-egly-ouriet-grand-cru-brut-blanc-de-...  ...   both  1.5 kg   \n",
       "206     champagne-egly-ouriet-grand-cru-millesime-2008  ...   both  1.5 kg   \n",
       "\n",
       "        Région         Domaine      Appellation Couleur Millésime  Contenance  \\\n",
       "138  Bourgogne  Camille Giroud  Clos de Vougeot   Rouge      2016        75cl   \n",
       "139  Bourgogne  Camille Giroud  Clos de Vougeot   Rouge      2016        75cl   \n",
       "202  Champagne     Egly-Ouriet        Champagne   Blanc         0        75cl   \n",
       "203  Champagne     Egly-Ouriet        Champagne   Blanc         0        75cl   \n",
       "206  Champagne     Egly-Ouriet        Champagne   Blanc         0        75cl   \n",
       "\n",
       "    Degré d'alcool   z_score  \n",
       "138            13%  5.112843  \n",
       "139            13%  5.112843  \n",
       "202         12,50%  3.372111  \n",
       "203         12,50%  3.372111  \n",
       "206         12,50%  6.907412  \n",
       "\n",
       "[5 rows x 21 columns]"
      ]
     },
     "execution_count": 43,
     "metadata": {},
     "output_type": "execute_result"
    }
   ],
   "source": [
    "outliers_Z_score.head()"
   ]
  },
  {
   "cell_type": "code",
   "execution_count": 44,
   "metadata": {},
   "outputs": [
    {
     "name": "stdout",
     "output_type": "stream",
     "text": [
      "<class 'pandas.core.frame.DataFrame'>\n",
      "Index: 28 entries, 138 to 1368\n",
      "Data columns (total 21 columns):\n",
      " #   Column          Non-Null Count  Dtype  \n",
      "---  ------          --------------  -----  \n",
      " 0   product_id      28 non-null     int64  \n",
      " 1   onsale_web      28 non-null     bool   \n",
      " 2   price           28 non-null     float64\n",
      " 3   stock_quantity  28 non-null     int64  \n",
      " 4   stock_status    28 non-null     bool   \n",
      " 5   sku             28 non-null     int64  \n",
      " 6   total_sales     28 non-null     float64\n",
      " 7   post_date       28 non-null     object \n",
      " 8   post_title      28 non-null     object \n",
      " 9   post_name       28 non-null     object \n",
      " 10  post_modified   28 non-null     object \n",
      " 11  _merge          28 non-null     object \n",
      " 12  poids           24 non-null     object \n",
      " 13  Région          20 non-null     object \n",
      " 14  Domaine         20 non-null     object \n",
      " 15  Appellation     24 non-null     object \n",
      " 16  Couleur         20 non-null     object \n",
      " 17  Millésime       28 non-null     int64  \n",
      " 18  Contenance      24 non-null     object \n",
      " 19  Degré d'alcool  24 non-null     object \n",
      " 20  z_score         28 non-null     float64\n",
      "dtypes: bool(2), float64(3), int64(4), object(12)\n",
      "memory usage: 4.4+ KB\n"
     ]
    }
   ],
   "source": [
    "outliers_Z_score.info()"
   ]
  },
  {
   "cell_type": "code",
   "execution_count": 57,
   "metadata": {},
   "outputs": [
    {
     "data": {
      "image/png": "[encoded data removed]",
      "text/plain": [
       "<Figure size 640x480 with 1 Axes>"
      ]
     },
     "metadata": {},
     "output_type": "display_data"
    }
   ],
   "source": [
    "plt.boxplot(allin_for_analyze['price'], showfliers=False)  # Ne pas afficher les outliers\n",
    "plt.title('Boxplot des prix avec outliers identifiés par le Z score')\n",
    "plt.ylabel('Prix')\n",
    "\n",
    "# Ajout des outliers\n",
    "plt.scatter(x=[1] * len(outliers_Z_score), y=outliers_Z_score['price'], color='red', label='Outliers')\n",
    "\n",
    "plt.legend()\n",
    "plt.show()"
   ]
  },
  {
   "cell_type": "code",
   "execution_count": 58,
   "metadata": {},
   "outputs": [
    {
     "data": {
      "application/vnd.plotly.v1+json": {
       "config": {
        "plotlyServerURL": "https://plot.ly"
       },
       "data": [
        {
         "boxmean": true,
         "boxpoints": "outliers",
         "name": "Prix",
         "type": "box",
         "y": [
          18.5,
          18.5,
          41.2,
          41.2,
          55,
          55,
          57,
          57,
          24.4,
          24.4,
          24.4,
          24.4,
          37.2,
          37.2,
          19.2,
          19.2,
          19.2,
          19.2,
          27.8,
          27.8,
          56.4,
          56.4,
          38.4,
          38.4,
          71.3,
          71.3,
          71.3,
          71.3,
          19.8,
          19.8,
          18.2,
          18.2,
          31.6,
          31.6,
          57.6,
          57.6,
          16.8,
          16.8,
          22.8,
          22.8,
          32.6,
          32.6,
          44,
          44,
          48.5,
          48.5,
          59.9,
          59.9,
          59.9,
          59.9,
          65,
          65,
          25,
          25,
          49.5,
          49.5,
          55.4,
          55.4,
          31.7,
          31.7,
          22.9,
          22.9,
          53.2,
          53.2,
          24,
          24,
          59,
          59,
          67.5,
          67.5,
          57,
          57,
          30.6,
          30.6,
          13.5,
          13.5,
          25.9,
          25.9,
          25.9,
          25.9,
          17.3,
          17.3,
          27.3,
          27.3,
          19,
          19,
          11.1,
          11.1,
          28,
          28,
          35.3,
          35.3,
          16.1,
          16.1,
          24.2,
          24.2,
          29.9,
          29.9,
          16.5,
          16.5,
          24.3,
          24.3,
          21.5,
          21.5,
          28.5,
          28.5,
          11.9,
          11.9,
          16.5,
          16.5,
          15.8,
          15.8,
          10.4,
          10.4,
          9,
          9,
          45.9,
          45.9,
          14.1,
          14.1,
          9.3,
          9.3,
          21.4,
          21.4,
          16.7,
          16.7,
          40.5,
          40.5,
          11.9,
          11.9,
          22.9,
          22.9,
          24.5,
          24.5,
          9.6,
          9.6,
          35.6,
          35.6,
          175,
          175,
          35.6,
          35.6,
          33.6,
          33.6,
          34.4,
          34.4,
          38.4,
          38.4,
          29.7,
          29.7,
          30,
          30,
          15.3,
          15.3,
          16.8,
          16.8,
          27.5,
          27.5,
          11.1,
          11.1,
          11.1,
          11.1,
          16.1,
          16.1,
          31.5,
          31.5,
          31.5,
          31.5,
          49,
          49,
          50.4,
          50.4,
          32.2,
          32.2,
          35.6,
          35.6,
          50.1,
          50.1,
          12.8,
          12.8,
          23.2,
          23.2,
          7,
          7,
          18.9,
          18.9,
          67.2,
          67.2,
          19,
          19,
          12.9,
          12.9,
          112,
          112,
          45,
          45,
          86.8,
          86.8,
          62.1,
          62.1,
          79.5,
          79.5,
          126.5,
          126.5,
          79.5,
          79.5,
          225,
          225,
          51.6,
          51.6,
          59,
          59,
          135,
          135,
          49,
          49,
          53,
          53,
          49,
          49,
          85.6,
          85.6,
          39,
          39,
          49.5,
          49.5,
          77,
          77,
          29.5,
          29.5,
          35.5,
          35.5,
          37.5,
          37.5,
          33,
          33,
          59,
          59,
          69,
          69,
          83,
          83,
          22.5,
          22.5,
          40.2,
          40.2,
          23.7,
          23.7,
          41,
          41,
          27,
          27,
          11.6,
          11.6,
          23,
          23,
          10.9,
          10.9,
          13.5,
          13.5,
          17.8,
          17.8,
          9.4,
          9.4,
          9.3,
          9.3,
          10.8,
          10.8,
          6.8,
          6.8,
          18.2,
          18.2,
          9.9,
          9.9,
          13.8,
          13.8,
          10.1,
          10.1,
          27.2,
          27.2,
          109.6,
          109.6,
          71.7,
          71.7,
          32,
          32,
          77.8,
          77.8,
          12.6,
          12.6,
          13.4,
          13.4,
          29.8,
          29.8,
          23,
          23,
          18.5,
          18.5,
          49.9,
          49.9,
          26.5,
          26.5,
          16.3,
          16.3,
          16.45,
          16.45,
          8.2,
          8.2,
          9.1,
          9.1,
          9.1,
          9.1,
          18.1,
          18.1,
          12.5,
          12.5,
          17.2,
          17.2,
          46.5,
          46.5,
          46.5,
          46.5,
          24,
          24,
          9.3,
          9.3,
          19.8,
          19.8,
          11.3,
          11.3,
          7,
          7,
          12.1,
          12.1,
          7.1,
          7.1,
          6.5,
          6.5,
          9.9,
          9.9,
          15.8,
          15.8,
          15.8,
          15.8,
          17.8,
          17.8,
          12.2,
          12.2,
          17.1,
          17.1,
          24,
          24,
          12.7,
          12.7,
          39,
          39,
          10.7,
          10.7,
          38.5,
          38.5,
          21.8,
          21.8,
          73.3,
          73.3,
          54.8,
          54.8,
          44.3,
          44.3,
          32.8,
          32.8,
          71.6,
          71.6,
          13.6,
          13.6,
          13.9,
          13.9,
          12.7,
          12.7,
          9.9,
          9.9,
          15.4,
          15.4,
          7.8,
          7.8,
          13.5,
          13.5,
          17.2,
          17.2,
          44,
          44,
          157,
          157,
          68.1,
          68.1,
          104,
          104,
          108.5,
          108.5,
          176,
          176,
          62.5,
          62.5,
          59.9,
          59.9,
          191.3,
          191.3,
          12.6,
          12.6,
          36,
          36,
          36,
          36,
          15.2,
          15.2,
          17.9,
          17.9,
          21.6,
          21.6,
          105.6,
          105.6,
          217.5,
          217.5,
          64.9,
          64.9,
          48.7,
          48.7,
          48.7,
          48.7,
          59.4,
          59.4,
          32.8,
          32.8,
          43.5,
          43.5,
          72,
          72,
          29,
          29,
          28.4,
          28.4,
          29.2,
          29.2,
          49.5,
          49.5,
          43.5,
          43.5,
          44,
          44,
          33.4,
          33.4,
          28,
          28,
          21.2,
          21.2,
          20.8,
          20.8,
          10.2,
          10.2,
          10.4,
          10.4,
          19,
          19,
          15.2,
          15.2,
          11.5,
          11.5,
          38.6,
          38.6,
          48.4,
          48.4,
          38.6,
          38.6,
          60.4,
          60.4,
          12,
          12,
          42.1,
          42.1,
          116.4,
          116.4,
          57,
          57,
          7.1,
          7.1,
          6.3,
          6.3,
          24.4,
          24.4,
          14.9,
          14.9,
          22.4,
          22.4,
          44,
          44,
          23.2,
          23.2,
          17.5,
          17.5,
          51,
          51,
          39.1,
          39.1,
          16.3,
          16.3,
          16.9,
          16.9,
          17.1,
          17.1,
          16.7,
          16.7,
          29.4,
          29.4,
          7.1,
          7.1,
          10.9,
          10.9,
          10.7,
          10.7,
          19.8,
          19.8,
          17.7,
          17.7,
          28.5,
          28.5,
          11.9,
          11.9,
          16.4,
          16.4,
          7.5,
          7.5,
          12,
          12,
          27.9,
          27.9,
          7.4,
          7.4,
          46,
          46,
          46,
          46,
          74.5,
          74.5,
          44,
          44,
          55.6,
          55.6,
          99,
          99,
          115,
          115,
          121,
          121,
          105,
          105,
          105,
          105,
          115,
          115,
          121,
          121,
          41,
          41,
          137,
          137,
          102.3,
          102.3,
          46,
          46,
          10.8,
          10.8,
          31,
          31,
          25.2,
          25.2,
          25.2,
          25.2,
          21.7,
          21.7,
          20.2,
          20.2,
          38.6,
          38.6,
          44.6,
          44.6,
          48.5,
          48.5,
          27.7,
          27.7,
          26.7,
          26.7,
          26.9,
          26.9,
          24.4,
          24.4,
          34.7,
          34.7,
          59.6,
          59.6,
          31.7,
          31.7,
          59.6,
          59.6,
          32.1,
          32.1,
          19.8,
          19.8,
          7.9,
          7.9,
          17.5,
          17.5,
          8.5,
          8.5,
          6.5,
          6.5,
          7.9,
          7.9,
          16.7,
          16.7,
          15.4,
          15.4,
          12.7,
          12.7,
          7.6,
          7.6,
          14.3,
          14.3,
          22,
          22,
          78,
          78,
          78,
          78,
          78,
          78,
          78,
          78,
          12.8,
          12.8,
          12.8,
          12.8,
          12.9,
          12.9,
          10.7,
          10.7,
          29.8,
          29.8,
          9.5,
          9.5,
          13.2,
          13.2,
          11.1,
          11.1,
          9.9,
          9.9,
          12.5,
          12.5,
          19.5,
          19.5,
          14.1,
          14.1,
          14.8,
          14.8,
          26.5,
          26.5,
          16.3,
          16.3,
          24.3,
          24.3,
          42,
          42,
          16.9,
          16.9,
          15.8,
          15.8,
          18.4,
          18.4,
          13.3,
          13.3,
          11.1,
          11.1,
          18.6,
          18.6,
          23.4,
          23.4,
          12.5,
          12.5,
          18.2,
          18.2,
          15.9,
          15.9,
          9.2,
          9.2,
          15.5,
          15.5,
          16.6,
          16.6,
          12.9,
          12.9,
          10.3,
          10.3,
          124.8,
          124.8,
          18,
          18,
          38.6,
          38.6,
          63.4,
          63.4,
          14.3,
          14.3,
          46.5,
          46.5,
          27.3,
          27.3,
          13.4,
          13.4,
          13.7,
          13.7,
          19.2,
          19.2,
          29,
          29,
          20.35,
          20.35,
          14.5,
          14.5,
          9.8,
          9.8,
          8.6,
          8.6,
          12,
          12,
          15.4,
          15.4,
          15.8,
          15.8,
          12.6,
          12.6,
          35,
          35,
          9.7,
          9.7,
          16.3,
          16.3,
          16.3,
          16.3,
          6.8,
          6.8,
          21.7,
          21.7,
          13.7,
          13.7,
          13.7,
          13.7,
          29,
          29,
          12.7,
          12.7,
          23.4,
          23.4,
          13.1,
          13.1,
          13.4,
          13.4,
          11.8,
          11.8,
          11.6,
          11.6,
          26.6,
          26.6,
          16.9,
          16.9,
          19,
          19,
          20.6,
          20.6,
          26.2,
          26.2,
          22,
          22,
          46,
          46,
          23.4,
          23.4,
          16.6,
          16.6,
          44.5,
          44.5,
          60,
          60,
          39.2,
          39.2,
          13.7,
          13.7,
          39,
          39,
          21.8,
          21.8,
          42,
          42,
          69.8,
          69.8,
          13.5,
          13.5,
          24,
          24,
          24,
          24,
          13.5,
          13.5,
          11.5,
          11.5,
          19.5,
          19.5,
          13.1,
          13.1,
          42.2,
          42.2,
          48.5,
          48.5,
          14.9,
          14.9,
          24.8,
          24.8,
          17.6,
          17.6,
          8.1,
          8.1,
          27.9,
          27.9,
          27.9,
          27.9,
          24.5,
          24.5,
          20.1,
          20.1,
          69,
          69,
          25.9,
          25.9,
          25.9,
          25.9,
          28,
          28,
          50.5,
          50.5,
          9.7,
          9.7,
          7.4,
          7.4,
          14.5,
          14.5,
          12.7,
          12.7,
          16.4,
          16.4,
          17.4,
          17.4,
          19,
          19,
          13.5,
          13.5,
          15.5,
          15.5,
          16.3,
          16.3,
          13.2,
          13.2,
          23.6,
          23.6,
          19,
          19,
          8.7,
          8.7,
          12.1,
          12.1,
          20.4,
          20.4,
          22.4,
          22.4,
          13.3,
          13.3,
          16.6,
          16.6,
          27.5,
          27.5,
          40.2,
          40.2,
          20.4,
          20.4,
          25,
          25,
          39,
          39,
          28.8,
          28.8,
          9.5,
          9.5,
          78,
          78,
          45,
          45,
          52.6,
          52.6,
          79.8,
          79.8,
          67,
          67,
          48.5,
          48.5,
          83.7,
          83.7,
          58.8,
          58.8,
          39.8,
          39.8,
          16.9,
          16.9,
          56,
          56,
          63.5,
          63.5,
          57.6,
          57.6,
          63.5,
          63.5,
          68.3,
          68.3,
          65.9,
          65.9,
          61.6,
          61.6,
          43.9,
          43.9,
          61.6,
          61.6,
          26.5,
          26.5,
          41.8,
          41.8,
          41.8,
          41.8,
          26.5,
          26.5,
          26.5,
          26.5,
          18.4,
          18.4,
          27.8,
          27.8,
          25.7,
          25.7,
          22.2,
          22.2,
          41,
          41,
          52.4,
          52.4,
          50,
          50,
          76.8,
          76.8,
          62.4,
          62.4,
          52.4,
          52.4,
          50,
          50,
          62.4,
          62.4,
          39.6,
          39.6,
          58.3,
          58.3,
          52.4,
          52.4,
          52.9,
          52.9,
          24,
          24,
          17.1,
          17.1,
          38,
          38,
          38,
          38,
          11.3,
          11.3,
          9.9,
          9.9,
          23,
          23,
          30.1,
          30.1,
          14,
          14,
          5.7,
          5.7,
          5.7,
          5.7,
          5.8,
          5.8,
          5.8,
          5.8,
          5.7,
          5.7,
          5.7,
          5.7,
          13.7,
          13.7,
          12.1,
          12.1,
          10.1,
          10.1,
          12.3,
          12.3,
          18.7,
          18.7,
          29.5,
          29.5,
          11.1,
          11.1,
          13.6,
          13.6,
          11.1,
          11.1,
          21,
          21,
          41.6,
          41.6,
          28.5,
          28.5,
          9.6,
          9.6,
          33.7,
          33.7,
          18.8,
          18.8,
          43.9,
          43.9,
          28.1,
          28.1,
          6.7,
          6.7,
          10.6,
          10.6,
          5.2,
          5.2,
          5.8,
          5.8,
          10.6,
          10.6,
          5.8,
          5.8,
          11.9,
          11.9,
          9.8,
          9.8,
          8.7,
          8.7,
          8.7,
          8.7,
          11.9,
          11.9,
          14.5,
          14.5,
          8.7,
          8.7,
          8.4,
          8.4,
          73,
          22.8,
          22.8,
          18,
          18,
          20.5,
          20.5,
          9,
          9,
          14.3,
          14.3,
          18.2,
          18.2,
          7.8,
          7.8,
          14.4,
          14.4,
          20.5,
          20.5,
          12.9,
          12.9,
          19.5,
          19.5,
          20.8,
          20.8,
          16.2,
          16.2,
          12.9,
          12.9,
          7.2,
          7.2,
          8.6,
          8.6,
          8.9,
          8.9,
          8.9,
          8.9,
          10.3,
          10.3,
          10.8,
          10.8,
          28,
          28,
          25,
          25,
          12,
          12,
          7.6,
          7.6,
          12.6,
          12.6,
          9.8,
          9.8,
          22.8,
          22.8,
          12.8,
          12.8,
          22.1,
          22.1,
          26,
          26,
          20.2,
          20.2,
          17,
          17,
          19.8,
          19.8,
          21.9,
          21.9,
          17.8,
          17.8,
          19,
          19,
          19.8,
          19.8,
          23.8,
          23.8,
          9.9,
          9.9,
          13,
          13,
          8.7,
          8.7,
          8.5,
          8.5,
          12.7,
          12.7,
          6.5,
          6.5,
          32.7,
          32.7,
          31.2,
          31.2,
          42.6,
          42.6,
          60,
          60,
          80,
          80,
          18.3,
          18.3,
          19.3,
          19.3,
          21.8,
          21.8,
          22.8,
          22.8,
          7.7,
          7.7,
          46,
          46,
          20.8,
          20.8,
          14.1,
          14.1,
          24.2,
          24.2,
          34.3,
          34.3,
          34.3,
          34.3,
          16.9,
          16.9,
          20.8,
          20.8,
          17.2,
          17.2,
          12,
          12,
          26.7,
          26.7,
          23.5,
          23.5,
          17.5,
          17.5,
          9.3,
          9.3,
          26.4,
          26.4,
          11.6,
          11.6,
          29.9,
          29.9,
          9.3,
          9.3,
          14.7,
          14.7,
          14.05,
          14.05,
          13.5,
          13.5,
          19,
          19,
          16.4,
          16.4,
          23.2,
          23.2,
          14.4,
          14.4,
          30,
          30,
          17,
          17,
          17.9,
          17.9,
          18.7,
          18.7,
          40,
          40,
          28.4,
          28.4,
          27.9,
          27.9,
          25.3,
          25.3,
          17,
          17,
          19.3,
          19.3,
          19,
          19,
          29.5,
          29.5,
          10.2,
          10.2,
          15.3,
          15.3,
          36.9,
          36.9,
          33.2,
          33.2,
          28.1,
          28.1,
          18.25,
          18.25,
          35.1,
          35.1,
          40.7,
          40.7,
          27.3,
          27.3,
          62.4,
          62.4,
          74.8,
          74.8,
          34.8,
          34.8,
          30.8,
          30.8,
          27.9,
          27.9,
          92,
          92,
          58,
          58,
          22.8,
          22.8,
          58,
          58,
          15.4,
          15.4,
          24.7,
          24.7,
          57.7,
          57.7,
          25.3,
          25.3,
          49,
          49,
          38,
          38,
          15.2,
          15.2,
          36.2,
          36.2,
          36.3,
          36.3,
          33.4,
          33.4,
          34.3,
          34.3,
          35.2,
          35.2,
          40.2,
          40.2,
          42.2,
          42.2,
          43,
          43,
          43,
          43,
          48.8,
          48.8,
          48.8,
          48.8,
          24.6,
          24.6,
          17.1,
          17.1,
          9.3,
          9.3,
          11,
          11,
          10.7,
          10.7,
          14.6,
          14.6,
          14.9,
          14.9,
          16.6,
          16.6,
          33.2,
          33.2,
          37,
          37,
          21,
          21,
          14.4,
          14.4,
          30.5,
          30.5,
          32.2,
          32.2,
          41.8,
          41.8,
          47.2,
          47.2,
          52.7,
          52.7,
          37.7,
          37.7,
          33.2,
          33.2,
          93,
          93,
          114,
          114,
          122,
          122,
          57,
          57,
          27.5,
          27.5,
          49.5,
          49.5,
          59,
          59,
          49.5,
          49.5,
          59,
          59,
          49.5,
          49.5,
          62,
          62,
          59,
          59,
          59.8,
          59.8,
          57,
          57,
          12.3,
          12.3,
          8.9,
          8.9,
          12.8,
          12.8,
          9.7,
          9.7,
          77.4,
          77.4,
          56.3,
          56.3,
          29.8,
          29.8,
          17.9,
          17.9,
          88.4,
          88.4,
          23,
          23,
          71.5,
          71.5,
          69,
          69,
          100,
          100,
          31.7,
          31.7,
          25.7,
          25.7
         ]
        },
        {
         "marker": {
          "color": "red"
         },
         "mode": "markers",
         "name": "Outliers",
         "type": "scatter",
         "y": [
          175,
          175,
          126.5,
          126.5,
          225,
          225,
          135,
          135,
          157,
          157,
          176,
          176,
          191.3,
          191.3,
          217.5,
          217.5,
          116.4,
          116.4,
          121,
          121,
          121,
          121,
          137,
          137,
          124.8,
          124.8,
          122,
          122
         ]
        }
       ],
       "layout": {
        "template": {
         "data": {
          "bar": [
           {
            "error_x": {
             "color": "#2a3f5f"
            },
            "error_y": {
             "color": "#2a3f5f"
            },
            "marker": {
             "line": {
              "color": "#E5ECF6",
              "width": 0.5
             },
             "pattern": {
              "fillmode": "overlay",
              "size": 10,
              "solidity": 0.2
             }
            },
            "type": "bar"
           }
          ],
          "barpolar": [
           {
            "marker": {
             "line": {
              "color": "#E5ECF6",
              "width": 0.5
             },
             "pattern": {
              "fillmode": "overlay",
              "size": 10,
              "solidity": 0.2
             }
            },
            "type": "barpolar"
           }
          ],
          "carpet": [
           {
            "aaxis": {
             "endlinecolor": "#2a3f5f",
             "gridcolor": "white",
             "linecolor": "white",
             "minorgridcolor": "white",
             "startlinecolor": "#2a3f5f"
            },
            "baxis": {
             "endlinecolor": "#2a3f5f",
             "gridcolor": "white",
             "linecolor": "white",
             "minorgridcolor": "white",
             "startlinecolor": "#2a3f5f"
            },
            "type": "carpet"
           }
          ],
          "choropleth": [
           {
            "colorbar": {
             "outlinewidth": 0,
             "ticks": ""
            },
            "type": "choropleth"
           }
          ],
          "contour": [
           {
            "colorbar": {
             "outlinewidth": 0,
             "ticks": ""
            },
            "colorscale": [
             [
              0,
              "#0d0887"
             ],
             [
              0.1111111111111111,
              "#46039f"
             ],
             [
              0.2222222222222222,
              "#7201a8"
             ],
             [
              0.3333333333333333,
              "#9c179e"
             ],
             [
              0.4444444444444444,
              "#bd3786"
             ],
             [
              0.5555555555555556,
              "#d8576b"
             ],
             [
              0.6666666666666666,
              "#ed7953"
             ],
             [
              0.7777777777777778,
              "#fb9f3a"
             ],
             [
              0.8888888888888888,
              "#fdca26"
             ],
             [
              1,
              "#f0f921"
             ]
            ],
            "type": "contour"
           }
          ],
          "contourcarpet": [
           {
            "colorbar": {
             "outlinewidth": 0,
             "ticks": ""
            },
            "type": "contourcarpet"
           }
          ],
          "heatmap": [
           {
            "colorbar": {
             "outlinewidth": 0,
             "ticks": ""
            },
            "colorscale": [
             [
              0,
              "#0d0887"
             ],
             [
              0.1111111111111111,
              "#46039f"
             ],
             [
              0.2222222222222222,
              "#7201a8"
             ],
             [
              0.3333333333333333,
              "#9c179e"
             ],
             [
              0.4444444444444444,
              "#bd3786"
             ],
             [
              0.5555555555555556,
              "#d8576b"
             ],
             [
              0.6666666666666666,
              "#ed7953"
             ],
             [
              0.7777777777777778,
              "#fb9f3a"
             ],
             [
              0.8888888888888888,
              "#fdca26"
             ],
             [
              1,
              "#f0f921"
             ]
            ],
            "type": "heatmap"
           }
          ],
          "heatmapgl": [
           {
            "colorbar": {
             "outlinewidth": 0,
             "ticks": ""
            },
            "colorscale": [
             [
              0,
              "#0d0887"
             ],
             [
              0.1111111111111111,
              "#46039f"
             ],
             [
              0.2222222222222222,
              "#7201a8"
             ],
             [
              0.3333333333333333,
              "#9c179e"
             ],
             [
              0.4444444444444444,
              "#bd3786"
             ],
             [
              0.5555555555555556,
              "#d8576b"
             ],
             [
              0.6666666666666666,
              "#ed7953"
             ],
             [
              0.7777777777777778,
              "#fb9f3a"
             ],
             [
              0.8888888888888888,
              "#fdca26"
             ],
             [
              1,
              "#f0f921"
             ]
            ],
            "type": "heatmapgl"
           }
          ],
          "histogram": [
           {
            "marker": {
             "pattern": {
              "fillmode": "overlay",
              "size": 10,
              "solidity": 0.2
             }
            },
            "type": "histogram"
           }
          ],
          "histogram2d": [
           {
            "colorbar": {
             "outlinewidth": 0,
             "ticks": ""
            },
            "colorscale": [
             [
              0,
              "#0d0887"
             ],
             [
              0.1111111111111111,
              "#46039f"
             ],
             [
              0.2222222222222222,
              "#7201a8"
             ],
             [
              0.3333333333333333,
              "#9c179e"
             ],
             [
              0.4444444444444444,
              "#bd3786"
             ],
             [
              0.5555555555555556,
              "#d8576b"
             ],
             [
              0.6666666666666666,
              "#ed7953"
             ],
             [
              0.7777777777777778,
              "#fb9f3a"
             ],
             [
              0.8888888888888888,
              "#fdca26"
             ],
             [
              1,
              "#f0f921"
             ]
            ],
            "type": "histogram2d"
           }
          ],
          "histogram2dcontour": [
           {
            "colorbar": {
             "outlinewidth": 0,
             "ticks": ""
            },
            "colorscale": [
             [
              0,
              "#0d0887"
             ],
             [
              0.1111111111111111,
              "#46039f"
             ],
             [
              0.2222222222222222,
              "#7201a8"
             ],
             [
              0.3333333333333333,
              "#9c179e"
             ],
             [
              0.4444444444444444,
              "#bd3786"
             ],
             [
              0.5555555555555556,
              "#d8576b"
             ],
             [
              0.6666666666666666,
              "#ed7953"
             ],
             [
              0.7777777777777778,
              "#fb9f3a"
             ],
             [
              0.8888888888888888,
              "#fdca26"
             ],
             [
              1,
              "#f0f921"
             ]
            ],
            "type": "histogram2dcontour"
           }
          ],
          "mesh3d": [
           {
            "colorbar": {
             "outlinewidth": 0,
             "ticks": ""
            },
            "type": "mesh3d"
           }
          ],
          "parcoords": [
           {
            "line": {
             "colorbar": {
              "outlinewidth": 0,
              "ticks": ""
             }
            },
            "type": "parcoords"
           }
          ],
          "pie": [
           {
            "automargin": true,
            "type": "pie"
           }
          ],
          "scatter": [
           {
            "fillpattern": {
             "fillmode": "overlay",
             "size": 10,
             "solidity": 0.2
            },
            "type": "scatter"
           }
          ],
          "scatter3d": [
           {
            "line": {
             "colorbar": {
              "outlinewidth": 0,
              "ticks": ""
             }
            },
            "marker": {
             "colorbar": {
              "outlinewidth": 0,
              "ticks": ""
             }
            },
            "type": "scatter3d"
           }
          ],
          "scattercarpet": [
           {
            "marker": {
             "colorbar": {
              "outlinewidth": 0,
              "ticks": ""
             }
            },
            "type": "scattercarpet"
           }
          ],
          "scattergeo": [
           {
            "marker": {
             "colorbar": {
              "outlinewidth": 0,
              "ticks": ""
             }
            },
            "type": "scattergeo"
           }
          ],
          "scattergl": [
           {
            "marker": {
             "colorbar": {
              "outlinewidth": 0,
              "ticks": ""
             }
            },
            "type": "scattergl"
           }
          ],
          "scattermapbox": [
           {
            "marker": {
             "colorbar": {
              "outlinewidth": 0,
              "ticks": ""
             }
            },
            "type": "scattermapbox"
           }
          ],
          "scatterpolar": [
           {
            "marker": {
             "colorbar": {
              "outlinewidth": 0,
              "ticks": ""
             }
            },
            "type": "scatterpolar"
           }
          ],
          "scatterpolargl": [
           {
            "marker": {
             "colorbar": {
              "outlinewidth": 0,
              "ticks": ""
             }
            },
            "type": "scatterpolargl"
           }
          ],
          "scatterternary": [
           {
            "marker": {
             "colorbar": {
              "outlinewidth": 0,
              "ticks": ""
             }
            },
            "type": "scatterternary"
           }
          ],
          "surface": [
           {
            "colorbar": {
             "outlinewidth": 0,
             "ticks": ""
            },
            "colorscale": [
             [
              0,
              "#0d0887"
             ],
             [
              0.1111111111111111,
              "#46039f"
             ],
             [
              0.2222222222222222,
              "#7201a8"
             ],
             [
              0.3333333333333333,
              "#9c179e"
             ],
             [
              0.4444444444444444,
              "#bd3786"
             ],
             [
              0.5555555555555556,
              "#d8576b"
             ],
             [
              0.6666666666666666,
              "#ed7953"
             ],
             [
              0.7777777777777778,
              "#fb9f3a"
             ],
             [
              0.8888888888888888,
              "#fdca26"
             ],
             [
              1,
              "#f0f921"
             ]
            ],
            "type": "surface"
           }
          ],
          "table": [
           {
            "cells": {
             "fill": {
              "color": "#EBF0F8"
             },
             "line": {
              "color": "white"
             }
            },
            "header": {
             "fill": {
              "color": "#C8D4E3"
             },
             "line": {
              "color": "white"
             }
            },
            "type": "table"
           }
          ]
         },
         "layout": {
          "annotationdefaults": {
           "arrowcolor": "#2a3f5f",
           "arrowhead": 0,
           "arrowwidth": 1
          },
          "autotypenumbers": "strict",
          "coloraxis": {
           "colorbar": {
            "outlinewidth": 0,
            "ticks": ""
           }
          },
          "colorscale": {
           "diverging": [
            [
             0,
             "#8e0152"
            ],
            [
             0.1,
             "#c51b7d"
            ],
            [
             0.2,
             "#de77ae"
            ],
            [
             0.3,
             "#f1b6da"
            ],
            [
             0.4,
             "#fde0ef"
            ],
            [
             0.5,
             "#f7f7f7"
            ],
            [
             0.6,
             "#e6f5d0"
            ],
            [
             0.7,
             "#b8e186"
            ],
            [
             0.8,
             "#7fbc41"
            ],
            [
             0.9,
             "#4d9221"
            ],
            [
             1,
             "#276419"
            ]
           ],
           "sequential": [
            [
             0,
             "#0d0887"
            ],
            [
             0.1111111111111111,
             "#46039f"
            ],
            [
             0.2222222222222222,
             "#7201a8"
            ],
            [
             0.3333333333333333,
             "#9c179e"
            ],
            [
             0.4444444444444444,
             "#bd3786"
            ],
            [
             0.5555555555555556,
             "#d8576b"
            ],
            [
             0.6666666666666666,
             "#ed7953"
            ],
            [
             0.7777777777777778,
             "#fb9f3a"
            ],
            [
             0.8888888888888888,
             "#fdca26"
            ],
            [
             1,
             "#f0f921"
            ]
           ],
           "sequentialminus": [
            [
             0,
             "#0d0887"
            ],
            [
             0.1111111111111111,
             "#46039f"
            ],
            [
             0.2222222222222222,
             "#7201a8"
            ],
            [
             0.3333333333333333,
             "#9c179e"
            ],
            [
             0.4444444444444444,
             "#bd3786"
            ],
            [
             0.5555555555555556,
             "#d8576b"
            ],
            [
             0.6666666666666666,
             "#ed7953"
            ],
            [
             0.7777777777777778,
             "#fb9f3a"
            ],
            [
             0.8888888888888888,
             "#fdca26"
            ],
            [
             1,
             "#f0f921"
            ]
           ]
          },
          "colorway": [
           "#636efa",
           "#EF553B",
           "#00cc96",
           "#ab63fa",
           "#FFA15A",
           "#19d3f3",
           "#FF6692",
           "#B6E880",
           "#FF97FF",
           "#FECB52"
          ],
          "font": {
           "color": "#2a3f5f"
          },
          "geo": {
           "bgcolor": "white",
           "lakecolor": "white",
           "landcolor": "#E5ECF6",
           "showlakes": true,
           "showland": true,
           "subunitcolor": "white"
          },
          "hoverlabel": {
           "align": "left"
          },
          "hovermode": "closest",
          "mapbox": {
           "style": "light"
          },
          "paper_bgcolor": "white",
          "plot_bgcolor": "#E5ECF6",
          "polar": {
           "angularaxis": {
            "gridcolor": "white",
            "linecolor": "white",
            "ticks": ""
           },
           "bgcolor": "#E5ECF6",
           "radialaxis": {
            "gridcolor": "white",
            "linecolor": "white",
            "ticks": ""
           }
          },
          "scene": {
           "xaxis": {
            "backgroundcolor": "#E5ECF6",
            "gridcolor": "white",
            "gridwidth": 2,
            "linecolor": "white",
            "showbackground": true,
            "ticks": "",
            "zerolinecolor": "white"
           },
           "yaxis": {
            "backgroundcolor": "#E5ECF6",
            "gridcolor": "white",
            "gridwidth": 2,
            "linecolor": "white",
            "showbackground": true,
            "ticks": "",
            "zerolinecolor": "white"
           },
           "zaxis": {
            "backgroundcolor": "#E5ECF6",
            "gridcolor": "white",
            "gridwidth": 2,
            "linecolor": "white",
            "showbackground": true,
            "ticks": "",
            "zerolinecolor": "white"
           }
          },
          "shapedefaults": {
           "line": {
            "color": "#2a3f5f"
           }
          },
          "ternary": {
           "aaxis": {
            "gridcolor": "white",
            "linecolor": "white",
            "ticks": ""
           },
           "baxis": {
            "gridcolor": "white",
            "linecolor": "white",
            "ticks": ""
           },
           "bgcolor": "#E5ECF6",
           "caxis": {
            "gridcolor": "white",
            "linecolor": "white",
            "ticks": ""
           }
          },
          "title": {
           "x": 0.05
          },
          "xaxis": {
           "automargin": true,
           "gridcolor": "white",
           "linecolor": "white",
           "ticks": "",
           "title": {
            "standoff": 15
           },
           "zerolinecolor": "white",
           "zerolinewidth": 2
          },
          "yaxis": {
           "automargin": true,
           "gridcolor": "white",
           "linecolor": "white",
           "ticks": "",
           "title": {
            "standoff": 15
           },
           "zerolinecolor": "white",
           "zerolinewidth": 2
          }
         }
        },
        "title": {
         "text": "Boxplot des prix avec outliers identifiés par le Z-score"
        },
        "yaxis": {
         "title": {
          "text": "Prix"
         }
        }
       }
      }
     },
     "metadata": {},
     "output_type": "display_data"
    }
   ],
   "source": [
    "fig_Z = go.Figure()\n",
    "\n",
    "# Ajout main box\n",
    "fig_Z.add_trace(go.Box(y=allin_for_analyze['price'], name='Prix', boxmean=True, boxpoints='outliers'))\n",
    "\n",
    "# Ajout des outliers\n",
    "fig_Z.add_trace(go.Scatter(y=outliers_Z_score['price'], mode='markers', marker=dict(color='red'), name='Outliers'))\n",
    "\n",
    "fig_Z.update_layout(title='Boxplot des prix avec outliers identifiés par le Z-score', yaxis_title='Prix')\n",
    "\n",
    "fig_Z.show()"
   ]
  },
  {
   "cell_type": "markdown",
   "metadata": {},
   "source": [
    "## Next step"
   ]
  },
  {
   "cell_type": "markdown",
   "metadata": {},
   "source": [
    "Anticipation des produits à risque \"out of stock\""
   ]
  },
  {
   "cell_type": "code",
   "execution_count": 46,
   "metadata": {},
   "outputs": [
    {
     "name": "stdout",
     "output_type": "stream",
     "text": [
      "      product_id  onsale_web  price  stock_quantity  stock_status    sku  \\\n",
      "8           4920        True   24.4               1          True  15530   \n",
      "9           4920        True   24.4               1          True  15530   \n",
      "10          4919        True   24.4               0          True  15531   \n",
      "11          4919        True   24.4               0          True  15531   \n",
      "12          4918        True   37.2               0          True  15533   \n",
      "...          ...         ...    ...             ...           ...    ...   \n",
      "1286        4876        True   22.8               4          True  16289   \n",
      "1329        4870        True    9.3               0          True  16149   \n",
      "1330        4870        True    9.3               0          True  16149   \n",
      "1419        4138        True   25.7               0          True  15341   \n",
      "1420        4138        True   25.7               0          True  15341   \n",
      "\n",
      "      total_sales            post_date  \\\n",
      "8            10.0  2018-05-17 11:17:53   \n",
      "9            10.0  2018-05-17 11:17:53   \n",
      "10            6.0  2018-05-17 11:15:27   \n",
      "11            6.0  2018-05-17 11:15:27   \n",
      "12           24.0  2018-05-17 11:09:36   \n",
      "...           ...                  ...   \n",
      "1286         22.0  2018-05-04 13:40:16   \n",
      "1329         33.0  2018-05-03 13:45:43   \n",
      "1330         33.0  2018-05-03 13:45:43   \n",
      "1419          6.0  2018-02-13 11:54:31   \n",
      "1420          6.0  2018-02-13 11:54:31   \n",
      "\n",
      "                                             post_title  \\\n",
      "8            Alain Graillot Crozes-Hermitage Blanc 2018   \n",
      "9            Alain Graillot Crozes-Hermitage Blanc 2018   \n",
      "10           Alain Graillot Crozes-Hermitage Rouge 2017   \n",
      "11           Alain Graillot Crozes-Hermitage Rouge 2017   \n",
      "12    Alain Graillot Crozes-Hermitage Rouge La Guira...   \n",
      "...                                                 ...   \n",
      "1286                           Tempier Bandol Rosé 2019   \n",
      "1329                Triennes IGP Méditerranée Rosé 2019   \n",
      "1330                Triennes IGP Méditerranée Rosé 2019   \n",
      "1419                           Zind-Humbrecht Zind 2017   \n",
      "1420                           Zind-Humbrecht Zind 2017   \n",
      "\n",
      "                                              post_name  ... _merge   poids  \\\n",
      "8            alain-graillot-crozes-hermitage-blanc-2018  ...   both  1.5 kg   \n",
      "9            alain-graillot-crozes-hermitage-blanc-2018  ...   both  1.5 kg   \n",
      "10           alain-graillot-crozes-hermitage-rouge-2017  ...   both  1.5 kg   \n",
      "11           alain-graillot-crozes-hermitage-rouge-2017  ...   both  1.5 kg   \n",
      "12    alain-graillot-crozes-hermitage-rouge-la-guira...  ...   both  1.5 kg   \n",
      "...                                                 ...  ...    ...     ...   \n",
      "1286                           tempier-bandol-rose-2019  ...   both  1.5 kg   \n",
      "1329                triennes-igp-mediterranee-rose-2019  ...   both  1.5 kg   \n",
      "1330                triennes-igp-mediterranee-rose-2019  ...   both  1.5 kg   \n",
      "1419                       zind-humbrecht-vdf-zind-2017  ...   both     NaN   \n",
      "1420                       zind-humbrecht-vdf-zind-2017  ...   both     NaN   \n",
      "\n",
      "        Région         Domaine       Appellation Couleur Millésime  \\\n",
      "8        Rhône  Alain Graillot  Crozes-Hermitage   Blanc      2018   \n",
      "9        Rhône  Alain Graillot  Crozes-Hermitage   Blanc      2018   \n",
      "10       Rhône  Alain Graillot  Crozes-Hermitage   Rouge      2019   \n",
      "11       Rhône  Alain Graillot  Crozes-Hermitage   Rouge      2019   \n",
      "12       Rhône  Alain Graillot  Crozes-Hermitage   Rouge      2018   \n",
      "...        ...             ...               ...     ...       ...   \n",
      "1286  Provence         Tempier            Bandol    Rosé      2021   \n",
      "1329  Provence        Triennes      Méditerranée    Rosé      2021   \n",
      "1330  Provence        Triennes      Méditerranée    Rosé      2021   \n",
      "1419       NaN             NaN               NaN     NaN         0   \n",
      "1420       NaN             NaN               NaN     NaN         0   \n",
      "\n",
      "      Contenance Degré d'alcool   z_score  \n",
      "8           75cl            13% -0.292400  \n",
      "9           75cl            13% -0.292400  \n",
      "10          75cl            13% -0.292400  \n",
      "11          75cl            13% -0.292400  \n",
      "12          75cl            13%  0.167010  \n",
      "...          ...            ...       ...  \n",
      "1286        75cl         13,50% -0.349826  \n",
      "1329        75cl            13% -0.834360  \n",
      "1330        75cl            13% -0.834360  \n",
      "1419         NaN            NaN -0.245741  \n",
      "1420         NaN            NaN -0.245741  \n",
      "\n",
      "[110 rows x 21 columns]\n"
     ]
    }
   ],
   "source": [
    "# Filtrer les lignes avec stock_status - 10 total_sales supérieur à 3\n",
    "data_remise_en_stock = allin_for_analyze[(allin_for_analyze['stock_quantity'] < 10 ) & (allin_for_analyze['total_sales'] > 4)]\n",
    "\n",
    "# Afficher les données filtrées\n",
    "print(data_remise_en_stock)"
   ]
  }
 ],
 "metadata": {
  "kernelspec": {
   "display_name": "Python 3",
   "language": "python",
   "name": "python3"
  },
  "language_info": {
   "codemirror_mode": {
    "name": "ipython",
    "version": 3
   },
   "file_extension": ".py",
   "mimetype": "text/x-python",
   "name": "python",
   "nbconvert_exporter": "python",
   "pygments_lexer": "ipython3",
   "version": "3.11.9"
  }
 },
 "nbformat": 4,
 "nbformat_minor": 2
}
